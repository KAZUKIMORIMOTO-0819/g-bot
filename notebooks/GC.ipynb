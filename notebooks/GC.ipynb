{
 "cells": [
  {
   "cell_type": "markdown",
   "id": "53d17a20-6fc6-4e40-a5de-0a8ebe9cb506",
   "metadata": {},
   "source": [
    "# モジュールインポート"
   ]
  },
  {
   "cell_type": "code",
   "execution_count": 2,
   "id": "cb05f521-2aff-4898-a9d1-064702815b67",
   "metadata": {
    "execution": {
     "iopub.execute_input": "2025-09-27T12:29:12.286012Z",
     "iopub.status.busy": "2025-09-27T12:29:12.285731Z",
     "iopub.status.idle": "2025-09-27T12:29:12.730350Z",
     "shell.execute_reply": "2025-09-27T12:29:12.729563Z",
     "shell.execute_reply.started": "2025-09-27T12:29:12.285990Z"
    }
   },
   "outputs": [],
   "source": [
    "import os\n",
    "import time\n",
    "import json\n",
    "import math\n",
    "import uuid\n",
    "import shutil\n",
    "import math\n",
    "import logging\n",
    "from dataclasses import dataclass, asdict, field\n",
    "from datetime import datetime, timedelta, timezone\n",
    "from typing import Optional, Dict, Any, List, Tuple\n",
    "import pytz\n",
    "\n",
    "import pandas as pd"
   ]
  },
  {
   "cell_type": "markdown",
   "id": "3c188841-a0fc-467c-8a12-10fb8011323b",
   "metadata": {},
   "source": [
    "# 基本設定"
   ]
  },
  {
   "cell_type": "markdown",
   "id": "8e70f301-8183-4c51-ad3b-1bde5576c7f1",
   "metadata": {},
   "source": [
    "## タイムゾーン設定"
   ]
  },
  {
   "cell_type": "code",
   "execution_count": 3,
   "id": "1576dad6-183a-468c-ae11-89cee185a2fe",
   "metadata": {
    "execution": {
     "iopub.execute_input": "2025-09-27T12:29:12.731634Z",
     "iopub.status.busy": "2025-09-27T12:29:12.731343Z",
     "iopub.status.idle": "2025-09-27T12:29:12.750745Z",
     "shell.execute_reply": "2025-09-27T12:29:12.750020Z",
     "shell.execute_reply.started": "2025-09-27T12:29:12.731613Z"
    }
   },
   "outputs": [
    {
     "name": "stdout",
     "output_type": "stream",
     "text": [
      "Asia/Tokyo\n"
     ]
    }
   ],
   "source": [
    "TZ_UTC = timezone.utc\n",
    "try:\n",
    "    TZ_JST = pytz.timezone(\"Asia/Tokyo\")\n",
    "except Exception:\n",
    "    # pytzがない環境でも動くように +09:00 の固定オフセット\n",
    "    TZ_JST = timezone(timedelta(hours=9))\n",
    "print(TZ_JST)"
   ]
  },
  {
   "cell_type": "markdown",
   "id": "c23503f6-f58e-437d-bb8d-d8a02e6701ef",
   "metadata": {},
   "source": [
    "## ロガー設定"
   ]
  },
  {
   "cell_type": "code",
   "execution_count": 4,
   "id": "58bedfec-c252-46e5-a9fc-e36070abe9e2",
   "metadata": {
    "execution": {
     "iopub.execute_input": "2025-09-27T12:29:12.751745Z",
     "iopub.status.busy": "2025-09-27T12:29:12.751531Z",
     "iopub.status.idle": "2025-09-27T12:29:12.758415Z",
     "shell.execute_reply": "2025-09-27T12:29:12.757652Z",
     "shell.execute_reply.started": "2025-09-27T12:29:12.751727Z"
    }
   },
   "outputs": [],
   "source": [
    "### ログ格納用のフォルダの作成\n",
    "LOG_DIR = \"../data/candles/logs\"\n",
    "DATA_DIR = \"../data/candles\"\n",
    "os.makedirs(LOG_DIR, exist_ok=True)\n",
    "os.makedirs(DATA_DIR, exist_ok=True)\n",
    "\n",
    "logger = logging.getLogger(\"data_fetch\")\n",
    "logger.setLevel(logging.INFO)\n",
    "_handler = logging.StreamHandler()\n",
    "_handler.setFormatter(logging.Formatter(\"%(asctime)s [%(levelname)s] %(message)s\"))\n",
    "if not logger.handlers:\n",
    "    logger.addHandler(_handler)\n",
    "\n",
    "### Slackログ用\n",
    "SLACK_LOGGER = logging.getLogger(\"slack_notify\")\n",
    "SLACK_LOGGER.setLevel(logging.INFO)\n",
    "_handler = logging.StreamHandler()\n",
    "_handler.setFormatter(logging.Formatter(\"%(asctime)s [%(levelname)s] %(message)s\"))\n",
    "if not SLACK_LOGGER.handlers:\n",
    "    SLACK_LOGGER.addHandler(_handler)"
   ]
  },
  {
   "cell_type": "markdown",
   "id": "cb062330-b71e-4cbf-a6a2-1e77ca2d881d",
   "metadata": {},
   "source": [
    "## TRADEディレクトリ設定"
   ]
  },
  {
   "cell_type": "code",
   "execution_count": 5,
   "id": "f45e56d3-5bf0-4f51-b248-fd09f1da2a6e",
   "metadata": {
    "execution": {
     "iopub.execute_input": "2025-09-27T12:29:12.760372Z",
     "iopub.status.busy": "2025-09-27T12:29:12.759984Z",
     "iopub.status.idle": "2025-09-27T12:29:12.764535Z",
     "shell.execute_reply": "2025-09-27T12:29:12.763463Z",
     "shell.execute_reply.started": "2025-09-27T12:29:12.760341Z"
    }
   },
   "outputs": [],
   "source": [
    "TRADES_DIR = \"../data/trades\"\n",
    "os.makedirs(TRADES_DIR, exist_ok=True)"
   ]
  },
  {
   "cell_type": "markdown",
   "id": "9bb12cb3-d560-4797-890c-4c8bf141fa0a",
   "metadata": {},
   "source": [
    "## STATEディレクトリ設定"
   ]
  },
  {
   "cell_type": "code",
   "execution_count": 6,
   "id": "7cee77fb-548b-4274-a58a-94d34a105496",
   "metadata": {
    "execution": {
     "iopub.execute_input": "2025-09-27T12:29:12.765818Z",
     "iopub.status.busy": "2025-09-27T12:29:12.765569Z",
     "iopub.status.idle": "2025-09-27T12:29:12.769604Z",
     "shell.execute_reply": "2025-09-27T12:29:12.768843Z",
     "shell.execute_reply.started": "2025-09-27T12:29:12.765798Z"
    }
   },
   "outputs": [],
   "source": [
    "STATE_DIR = \"../data/state\"\n",
    "os.makedirs(STATE_DIR, exist_ok=True)"
   ]
  },
  {
   "cell_type": "markdown",
   "id": "9129d47b-1876-4a9f-ab48-b682d9564826",
   "metadata": {},
   "source": [
    "## METRICSディレクトリ設定"
   ]
  },
  {
   "cell_type": "code",
   "execution_count": 7,
   "id": "cfcc35aa-0023-4b47-81ff-25d9d62bc496",
   "metadata": {
    "execution": {
     "iopub.execute_input": "2025-09-27T12:29:12.770989Z",
     "iopub.status.busy": "2025-09-27T12:29:12.770478Z",
     "iopub.status.idle": "2025-09-27T12:29:12.774644Z",
     "shell.execute_reply": "2025-09-27T12:29:12.773958Z",
     "shell.execute_reply.started": "2025-09-27T12:29:12.770960Z"
    }
   },
   "outputs": [],
   "source": [
    "METRICS_DIR = \"../data/metrics\"\n",
    "os.makedirs(METRICS_DIR, exist_ok=True)"
   ]
  },
  {
   "cell_type": "markdown",
   "id": "156949ff-3002-485b-8a6b-32b137f0ce6a",
   "metadata": {},
   "source": [
    "## JSONディレクトリ設定"
   ]
  },
  {
   "cell_type": "code",
   "execution_count": 8,
   "id": "0b8deabb-e35d-4afc-b815-e2a832afd6f0",
   "metadata": {
    "execution": {
     "iopub.execute_input": "2025-09-27T12:29:12.775749Z",
     "iopub.status.busy": "2025-09-27T12:29:12.775450Z",
     "iopub.status.idle": "2025-09-27T12:29:12.779461Z",
     "shell.execute_reply": "2025-09-27T12:29:12.778772Z",
     "shell.execute_reply.started": "2025-09-27T12:29:12.775720Z"
    }
   },
   "outputs": [],
   "source": [
    "JSONL_DIR = \"../logs/jsonl\"\n",
    "os.makedirs(JSONL_DIR, exist_ok=True)"
   ]
  },
  {
   "cell_type": "markdown",
   "id": "55220133-3a58-4509-ba00-6da9daa11809",
   "metadata": {},
   "source": [
    "## CCXTConfig"
   ]
  },
  {
   "cell_type": "code",
   "execution_count": 9,
   "id": "c3e23105-7362-4ee2-9981-3667e44aa72a",
   "metadata": {
    "execution": {
     "iopub.execute_input": "2025-09-27T12:29:12.780824Z",
     "iopub.status.busy": "2025-09-27T12:29:12.780337Z",
     "iopub.status.idle": "2025-09-27T12:29:12.785891Z",
     "shell.execute_reply": "2025-09-27T12:29:12.785194Z",
     "shell.execute_reply.started": "2025-09-27T12:29:12.780604Z"
    }
   },
   "outputs": [],
   "source": [
    "@dataclass\n",
    "class CCXTConfig:\n",
    "    \"\"\"\n",
    "    処理:\n",
    "        ccxt を用いたデータ取得の設定値を保持するデータクラス。fetchOHLCV / fetchTrades の双方に共通。\n",
    "\n",
    "    INPUT:\n",
    "        - exchange_id (str): 取引所ID（例: \"bitflyer\"）\n",
    "        - symbol (str): 取引ペア（例: \"XRP/JPY\"）\n",
    "        - timeframe (str): 取得足の時間粒度（例: \"1h\"）\n",
    "        - period_sec (int): 足の秒数（例: 3600）\n",
    "        - limit (int): 取得する「確定足」本数（例: 200）\n",
    "        - max_retries (int): 通信リトライ回数\n",
    "        - retry_backoff_sec (float): リトライ時の指数バックオフ係数\n",
    "        - timeout_ms (int): HTTPタイムアウト（ms）\n",
    "        - trades_page_limit (int): fetchTrades の1ページあたりの件数目安（取引所による）\n",
    "        - api_key / secret (str|None): 実運用で必要なら設定（公開データ取得では不要）\n",
    "\n",
    "    OUTPUT:\n",
    "        - なし（設定値の保持のみ）\n",
    "    \"\"\"\n",
    "    exchange_id: str = \"binance\"\n",
    "    symbol: str = \"XRP/JPY\"\n",
    "    timeframe: str = \"1h\"\n",
    "    period_sec: int = 3600\n",
    "    limit: int = 200\n",
    "    max_retries: int = 3\n",
    "    retry_backoff_sec: float = 1.5\n",
    "    timeout_ms: int = 15000\n",
    "    trades_page_limit: int = 500\n",
    "    api_key: Optional[str] = None\n",
    "    secret: Optional[str] = None"
   ]
  },
  {
   "cell_type": "markdown",
   "id": "ce422062-a0a9-4f3f-9fd9-332a44d338df",
   "metadata": {},
   "source": [
    "## SignalParams"
   ]
  },
  {
   "cell_type": "code",
   "execution_count": 10,
   "id": "e62f30ee-9b50-4bf8-b02b-6b63844b5683",
   "metadata": {
    "execution": {
     "iopub.execute_input": "2025-09-27T12:29:12.787273Z",
     "iopub.status.busy": "2025-09-27T12:29:12.786754Z",
     "iopub.status.idle": "2025-09-27T12:29:12.792507Z",
     "shell.execute_reply": "2025-09-27T12:29:12.791742Z",
     "shell.execute_reply.started": "2025-09-27T12:29:12.787242Z"
    }
   },
   "outputs": [],
   "source": [
    "class SignalParams:\n",
    "    \"\"\"\n",
    "    処理:\n",
    "        シグナル計算・判定に用いるパラメータ定義（短期/長期のSMA期間、判定の閾値補正など）。\n",
    "    INPUT:\n",
    "        - short_window (int): 短期SMAの期間。デフォルト=30\n",
    "        - long_window (int): 長期SMAの期間。デフォルト=60\n",
    "        - epsilon (float): SMA比較の際の数値誤差対策（極小値）。\n",
    "    OUTPUT:\n",
    "        - なし（設定値の保持のみ）\n",
    "    \"\"\"\n",
    "    short_window: int = 30\n",
    "    long_window: int = 60\n",
    "    epsilon: float = 1e-12"
   ]
  },
  {
   "cell_type": "markdown",
   "id": "31e281e9-cd21-492c-8a25-2ca6e6f784c7",
   "metadata": {},
   "source": [
    "## OrderParams"
   ]
  },
  {
   "cell_type": "code",
   "execution_count": 11,
   "id": "4ce6d359-e45e-4c6f-a783-ce0117546ec9",
   "metadata": {
    "execution": {
     "iopub.execute_input": "2025-09-27T12:29:12.794897Z",
     "iopub.status.busy": "2025-09-27T12:29:12.794659Z",
     "iopub.status.idle": "2025-09-27T12:29:12.800295Z",
     "shell.execute_reply": "2025-09-27T12:29:12.799373Z",
     "shell.execute_reply.started": "2025-09-27T12:29:12.794874Z"
    }
   },
   "outputs": [],
   "source": [
    "@dataclass\n",
    "class OrderParams:\n",
    "    \"\"\"\n",
    "    処理:\n",
    "        注文に関するパラメータを束ねる設定クラス。\n",
    "        Paper/Realの切替、スリッページ・手数料、1回の発注額（JPY）などを管理。\n",
    "    INPUT:\n",
    "        - mode (str): \"paper\" または \"real\"\n",
    "        - notional_jpy (float): 1回のエントリーで使う想定のJPY額（例: 5000）\n",
    "        - slippage_bps (float): スリッページ（bps指定; 1bps=0.01%）買い時は価格×(1+slip)\n",
    "        - taker_fee_bps (float): 受け取り手数料（想定; 例: 15=0.15%）\n",
    "        - api_key / secret (str|None): Realモードで必要な場合に指定\n",
    "    OUTPUT:\n",
    "        - なし（設定値の保持のみ）\n",
    "    \"\"\"\n",
    "    mode: str = \"paper\"\n",
    "    notional_jpy: float = 500.0\n",
    "    slippage_bps: float = 5.0\n",
    "    taker_fee_bps: float = 15.0\n",
    "    api_key: Optional[str] = None\n",
    "    secret: Optional[str] = None"
   ]
  },
  {
   "cell_type": "markdown",
   "id": "b43b4e3a-1c12-4b1a-952c-b93eaab02d39",
   "metadata": {},
   "source": [
    "## BotState"
   ]
  },
  {
   "cell_type": "code",
   "execution_count": 12,
   "id": "62de603c-e954-485c-962d-e67d3ec3c30f",
   "metadata": {
    "execution": {
     "iopub.execute_input": "2025-09-27T12:29:12.801459Z",
     "iopub.status.busy": "2025-09-27T12:29:12.801204Z",
     "iopub.status.idle": "2025-09-27T12:29:12.808412Z",
     "shell.execute_reply": "2025-09-27T12:29:12.807468Z",
     "shell.execute_reply.started": "2025-09-27T12:29:12.801438Z"
    }
   },
   "outputs": [],
   "source": [
    "@dataclass\n",
    "class BotState:\n",
    "    \"\"\"\n",
    "    処理:\n",
    "        Bot の取引状態を保持するためのデータモデル。\n",
    "        JSONと相互変換しやすいよう、プリミティブ型中心で構成。\n",
    "    INPUT:\n",
    "        - 初期化時パラメータは任意（未指定はデフォルト値）\n",
    "    OUTPUT:\n",
    "        - なし（本クラスは状態保持用）\n",
    "    \"\"\"\n",
    "    position: str = \"FLAT\"           # \"FLAT\" or \"LONG\"\n",
    "    entry_price: float = 0.0\n",
    "    size: float = 0.0\n",
    "    tp: float = 0.0\n",
    "    sl: float = 0.0\n",
    "    pnl_cum: float = 0.0             # 累積損益（JPY）\n",
    "    streak_loss: int = 0             # 連敗カウント\n",
    "    last_gc_bar_ts: Optional[str] = None  # 直近GCバー（ISO文字列, 重複検知用）\n",
    "    entry_ts_jst: Optional[str] = None    # 現在の建玉のエントリー時刻（ISO）\n",
    "    last_updated_jst: Optional[str] = None\n",
    "    last_daily_summary_date: Optional[str] = None  # \"YYYY-MM-DD\"（日次サマリ送信用）"
   ]
  },
  {
   "cell_type": "markdown",
   "id": "e9aff3fc-603b-4267-bd68-9a7672285049",
   "metadata": {},
   "source": [
    "## StateStore"
   ]
  },
  {
   "cell_type": "code",
   "execution_count": 13,
   "id": "11a2ca31-482e-4ddf-a5e1-4460074c0c21",
   "metadata": {
    "execution": {
     "iopub.execute_input": "2025-09-27T12:29:12.809590Z",
     "iopub.status.busy": "2025-09-27T12:29:12.809366Z",
     "iopub.status.idle": "2025-09-27T12:29:12.823748Z",
     "shell.execute_reply": "2025-09-27T12:29:12.823065Z",
     "shell.execute_reply.started": "2025-09-27T12:29:12.809570Z"
    }
   },
   "outputs": [],
   "source": [
    "class StateStore:\n",
    "    \"\"\"\n",
    "    処理:\n",
    "        `state.json` の読み書きと、同時実行衝突防止のための簡易ロックを提供する。\n",
    "        - 原子的保存（temp→置換）で破損防止\n",
    "        - バックアップ `state.json.bak`\n",
    "        - ロックファイル `.lock` による排他（簡易）\n",
    "    INPUT:\n",
    "        - path (str): JSON保存先のパス（例: \"./data/state/state.json\"）\n",
    "    OUTPUT:\n",
    "        - なし（本クラスは I/O のラッパ）\n",
    "    \"\"\"\n",
    "    def __init__(self, path: str):\n",
    "        self.path = path\n",
    "        self.backup_path = f\"{path}.bak\"\n",
    "        self.lock_path = f\"{path}.lock\"\n",
    "        self._lock_token = None\n",
    "\n",
    "    def acquire_lock(self, timeout_sec: float = 5.0) -> bool:\n",
    "        \"\"\"\n",
    "        処理:\n",
    "            ロックファイルを作成し、同時実行を抑止する。\n",
    "        INPUT:\n",
    "            - timeout_sec (float): 取得待ちタイムアウト\n",
    "        OUTPUT:\n",
    "            - (bool): 取得できれば True。失敗すれば False。\n",
    "        \"\"\"\n",
    "        start = time.time()\n",
    "        token = str(uuid.uuid4())\n",
    "        while time.time() - start < timeout_sec:\n",
    "            try:\n",
    "                fd = os.open(self.lock_path, os.O_CREAT | os.O_EXCL | os.O_WRONLY)\n",
    "                with os.fdopen(fd, \"w\") as f:\n",
    "                    f.write(token)\n",
    "                self._lock_token = token\n",
    "                return True\n",
    "            except FileExistsError:\n",
    "                time.sleep(0.1)\n",
    "        return False\n",
    "\n",
    "    def release_lock(self) -> None:\n",
    "        \"\"\"\n",
    "        処理:\n",
    "            自分が保持するロックを解放する（他者のロックは触らない）。\n",
    "        INPUT:\n",
    "            - なし\n",
    "        OUTPUT:\n",
    "            - なし\n",
    "        \"\"\"\n",
    "        try:\n",
    "            if not os.path.exists(self.lock_path):\n",
    "                return\n",
    "            # 自分のトークンのみ解放\n",
    "            with open(self.lock_path, \"r\") as f:\n",
    "                current = f.read().strip()\n",
    "            if current == (self._lock_token or \"\"):\n",
    "                os.remove(self.lock_path)\n",
    "        except Exception:\n",
    "            # ロック解放はベストエフォート\n",
    "            pass\n",
    "        finally:\n",
    "            self._lock_token = None\n",
    "\n",
    "    def load(self) -> BotState:\n",
    "        \"\"\"\n",
    "        処理:\n",
    "            `state.json` を読み込んで `BotState` に復元する。存在しなければデフォルトを返す。\n",
    "        INPUT:\n",
    "            - なし\n",
    "        OUTPUT:\n",
    "            - (BotState): 復元した状態（存在しない場合はデフォルト）\n",
    "        \"\"\"\n",
    "        if not os.path.exists(self.path):\n",
    "            return BotState(last_updated_jst=datetime.now(TZ_JST).isoformat(timespec=\"seconds\"))\n",
    "        try:\n",
    "            with open(self.path, \"r\", encoding=\"utf-8\") as f:\n",
    "                d = json.load(f)\n",
    "            # 不足キーはデフォルトで補完\n",
    "            base = asdict(BotState())\n",
    "            base.update(d or {})\n",
    "            return BotState(**base)\n",
    "        except Exception as e:\n",
    "            logger.warning(f\"state.json の読込に失敗: {e}. backupからの復元を試みます。\")\n",
    "            if os.path.exists(self.backup_path):\n",
    "                with open(self.backup_path, \"r\", encoding=\"utf-8\") as f:\n",
    "                    d = json.load(f)\n",
    "                base = asdict(BotState())\n",
    "                base.update(d or {})\n",
    "                return BotState(**base)\n",
    "            # バックアップも無ければデフォルト\n",
    "            return BotState(last_updated_jst=datetime.now(TZ_JST).isoformat(timespec=\"seconds\"))\n",
    "\n",
    "    def save(self, state: BotState) -> None:\n",
    "        \"\"\"\n",
    "        処理:\n",
    "            状態を JSON に **原子的** に保存し、バックアップも更新する。\n",
    "        INPUT:\n",
    "            - state (BotState): 保存したい状態\n",
    "        OUTPUT:\n",
    "            - なし（失敗時は例外）\n",
    "        \"\"\"\n",
    "        d = asdict(state)\n",
    "        d[\"last_updated_jst\"] = datetime.now(TZ_JST).isoformat(timespec=\"seconds\")\n",
    "        tmp = f\"{self.path}.tmp\"\n",
    "        with open(tmp, \"w\", encoding=\"utf-8\") as f:\n",
    "            json.dump(d, f, ensure_ascii=False, indent=2)\n",
    "        # 既存をバックアップ\n",
    "        if os.path.exists(self.path):\n",
    "            shutil.copy2(self.path, self.backup_path)\n",
    "        # 原子的置換\n",
    "        os.replace(tmp, self.path)\n",
    "\n",
    "    def __enter__(self):\n",
    "        \"\"\"\n",
    "        処理:\n",
    "            `with` 文で使えるようにし、ロック取得 → State 読込を行う。\n",
    "        INPUT:\n",
    "            - なし\n",
    "        OUTPUT:\n",
    "            - (StateStore): 自身を返す（`store.state` を参照可）\n",
    "        \"\"\"\n",
    "        ok = self.acquire_lock(timeout_sec=5.0)\n",
    "        if not ok:\n",
    "            raise RuntimeError(\"state.json のロック取得に失敗しました。\")\n",
    "        self.state = self.load()\n",
    "        return self\n",
    "\n",
    "    def __exit__(self, exc_type, exc, tb):\n",
    "        \"\"\"\n",
    "        処理:\n",
    "            `with` 文を抜ける際にロックを解放する。\n",
    "        INPUT/OUTPUT:\n",
    "            - Pythonのコンテキストマネージャ規約に従う（例外は伝播）\n",
    "        \"\"\"\n",
    "        self.release_lock()"
   ]
  },
  {
   "cell_type": "markdown",
   "id": "1525f0ae-dd38-4068-b767-629661af0651",
   "metadata": {},
   "source": [
    "## SlackConfig"
   ]
  },
  {
   "cell_type": "code",
   "execution_count": 14,
   "id": "278223e2-4acc-47e1-8c46-8fbef6ae8621",
   "metadata": {
    "execution": {
     "iopub.execute_input": "2025-09-27T12:29:12.826039Z",
     "iopub.status.busy": "2025-09-27T12:29:12.825795Z",
     "iopub.status.idle": "2025-09-27T12:29:12.832228Z",
     "shell.execute_reply": "2025-09-27T12:29:12.831476Z",
     "shell.execute_reply.started": "2025-09-27T12:29:12.826018Z"
    }
   },
   "outputs": [],
   "source": [
    "@dataclass\n",
    "class SlackConfig:\n",
    "    \"\"\"\n",
    "    処理:\n",
    "        Slack Webhook 通知の基本設定を保持するデータクラス。\n",
    "    INPUT:\n",
    "        - webhook_url (str|None): Slack Incoming Webhook のURL。None の場合は環境変数から取得を試みる。\n",
    "        - username (str): 通知に表示するbot名\n",
    "        - icon_emoji (str): 通知アイコン（:robot_face: など）\n",
    "        - timeout_sec (int): HTTPタイムアウト\n",
    "        - max_retries (int): 送信リトライ回数\n",
    "        - backoff_factor (float): 指数バックオフ係数\n",
    "    OUTPUT:\n",
    "        - なし（設定値の保持のみ）\n",
    "    \"\"\"\n",
    "    webhook_url: Optional[str] = None\n",
    "    username: str = \"XRP GC Bot\"\n",
    "    icon_emoji: str = \":robot_face:\"\n",
    "    timeout_sec: int = 10\n",
    "    max_retries: int = 3\n",
    "    backoff_factor: float = 1.6\n",
    "\n",
    "    def resolved_url(self) -> Optional[str]:\n",
    "        \"\"\"処理: 優先順位に従ってWebhook URLを返す。INPUT: なし / OUTPUT: str|None\"\"\"\n",
    "        return self.webhook_url or os.getenv(\"SLACK_WEBHOOK_URL\")"
   ]
  },
  {
   "cell_type": "code",
   "execution_count": 14,
   "id": "35e8bf44-0e81-424f-bd53-e59e20fff4a8",
   "metadata": {
    "execution": {
     "iopub.execute_input": "2025-09-27T12:29:12.833567Z",
     "iopub.status.busy": "2025-09-27T12:29:12.833209Z",
     "iopub.status.idle": "2025-09-27T12:29:12.837350Z",
     "shell.execute_reply": "2025-09-27T12:29:12.836351Z",
     "shell.execute_reply.started": "2025-09-27T12:29:12.833428Z"
    }
   },
   "outputs": [],
   "source": [
    "# Slack Webhook URL は環境変数 SLACK_WEBHOOK_URL で指定してください。\n",
    "# 以下は設定例です。実際のシークレットはコードへ記載しないでください。\n",
    "# os.environ[\"SLACK_WEBHOOK_URL\"] = \"https://hooks.slack.com/services/XXXXXXXX/XXXXXXXX/XXXXXXXXXXXXXXXX\"\n"
   ]
  },
  {
   "cell_type": "markdown",
   "id": "24b902e7-11a7-4091-b290-a9bdda594a70",
   "metadata": {},
   "source": [
    "# データ取得"
   ]
  },
  {
   "cell_type": "markdown",
   "id": "c5cfb78f-fe04-470d-805a-204071c845e9",
   "metadata": {},
   "source": [
    "## _floor_to_full_hour_utc"
   ]
  },
  {
   "cell_type": "code",
   "execution_count": 15,
   "id": "28cef18b-d1d7-4612-ac89-4b6269d0d59e",
   "metadata": {
    "execution": {
     "iopub.execute_input": "2025-09-27T12:29:12.838035Z",
     "iopub.status.busy": "2025-09-27T12:29:12.837836Z",
     "iopub.status.idle": "2025-09-27T12:29:12.843323Z",
     "shell.execute_reply": "2025-09-27T12:29:12.842710Z",
     "shell.execute_reply.started": "2025-09-27T12:29:12.838017Z"
    }
   },
   "outputs": [
    {
     "name": "stdout",
     "output_type": "stream",
     "text": [
      "2025-09-21 11:00:00\n"
     ]
    }
   ],
   "source": [
    "def _floor_to_full_hour_utc(dt_utc: datetime) -> datetime:\n",
    "    \"\"\"\n",
    "    処理:\n",
    "        与えられたUTC時刻を「直前のちょうどの時刻（分秒を0）」に丸める。\n",
    "        未確定足（進行中の足）を除外するためのカットオフ基準に利用。\n",
    "\n",
    "    INPUT:\n",
    "        - dt_utc (datetime, tz-aware): UTC タイムゾーンの datetime\n",
    "\n",
    "    OUTPUT:\n",
    "        - (datetime, tz-aware): 分=0, 秒=0, マイクロ秒=0 に切り下げた UTC 時刻\n",
    "    \"\"\"\n",
    "    return dt_utc.replace(minute=0, second=0, microsecond=0)\n",
    "print(_floor_to_full_hour_utc(datetime(2025,9,21,11,33,56)))"
   ]
  },
  {
   "cell_type": "markdown",
   "id": "df07c26e-3986-4c31-8baa-28c00ffe3e7a",
   "metadata": {},
   "source": [
    "## _init_exchange"
   ]
  },
  {
   "cell_type": "code",
   "execution_count": 16,
   "id": "25a81e0a-77a5-4cd9-b833-5dec43f9e7a2",
   "metadata": {
    "execution": {
     "iopub.execute_input": "2025-09-27T12:29:12.844069Z",
     "iopub.status.busy": "2025-09-27T12:29:12.843879Z",
     "iopub.status.idle": "2025-09-27T12:29:13.369196Z",
     "shell.execute_reply": "2025-09-27T12:29:13.368326Z",
     "shell.execute_reply.started": "2025-09-27T12:29:12.844052Z"
    }
   },
   "outputs": [
    {
     "name": "stdout",
     "output_type": "stream",
     "text": [
      "Binance\n"
     ]
    }
   ],
   "source": [
    "def _init_exchange(cfg: CCXTConfig):\n",
    "    \"\"\"\n",
    "    処理:\n",
    "        ccxt の取引所クライアントを初期化し、レートリミット/タイムアウト等を設定する。\n",
    "\n",
    "    INPUT:\n",
    "        - cfg (CCXTConfig): 取引所ID, タイムアウト, APIキー等の設定\n",
    "\n",
    "    OUTPUT:\n",
    "        - (ccxt.Exchange): 初期化済の取引所クライアントインスタンス\n",
    "    \"\"\"\n",
    "    import ccxt\n",
    "    klass = getattr(ccxt, cfg.exchange_id)\n",
    "    exchange = klass({\n",
    "        \"apiKey\": cfg.api_key or \"\",\n",
    "        \"secret\": cfg.secret or \"\",\n",
    "        \"enableRateLimit\": True,\n",
    "        \"timeout\": cfg.timeout_ms,\n",
    "    })\n",
    "    return exchange\n",
    "\n",
    "print( _init_exchange(CCXTConfig))"
   ]
  },
  {
   "cell_type": "markdown",
   "id": "ee50ace6-1911-4b33-b520-1e5d019209c1",
   "metadata": {},
   "source": [
    "## _fetch_ohlcv_direct"
   ]
  },
  {
   "cell_type": "code",
   "execution_count": 17,
   "id": "e3954ee4-236e-4bc9-bd61-70bd51a64ff2",
   "metadata": {
    "execution": {
     "iopub.execute_input": "2025-09-27T12:29:13.370660Z",
     "iopub.status.busy": "2025-09-27T12:29:13.370182Z",
     "iopub.status.idle": "2025-09-27T12:29:14.641364Z",
     "shell.execute_reply": "2025-09-27T12:29:14.640565Z",
     "shell.execute_reply.started": "2025-09-27T12:29:13.370627Z"
    },
    "scrolled": true
   },
   "outputs": [
    {
     "data": {
      "text/plain": [
       "[[1714464000000, 78.18, 80.54, 78.18, 79.75, 10418.0],\n",
       " [1714467600000, 78.94, 78.94, 78.94, 78.94, 38.0],\n",
       " [1714471200000, 79.01, 79.31, 79.01, 79.31, 341.0],\n",
       " [1714474800000, 78.58, 79.2, 78.18, 79.2, 456.0],\n",
       " [1714478400000, 77.07, 77.07, 77.07, 77.07, 3.0],\n",
       " [1714482000000, 77.07, 77.07, 77.07, 77.07, 0.0],\n",
       " [1714485600000, 77.07, 77.07, 77.07, 77.07, 0.0],\n",
       " [1714489200000, 78.62, 89.76, 77.88, 77.88, 72.0],\n",
       " [1714492800000, 78.31, 78.31, 78.31, 78.31, 66.0],\n",
       " [1714496400000, 78.28, 78.28, 78.28, 78.28, 100.0],\n",
       " [1714500000000, 78.28, 78.28, 78.28, 78.28, 0.0],\n",
       " [1714503600000, 79.06, 79.06, 79.06, 79.06, 100.0],\n",
       " [1714507200000, 79.5, 79.5, 79.5, 79.5, 1170.0],\n",
       " [1714510800000, 79.5, 79.5, 79.5, 79.5, 0.0],\n",
       " [1714514400000, 79.5, 79.5, 79.5, 79.5, 0.0],\n",
       " [1714518000000, 79.5, 79.5, 79.5, 79.5, 0.0],\n",
       " [1714521600000, 79.45, 79.45, 79.45, 79.45, 491.0],\n",
       " [1714525200000, 79.48, 79.48, 78.92, 79.03, 1554.0],\n",
       " [1714528800000, 78.83, 78.83, 78.83, 78.83, 534.0],\n",
       " [1714532400000, 79.32, 79.32, 79.32, 79.32, 2.0],\n",
       " [1714536000000, 79.96, 79.98, 79.96, 79.98, 948.0],\n",
       " [1714539600000, 79.41, 79.41, 79.41, 79.41, 11.0],\n",
       " [1714543200000, 79.41, 79.41, 79.41, 79.41, 62.0],\n",
       " [1714546800000, 78.77, 78.91, 78.0, 78.01, 6948.0],\n",
       " [1714550400000, 78.21, 78.21, 76.32, 76.32, 222.0],\n",
       " [1714554000000, 77.0, 77.7, 77.0, 77.7, 394.0],\n",
       " [1714557600000, 78.93, 79.03, 77.52, 78.0, 798.0],\n",
       " [1714561200000, 78.0, 78.0, 78.0, 78.0, 22.0],\n",
       " [1714564800000, 78.11, 78.11, 78.11, 78.11, 12.0],\n",
       " [1714568400000, 78.12, 79.44, 78.11, 79.44, 105.0],\n",
       " [1714572000000, 79.44, 79.44, 79.44, 79.44, 0.0],\n",
       " [1714575600000, 79.85, 79.85, 79.85, 79.85, 11.0],\n",
       " [1714579200000, 78.57, 78.57, 78.57, 78.57, 100.0],\n",
       " [1714582800000, 78.57, 78.57, 78.57, 78.57, 0.0],\n",
       " [1714586400000, 78.57, 78.57, 78.57, 78.57, 0.0],\n",
       " [1714590000000, 78.57, 78.57, 78.57, 78.57, 0.0],\n",
       " [1714593600000, 78.57, 78.57, 78.57, 78.57, 0.0],\n",
       " [1714597200000, 79.64, 79.83, 79.64, 79.83, 608.0],\n",
       " [1714600800000, 79.83, 79.83, 79.83, 79.83, 25.0],\n",
       " [1714604400000, 79.92, 80.43, 79.92, 80.4, 1031.0],\n",
       " [1714608000000, 80.47, 80.47, 80.47, 80.47, 2.0],\n",
       " [1714611600000, 80.47, 80.47, 80.47, 80.47, 0.0],\n",
       " [1714615200000, 80.47, 80.94, 80.47, 80.94, 88.0],\n",
       " [1714618800000, 79.92, 79.92, 79.92, 79.92, 85.0],\n",
       " [1714622400000, 80.0, 81.56, 79.8, 79.8, 1854.0],\n",
       " [1714626000000, 79.8, 81.03, 79.8, 81.03, 525.0],\n",
       " [1714629600000, 79.58, 79.58, 79.58, 79.58, 1341.0],\n",
       " [1714633200000, 79.58, 79.58, 79.58, 79.58, 216.0],\n",
       " [1714636800000, 79.58, 79.58, 79.58, 79.58, 0.0],\n",
       " [1714640400000, 79.58, 79.58, 79.58, 79.58, 0.0],\n",
       " [1714644000000, 79.58, 79.58, 79.58, 79.58, 0.0],\n",
       " [1714647600000, 80.14, 80.14, 80.14, 80.14, 67.0],\n",
       " [1714651200000, 81.37, 81.37, 81.37, 81.37, 163.0],\n",
       " [1714654800000, 80.0, 80.0, 80.0, 80.0, 375.0],\n",
       " [1714658400000, 80.0, 80.0, 80.0, 80.0, 0.0],\n",
       " [1714662000000, 80.0, 80.0, 80.0, 80.0, 0.0],\n",
       " [1714665600000, 80.0, 80.0, 80.0, 80.0, 0.0],\n",
       " [1714669200000, 80.0, 80.0, 80.0, 80.0, 0.0],\n",
       " [1714672800000, 80.0, 80.0, 80.0, 80.0, 0.0],\n",
       " [1714676400000, 80.0, 80.0, 80.0, 80.0, 0.0],\n",
       " [1714680000000, 80.0, 80.0, 80.0, 80.0, 0.0],\n",
       " [1714683600000, 80.0, 80.0, 80.0, 80.0, 0.0],\n",
       " [1714687200000, 80.0, 80.0, 80.0, 80.0, 0.0],\n",
       " [1714690800000, 80.0, 80.0, 79.17, 79.17, 7339.0],\n",
       " [1714694400000, 79.17, 79.17, 79.17, 79.17, 0.0],\n",
       " [1714698000000, 79.36, 79.36, 79.36, 79.36, 33.0],\n",
       " [1714701600000, 79.36, 79.36, 79.36, 79.36, 0.0],\n",
       " [1714705200000, 79.75, 79.75, 79.75, 79.75, 19.0],\n",
       " [1714708800000, 79.75, 79.75, 79.75, 79.75, 0.0],\n",
       " [1714712400000, 79.74, 79.74, 79.74, 79.74, 74.0],\n",
       " [1714716000000, 79.7, 79.7, 79.7, 79.7, 500.0],\n",
       " [1714719600000, 79.7, 79.7, 79.7, 79.7, 33.0],\n",
       " [1714723200000, 79.7, 79.7, 79.7, 79.7, 0.0],\n",
       " [1714726800000, 79.73, 79.73, 79.73, 79.73, 1354.0],\n",
       " [1714730400000, 79.73, 79.73, 79.73, 79.73, 0.0],\n",
       " [1714734000000, 79.73, 79.73, 79.73, 79.73, 0.0],\n",
       " [1714737600000, 79.15, 79.15, 79.15, 79.15, 26.0],\n",
       " [1714741200000, 80.01, 80.01, 80.01, 80.01, 277.0],\n",
       " [1714744800000, 80.02, 82.04, 80.02, 82.04, 349.0],\n",
       " [1714748400000, 82.0, 82.0, 80.4, 80.4, 172.0],\n",
       " [1714752000000, 80.4, 80.4, 80.4, 80.4, 0.0],\n",
       " [1714755600000, 80.4, 80.4, 80.4, 80.4, 0.0],\n",
       " [1714759200000, 82.04, 82.04, 82.03, 82.03, 44.0],\n",
       " [1714762800000, 82.03, 82.03, 82.03, 82.03, 0.0],\n",
       " [1714766400000, 82.03, 82.06, 82.03, 82.06, 3872.0],\n",
       " [1714770000000, 81.43, 81.43, 81.43, 81.43, 55.0],\n",
       " [1714773600000, 81.47, 81.47, 81.47, 81.47, 1506.0],\n",
       " [1714777200000, 81.43, 81.43, 81.43, 81.43, 1485.0],\n",
       " [1714780800000, 82.0, 82.0, 81.99, 81.99, 12255.0],\n",
       " [1714784400000, 81.99, 81.99, 81.99, 81.99, 0.0],\n",
       " [1714788000000, 82.0, 82.0, 82.0, 82.0, 8939.0],\n",
       " [1714791600000, 82.0, 82.0, 82.0, 82.0, 0.0],\n",
       " [1714795200000, 80.43, 80.43, 80.43, 80.43, 200.0],\n",
       " [1714798800000, 80.52, 80.52, 80.52, 80.52, 200.0],\n",
       " [1714802400000, 80.52, 80.52, 80.52, 80.52, 0.0],\n",
       " [1714806000000, 80.75, 80.75, 80.75, 80.75, 296.0],\n",
       " [1714809600000, 80.75, 80.75, 80.75, 80.75, 0.0],\n",
       " [1714813200000, 80.75, 80.75, 80.75, 80.75, 0.0],\n",
       " [1714816800000, 80.75, 80.75, 80.75, 80.75, 0.0],\n",
       " [1714820400000, 80.75, 80.75, 80.75, 80.75, 0.0],\n",
       " [1714824000000, 80.75, 80.75, 80.75, 80.75, 0.0],\n",
       " [1714827600000, 82.5, 82.5, 82.5, 82.5, 165.0],\n",
       " [1714831200000, 82.5, 82.5, 82.5, 82.5, 0.0],\n",
       " [1714834800000, 81.76, 81.76, 81.76, 81.76, 1249.0],\n",
       " [1714838400000, 81.76, 81.76, 81.76, 81.76, 0.0],\n",
       " [1714842000000, 81.75, 81.75, 81.75, 81.75, 611.0],\n",
       " [1714845600000, 81.75, 81.75, 81.75, 81.75, 0.0],\n",
       " [1714849200000, 81.75, 81.75, 81.75, 81.75, 0.0],\n",
       " [1714852800000, 81.75, 81.75, 81.75, 81.75, 0.0],\n",
       " [1714856400000, 81.75, 81.75, 81.75, 81.75, 0.0],\n",
       " [1714860000000, 81.75, 81.75, 81.75, 81.75, 0.0],\n",
       " [1714863600000, 81.75, 81.75, 81.75, 81.75, 0.0],\n",
       " [1714867200000, 81.75, 81.75, 81.75, 81.75, 0.0],\n",
       " [1714870800000, 81.75, 81.75, 81.75, 81.75, 23.0],\n",
       " [1714874400000, 81.75, 81.75, 81.75, 81.75, 19.0],\n",
       " [1714878000000, 81.75, 81.75, 81.75, 81.75, 0.0],\n",
       " [1714881600000, 81.75, 81.75, 81.75, 81.75, 2.0],\n",
       " [1714885200000, 80.56, 80.56, 80.56, 80.56, 1219.0],\n",
       " [1714888800000, 80.56, 80.56, 80.56, 80.56, 0.0],\n",
       " [1714892400000, 80.56, 80.56, 80.56, 80.56, 0.0],\n",
       " [1714896000000, 80.56, 80.56, 80.56, 80.56, 0.0],\n",
       " [1714899600000, 88.81, 88.81, 80.31, 80.31, 668.0],\n",
       " [1714903200000, 80.31, 80.31, 80.31, 80.31, 0.0],\n",
       " [1714906800000, 80.31, 80.31, 80.31, 80.31, 0.0],\n",
       " [1714910400000, 80.31, 80.31, 80.31, 80.31, 0.0],\n",
       " [1714914000000, 80.31, 80.31, 80.31, 80.31, 0.0],\n",
       " [1714917600000, 80.31, 80.31, 80.31, 80.31, 0.0],\n",
       " [1714921200000, 80.31, 80.31, 80.31, 80.31, 0.0],\n",
       " [1714924800000, 80.31, 80.31, 80.31, 80.31, 0.0],\n",
       " [1714928400000, 80.31, 80.31, 80.31, 80.31, 0.0],\n",
       " [1714932000000, 80.31, 80.31, 80.31, 80.31, 0.0],\n",
       " [1714935600000, 80.31, 80.31, 80.31, 80.31, 0.0],\n",
       " [1714939200000, 80.31, 80.31, 80.31, 80.31, 0.0],\n",
       " [1714942800000, 80.31, 80.31, 80.31, 80.31, 0.0],\n",
       " [1714946400000, 80.31, 80.31, 80.31, 80.31, 0.0],\n",
       " [1714950000000, 80.31, 80.31, 80.31, 80.31, 0.0],\n",
       " [1714953600000, 81.4, 81.45, 81.4, 81.45, 653.0],\n",
       " [1714957200000, 81.45, 81.7, 81.45, 81.7, 950.0],\n",
       " [1714960800000, 81.63, 81.63, 80.92, 80.92, 3745.0],\n",
       " [1714964400000, 81.41, 82.0, 81.41, 82.0, 747.0],\n",
       " [1714968000000, 81.64, 82.64, 81.64, 82.64, 1120.0],\n",
       " [1714971600000, 82.64, 82.64, 82.64, 82.64, 0.0],\n",
       " [1714975200000, 82.64, 82.64, 82.64, 82.64, 0.0],\n",
       " [1714978800000, 82.64, 82.64, 82.64, 82.64, 0.0],\n",
       " [1714982400000, 84.88, 84.88, 84.88, 84.88, 75.0],\n",
       " [1714986000000, 83.37, 83.37, 83.37, 83.37, 750.0],\n",
       " [1714989600000, 83.37, 83.37, 83.37, 83.37, 278.0],\n",
       " [1714993200000, 83.47, 83.47, 82.39, 82.39, 980.0],\n",
       " [1714996800000, 82.39, 82.39, 82.39, 82.39, 0.0],\n",
       " [1715000400000, 81.46, 81.56, 81.46, 81.46, 7430.0],\n",
       " [1715004000000, 81.77, 82.64, 81.77, 81.77, 36.0],\n",
       " [1715007600000, 83.45, 83.47, 83.45, 83.47, 785.0],\n",
       " [1715011200000, 83.47, 83.47, 83.47, 83.47, 0.0],\n",
       " [1715014800000, 84.79, 84.79, 84.78, 84.78, 721.0],\n",
       " [1715018400000, 84.78, 84.78, 84.78, 84.78, 0.0],\n",
       " [1715022000000, 84.78, 84.78, 84.78, 84.78, 0.0],\n",
       " [1715025600000, 84.78, 84.78, 84.78, 84.78, 0.0],\n",
       " [1715029200000, 83.93, 83.93, 83.92, 83.92, 1400.0],\n",
       " [1715032800000, 82.73, 82.73, 82.72, 82.72, 185.0],\n",
       " [1715036400000, 83.17, 83.17, 83.08, 83.08, 2720.0],\n",
       " [1715040000000, 83.08, 83.08, 83.08, 83.08, 0.0],\n",
       " [1715043600000, 83.2, 83.59, 83.2, 83.59, 845.0],\n",
       " [1715047200000, 83.6, 85.4, 83.6, 85.4, 2934.0],\n",
       " [1715050800000, 83.11, 83.36, 83.11, 83.14, 4554.0],\n",
       " [1715054400000, 83.14, 83.14, 83.14, 83.14, 49.0],\n",
       " [1715058000000, 82.95, 82.95, 82.95, 82.95, 284.0],\n",
       " [1715061600000, 84.28, 84.28, 82.11, 83.77, 2423.0],\n",
       " [1715065200000, 82.71, 83.0, 82.67, 83.0, 1419.0],\n",
       " [1715068800000, 83.67, 84.16, 83.67, 84.16, 483.0],\n",
       " [1715072400000, 84.16, 84.16, 84.16, 84.16, 0.0],\n",
       " [1715076000000, 84.16, 84.16, 84.16, 84.16, 237.0],\n",
       " [1715079600000, 82.58, 82.58, 82.57, 82.57, 25.0],\n",
       " [1715083200000, 84.16, 84.46, 84.16, 84.46, 2598.0],\n",
       " [1715086800000, 84.45, 84.45, 82.99, 82.99, 732.0],\n",
       " [1715090400000, 82.99, 82.99, 82.99, 82.99, 1154.0],\n",
       " [1715094000000, 83.08, 83.08, 83.08, 83.08, 275.0],\n",
       " [1715097600000, 83.08, 83.08, 83.08, 83.08, 0.0],\n",
       " [1715101200000, 83.08, 83.08, 83.08, 83.08, 0.0],\n",
       " [1715104800000, 83.08, 83.08, 83.08, 83.08, 0.0],\n",
       " [1715108400000, 84.74, 84.74, 84.74, 84.74, 31.0],\n",
       " [1715112000000, 84.74, 84.74, 84.74, 84.74, 0.0],\n",
       " [1715115600000, 84.74, 84.74, 84.74, 84.74, 0.0],\n",
       " [1715119200000, 82.08, 82.08, 82.07, 82.07, 38.0],\n",
       " [1715122800000, 82.07, 82.07, 82.07, 82.07, 0.0],\n",
       " [1715126400000, 82.05, 82.05, 82.05, 82.05, 7508.0],\n",
       " [1715130000000, 82.03, 82.03, 82.03, 82.03, 15.0],\n",
       " [1715133600000, 82.03, 82.03, 82.03, 82.03, 288.0],\n",
       " [1715137200000, 81.98, 81.98, 81.39, 81.39, 526.0],\n",
       " [1715140800000, 82.03, 82.05, 81.7, 81.7, 9033.0],\n",
       " [1715144400000, 81.7, 81.7, 81.7, 81.7, 0.0],\n",
       " [1715148000000, 81.7, 81.7, 81.7, 81.7, 2.0],\n",
       " [1715151600000, 81.7, 81.7, 81.7, 81.7, 0.0],\n",
       " [1715155200000, 81.4, 81.4, 81.4, 81.4, 1358.0],\n",
       " [1715158800000, 81.4, 81.4, 81.4, 81.4, 0.0],\n",
       " [1715162400000, 81.4, 83.96, 81.4, 83.23, 2168.0],\n",
       " [1715166000000, 81.1, 81.1, 81.1, 81.1, 95.0],\n",
       " [1715169600000, 80.99, 80.99, 80.04, 80.04, 766.0],\n",
       " [1715173200000, 80.82, 82.45, 80.82, 82.45, 632.0],\n",
       " [1715176800000, 81.49, 81.49, 81.48, 81.48, 456.0],\n",
       " [1715180400000, 81.48, 81.48, 81.48, 81.48, 0.0],\n",
       " [1715184000000, 81.48, 81.48, 81.48, 81.48, 0.0],\n",
       " [1715187600000, 81.92, 81.92, 81.92, 81.92, 8.0],\n",
       " [1715191200000, 81.92, 81.92, 81.92, 81.92, 0.0],\n",
       " [1715194800000, 81.92, 81.92, 81.92, 81.92, 0.0],\n",
       " [1715198400000, 81.48, 81.48, 81.48, 81.48, 1251.0]]"
      ]
     },
     "execution_count": 17,
     "metadata": {},
     "output_type": "execute_result"
    }
   ],
   "source": [
    "def _fetch_ohlcv_direct(exchange, cfg: CCXTConfig, since_ms: int) -> List[List[Any]]:\n",
    "    \"\"\"\n",
    "    処理:\n",
    "        取引所が `fetchOHLCV` に対応している場合に、直接 OHLCV を取得する。\n",
    "        未確定足が混じる可能性があるため、後段でカットオフ処理を行う。\n",
    "\n",
    "    INPUT:\n",
    "        - exchange (ccxt.Exchange): 初期化済みの取引所クライアント\n",
    "        - cfg (CCXTConfig): 取得条件\n",
    "        - since_ms (int): 取得開始のUNIXミリ秒（過去に遡る起点）\n",
    "\n",
    "    OUTPUT:\n",
    "        - (List[List[Any]]): ccxt準拠の OHLCV リスト（[timestamp, open, high, low, close, volume]）\n",
    "        - 例外: 通信/APIエラーは送り返す（上位でリトライ）\n",
    "    \"\"\"\n",
    "    ohlcv = exchange.fetch_ohlcv(\n",
    "        symbol=cfg.symbol,\n",
    "        timeframe=cfg.timeframe,\n",
    "        since=since_ms,\n",
    "        limit=cfg.limit + 5  # バッファを持って取得\n",
    "    )\n",
    "    return ohlcv\n",
    "\n",
    "_fetch_ohlcv_direct(_init_exchange(CCXTConfig), CCXTConfig,1)"
   ]
  },
  {
   "cell_type": "markdown",
   "id": "d65aaef0-ef1e-428b-a0ba-da06bfd36837",
   "metadata": {},
   "source": [
    "##  _fetch_ohlcv_via_trades"
   ]
  },
  {
   "cell_type": "code",
   "execution_count": 18,
   "id": "c4c3ecb9-6fa3-4849-bc06-eb8d6db61d30",
   "metadata": {
    "execution": {
     "iopub.execute_input": "2025-09-27T12:29:14.642526Z",
     "iopub.status.busy": "2025-09-27T12:29:14.642234Z",
     "iopub.status.idle": "2025-09-27T12:29:15.828361Z",
     "shell.execute_reply": "2025-09-27T12:29:15.827636Z",
     "shell.execute_reply.started": "2025-09-27T12:29:14.642497Z"
    }
   },
   "outputs": [
    {
     "data": {
      "text/plain": [
       "[]"
      ]
     },
     "execution_count": 18,
     "metadata": {},
     "output_type": "execute_result"
    }
   ],
   "source": [
    "def _fetch_ohlcv_via_trades(exchange, cfg: CCXTConfig, since_ms: int, until_ms: int) -> List[List[Any]]:\n",
    "    \"\"\"\n",
    "    処理:\n",
    "        取引所が `fetchOHLCV` 非対応の場合のフォールバック。\n",
    "        `fetchTrades` を時間でページングしながら取得し、**1時間バケット**に集計して OHLCV を生成する。\n",
    "\n",
    "    INPUT:\n",
    "        - exchange (ccxt.Exchange): 取引所クライアント\n",
    "        - cfg (CCXTConfig): 設定（symbol, trades_page_limit 等）\n",
    "        - since_ms (int): 取得開始のUNIXミリ秒\n",
    "        - until_ms (int): 取得終了のUNIXミリ秒（カットオフ=未確定足直前）\n",
    "\n",
    "    OUTPUT:\n",
    "        - (List[List[Any]]): OHLCVリスト [ts(ms), o, h, l, c, v]\n",
    "        - 注意: 取引が極端に少ない時間帯はバーが生成されない場合あり（後続でreindex）\n",
    "    \"\"\"\n",
    "    all_trades: List[Dict[str, Any]] = []\n",
    "    cursor = since_ms\n",
    "    while True:\n",
    "        trades = exchange.fetch_trades(\n",
    "            symbol=cfg.symbol,\n",
    "            since=cursor,\n",
    "            limit=cfg.trades_page_limit\n",
    "        )\n",
    "        if not trades:\n",
    "            break\n",
    "        all_trades.extend(trades)\n",
    "        last_ts = trades[-1][\"timestamp\"]\n",
    "        if last_ts >= until_ms:\n",
    "            break\n",
    "        # ページング（最後のタイムスタンプ + 1ms から再開）\n",
    "        cursor = last_ts + 1\n",
    "        # レートリミット（enableRateLimit有効でも軽くsleep）\n",
    "        time.sleep(exchange.rateLimit / 1000.0 if hasattr(exchange, \"rateLimit\") else 0.2)\n",
    "\n",
    "    if not all_trades:\n",
    "        return []\n",
    "\n",
    "    # トレードを DataFrame に詰めて時間バケットでOHLCVへ集計\n",
    "    tdf = pd.DataFrame([\n",
    "        {\"ts\": t[\"timestamp\"], \"price\": float(t[\"price\"]), \"amount\": float(t[\"amount\"])}\n",
    "        for t in all_trades\n",
    "    ])\n",
    "    tdf[\"dt_utc\"] = pd.to_datetime(tdf[\"ts\"], unit=\"ms\", utc=True)\n",
    "    # 1時間バケットキー（床関数）\n",
    "    bin_seconds = cfg.period_sec\n",
    "    tdf[\"bucket_utc\"] = (tdf[\"ts\"] // (bin_seconds * 1000)) * (bin_seconds * 1000)\n",
    "\n",
    "    # 集計\n",
    "    def ohlc_agg(g: pd.DataFrame) -> pd.Series:\n",
    "        g_sorted = g.sort_values(\"ts\")\n",
    "        o = g_sorted[\"price\"].iloc[0]\n",
    "        h = g[\"price\"].max()\n",
    "        l = g[\"price\"].min()\n",
    "        c = g_sorted[\"price\"].iloc[-1]\n",
    "        v = g[\"amount\"].sum()\n",
    "        return pd.Series({\"open\": o, \"high\": h, \"low\": l, \"close\": c, \"volume\": v})\n",
    "\n",
    "    odf = tdf.groupby(\"bucket_utc\").apply(ohlc_agg).reset_index()\n",
    "    odf = odf.rename(columns={\"bucket_utc\": \"timestamp_ms\"})\n",
    "    odf = odf[(odf[\"timestamp_ms\"] >= since_ms) & (odf[\"timestamp_ms\"] <= until_ms)]\n",
    "    ohlcv = odf[[\"timestamp_ms\", \"open\", \"high\", \"low\", \"close\", \"volume\"]].values.tolist()\n",
    "    return ohlcv\n",
    "\n",
    "_fetch_ohlcv_via_trades(_init_exchange(CCXTConfig), CCXTConfig, 1, 1)"
   ]
  },
  {
   "cell_type": "code",
   "execution_count": 19,
   "id": "c38f7dff-4a9f-44f5-884b-0eb22585aeb1",
   "metadata": {
    "execution": {
     "iopub.execute_input": "2025-09-27T12:29:15.829701Z",
     "iopub.status.busy": "2025-09-27T12:29:15.829400Z",
     "iopub.status.idle": "2025-09-27T12:29:17.113317Z",
     "shell.execute_reply": "2025-09-27T12:29:17.112423Z",
     "shell.execute_reply.started": "2025-09-27T12:29:15.829672Z"
    }
   },
   "outputs": [
    {
     "data": {
      "text/html": [
       "<div>\n",
       "<style scoped>\n",
       "    .dataframe tbody tr th:only-of-type {\n",
       "        vertical-align: middle;\n",
       "    }\n",
       "\n",
       "    .dataframe tbody tr th {\n",
       "        vertical-align: top;\n",
       "    }\n",
       "\n",
       "    .dataframe thead th {\n",
       "        text-align: right;\n",
       "    }\n",
       "</style>\n",
       "<table border=\"1\" class=\"dataframe\">\n",
       "  <thead>\n",
       "    <tr style=\"text-align: right;\">\n",
       "      <th></th>\n",
       "      <th>open_time_jst</th>\n",
       "      <th>open</th>\n",
       "      <th>high</th>\n",
       "      <th>low</th>\n",
       "      <th>close</th>\n",
       "      <th>volume</th>\n",
       "      <th>open_time_utc</th>\n",
       "      <th>close_time_utc</th>\n",
       "      <th>timestamp_ms</th>\n",
       "    </tr>\n",
       "    <tr>\n",
       "      <th>close_time_jst</th>\n",
       "      <th></th>\n",
       "      <th></th>\n",
       "      <th></th>\n",
       "      <th></th>\n",
       "      <th></th>\n",
       "      <th></th>\n",
       "      <th></th>\n",
       "      <th></th>\n",
       "      <th></th>\n",
       "    </tr>\n",
       "  </thead>\n",
       "  <tbody>\n",
       "    <tr>\n",
       "      <th>2025-09-19 13:00:00+09:00</th>\n",
       "      <td>2025-09-19 12:00:00+09:00</td>\n",
       "      <td>450.91</td>\n",
       "      <td>451.00</td>\n",
       "      <td>446.59</td>\n",
       "      <td>451.00</td>\n",
       "      <td>125922.0</td>\n",
       "      <td>2025-09-19 03:00:00+00:00</td>\n",
       "      <td>2025-09-19 04:00:00+00:00</td>\n",
       "      <td>1758254400000</td>\n",
       "    </tr>\n",
       "    <tr>\n",
       "      <th>2025-09-19 14:00:00+09:00</th>\n",
       "      <td>2025-09-19 13:00:00+09:00</td>\n",
       "      <td>450.92</td>\n",
       "      <td>451.53</td>\n",
       "      <td>449.24</td>\n",
       "      <td>450.85</td>\n",
       "      <td>45081.7</td>\n",
       "      <td>2025-09-19 04:00:00+00:00</td>\n",
       "      <td>2025-09-19 05:00:00+00:00</td>\n",
       "      <td>1758258000000</td>\n",
       "    </tr>\n",
       "    <tr>\n",
       "      <th>2025-09-19 15:00:00+09:00</th>\n",
       "      <td>2025-09-19 14:00:00+09:00</td>\n",
       "      <td>450.84</td>\n",
       "      <td>450.84</td>\n",
       "      <td>448.61</td>\n",
       "      <td>448.77</td>\n",
       "      <td>118918.3</td>\n",
       "      <td>2025-09-19 05:00:00+00:00</td>\n",
       "      <td>2025-09-19 06:00:00+00:00</td>\n",
       "      <td>1758261600000</td>\n",
       "    </tr>\n",
       "    <tr>\n",
       "      <th>2025-09-19 16:00:00+09:00</th>\n",
       "      <td>2025-09-19 15:00:00+09:00</td>\n",
       "      <td>448.76</td>\n",
       "      <td>450.98</td>\n",
       "      <td>448.44</td>\n",
       "      <td>450.60</td>\n",
       "      <td>75779.5</td>\n",
       "      <td>2025-09-19 06:00:00+00:00</td>\n",
       "      <td>2025-09-19 07:00:00+00:00</td>\n",
       "      <td>1758265200000</td>\n",
       "    </tr>\n",
       "    <tr>\n",
       "      <th>2025-09-19 17:00:00+09:00</th>\n",
       "      <td>2025-09-19 16:00:00+09:00</td>\n",
       "      <td>450.59</td>\n",
       "      <td>452.00</td>\n",
       "      <td>450.06</td>\n",
       "      <td>450.11</td>\n",
       "      <td>54109.0</td>\n",
       "      <td>2025-09-19 07:00:00+00:00</td>\n",
       "      <td>2025-09-19 08:00:00+00:00</td>\n",
       "      <td>1758268800000</td>\n",
       "    </tr>\n",
       "    <tr>\n",
       "      <th>...</th>\n",
       "      <td>...</td>\n",
       "      <td>...</td>\n",
       "      <td>...</td>\n",
       "      <td>...</td>\n",
       "      <td>...</td>\n",
       "      <td>...</td>\n",
       "      <td>...</td>\n",
       "      <td>...</td>\n",
       "      <td>...</td>\n",
       "    </tr>\n",
       "    <tr>\n",
       "      <th>2025-09-27 16:00:00+09:00</th>\n",
       "      <td>2025-09-27 15:00:00+09:00</td>\n",
       "      <td>419.32</td>\n",
       "      <td>420.00</td>\n",
       "      <td>416.78</td>\n",
       "      <td>416.79</td>\n",
       "      <td>41173.6</td>\n",
       "      <td>2025-09-27 06:00:00+00:00</td>\n",
       "      <td>2025-09-27 07:00:00+00:00</td>\n",
       "      <td>1758956400000</td>\n",
       "    </tr>\n",
       "    <tr>\n",
       "      <th>2025-09-27 17:00:00+09:00</th>\n",
       "      <td>2025-09-27 16:00:00+09:00</td>\n",
       "      <td>416.87</td>\n",
       "      <td>416.92</td>\n",
       "      <td>414.95</td>\n",
       "      <td>415.08</td>\n",
       "      <td>43128.9</td>\n",
       "      <td>2025-09-27 07:00:00+00:00</td>\n",
       "      <td>2025-09-27 08:00:00+00:00</td>\n",
       "      <td>1758960000000</td>\n",
       "    </tr>\n",
       "    <tr>\n",
       "      <th>2025-09-27 18:00:00+09:00</th>\n",
       "      <td>2025-09-27 17:00:00+09:00</td>\n",
       "      <td>415.10</td>\n",
       "      <td>417.07</td>\n",
       "      <td>414.07</td>\n",
       "      <td>416.74</td>\n",
       "      <td>31636.4</td>\n",
       "      <td>2025-09-27 08:00:00+00:00</td>\n",
       "      <td>2025-09-27 09:00:00+00:00</td>\n",
       "      <td>1758963600000</td>\n",
       "    </tr>\n",
       "    <tr>\n",
       "      <th>2025-09-27 19:00:00+09:00</th>\n",
       "      <td>2025-09-27 18:00:00+09:00</td>\n",
       "      <td>416.80</td>\n",
       "      <td>418.64</td>\n",
       "      <td>416.52</td>\n",
       "      <td>418.00</td>\n",
       "      <td>40235.9</td>\n",
       "      <td>2025-09-27 09:00:00+00:00</td>\n",
       "      <td>2025-09-27 10:00:00+00:00</td>\n",
       "      <td>1758967200000</td>\n",
       "    </tr>\n",
       "    <tr>\n",
       "      <th>2025-09-27 20:00:00+09:00</th>\n",
       "      <td>2025-09-27 19:00:00+09:00</td>\n",
       "      <td>417.96</td>\n",
       "      <td>417.96</td>\n",
       "      <td>416.07</td>\n",
       "      <td>416.30</td>\n",
       "      <td>24945.2</td>\n",
       "      <td>2025-09-27 10:00:00+00:00</td>\n",
       "      <td>2025-09-27 11:00:00+00:00</td>\n",
       "      <td>1758970800000</td>\n",
       "    </tr>\n",
       "  </tbody>\n",
       "</table>\n",
       "<p>200 rows × 9 columns</p>\n",
       "</div>"
      ],
      "text/plain": [
       "                                      open_time_jst    open    high     low  \\\n",
       "close_time_jst                                                                \n",
       "2025-09-19 13:00:00+09:00 2025-09-19 12:00:00+09:00  450.91  451.00  446.59   \n",
       "2025-09-19 14:00:00+09:00 2025-09-19 13:00:00+09:00  450.92  451.53  449.24   \n",
       "2025-09-19 15:00:00+09:00 2025-09-19 14:00:00+09:00  450.84  450.84  448.61   \n",
       "2025-09-19 16:00:00+09:00 2025-09-19 15:00:00+09:00  448.76  450.98  448.44   \n",
       "2025-09-19 17:00:00+09:00 2025-09-19 16:00:00+09:00  450.59  452.00  450.06   \n",
       "...                                             ...     ...     ...     ...   \n",
       "2025-09-27 16:00:00+09:00 2025-09-27 15:00:00+09:00  419.32  420.00  416.78   \n",
       "2025-09-27 17:00:00+09:00 2025-09-27 16:00:00+09:00  416.87  416.92  414.95   \n",
       "2025-09-27 18:00:00+09:00 2025-09-27 17:00:00+09:00  415.10  417.07  414.07   \n",
       "2025-09-27 19:00:00+09:00 2025-09-27 18:00:00+09:00  416.80  418.64  416.52   \n",
       "2025-09-27 20:00:00+09:00 2025-09-27 19:00:00+09:00  417.96  417.96  416.07   \n",
       "\n",
       "                            close    volume             open_time_utc  \\\n",
       "close_time_jst                                                          \n",
       "2025-09-19 13:00:00+09:00  451.00  125922.0 2025-09-19 03:00:00+00:00   \n",
       "2025-09-19 14:00:00+09:00  450.85   45081.7 2025-09-19 04:00:00+00:00   \n",
       "2025-09-19 15:00:00+09:00  448.77  118918.3 2025-09-19 05:00:00+00:00   \n",
       "2025-09-19 16:00:00+09:00  450.60   75779.5 2025-09-19 06:00:00+00:00   \n",
       "2025-09-19 17:00:00+09:00  450.11   54109.0 2025-09-19 07:00:00+00:00   \n",
       "...                           ...       ...                       ...   \n",
       "2025-09-27 16:00:00+09:00  416.79   41173.6 2025-09-27 06:00:00+00:00   \n",
       "2025-09-27 17:00:00+09:00  415.08   43128.9 2025-09-27 07:00:00+00:00   \n",
       "2025-09-27 18:00:00+09:00  416.74   31636.4 2025-09-27 08:00:00+00:00   \n",
       "2025-09-27 19:00:00+09:00  418.00   40235.9 2025-09-27 09:00:00+00:00   \n",
       "2025-09-27 20:00:00+09:00  416.30   24945.2 2025-09-27 10:00:00+00:00   \n",
       "\n",
       "                                     close_time_utc   timestamp_ms  \n",
       "close_time_jst                                                      \n",
       "2025-09-19 13:00:00+09:00 2025-09-19 04:00:00+00:00  1758254400000  \n",
       "2025-09-19 14:00:00+09:00 2025-09-19 05:00:00+00:00  1758258000000  \n",
       "2025-09-19 15:00:00+09:00 2025-09-19 06:00:00+00:00  1758261600000  \n",
       "2025-09-19 16:00:00+09:00 2025-09-19 07:00:00+00:00  1758265200000  \n",
       "2025-09-19 17:00:00+09:00 2025-09-19 08:00:00+00:00  1758268800000  \n",
       "...                                             ...            ...  \n",
       "2025-09-27 16:00:00+09:00 2025-09-27 07:00:00+00:00  1758956400000  \n",
       "2025-09-27 17:00:00+09:00 2025-09-27 08:00:00+00:00  1758960000000  \n",
       "2025-09-27 18:00:00+09:00 2025-09-27 09:00:00+00:00  1758963600000  \n",
       "2025-09-27 19:00:00+09:00 2025-09-27 10:00:00+00:00  1758967200000  \n",
       "2025-09-27 20:00:00+09:00 2025-09-27 11:00:00+00:00  1758970800000  \n",
       "\n",
       "[200 rows x 9 columns]"
      ]
     },
     "execution_count": 19,
     "metadata": {},
     "output_type": "execute_result"
    }
   ],
   "source": [
    "def fetch_ohlcv_latest_ccxt(cfg: CCXTConfig) -> pd.DataFrame:\n",
    "    \"\"\"\n",
    "    処理:\n",
    "        - ccxt を用いて bitFlyer の XRP/JPY の **1時間足OHLCV** を「確定足のみ」**最大 cfg.limit 本**取得。\n",
    "        - 可能なら `fetchOHLCV` を使用、非対応なら `fetchTrades` をページングして **1時間集計**で代替。\n",
    "        - 取得後、**未確定足を除外**し、**JST列**を付与、**CSV/Parquet** 保存。\n",
    "        - 保存パスやレコード件数、生成時刻などのメタ情報を `df.attrs[\"meta\"]` に格納。\n",
    "\n",
    "    INPUT:\n",
    "        - cfg (CCXTConfig): 取引ペア、足、上限本数、リトライ/タイムアウトなどの設定\n",
    "\n",
    "    OUTPUT:\n",
    "        - (pd.DataFrame): インデックス=close_time_jst。主な列：\n",
    "            ['open_time_jst','close_time_jst','open','high','low','close','volume',\n",
    "             'open_time_utc','close_time_utc','timestamp_ms']\n",
    "          `df.attrs[\"meta\"]` には各種メタ情報を格納。\n",
    "        - 例外: ネットワーク/APIエラー時は RuntimeError / ValueError を送出\n",
    "    \"\"\"\n",
    "    # カットオフ（未確定足除外用）= 直前の「ちょうどの時」UTC\n",
    "    now_utc = datetime.now(TZ_UTC)\n",
    "    cutoff_utc = _floor_to_full_hour_utc(now_utc)\n",
    "    cutoff_ms = int(cutoff_utc.timestamp() * 1000)\n",
    "\n",
    "    # 取りたい本数 + α を過去に遡る\n",
    "    need = cfg.limit + 5\n",
    "    span_ms = need * cfg.period_sec * 1000\n",
    "    since_ms = cutoff_ms - span_ms\n",
    "\n",
    "    # 取引所初期化\n",
    "    exchange = _init_exchange(cfg)\n",
    "\n",
    "    # マーケットロード（シンボル検証）\n",
    "    last_err = None\n",
    "    for attempt in range(1, cfg.max_retries + 1):\n",
    "        try:\n",
    "            exchange.load_markets()\n",
    "            break\n",
    "        except Exception as e:\n",
    "            last_err = e\n",
    "            time.sleep(cfg.retry_backoff_sec ** (attempt - 1))\n",
    "    else:\n",
    "        raise RuntimeError(f\"load_markets failed after {cfg.max_retries} retries: {last_err}\")\n",
    "\n",
    "    if cfg.symbol not in exchange.symbols:\n",
    "        raise ValueError(f\"Symbol {cfg.symbol} not found on {cfg.exchange_id}.\")\n",
    "\n",
    "    # fetchOHLCV 直接 or fetchTrades フォールバック\n",
    "    ohlcv_rows: List[List[Any]] = []\n",
    "    if getattr(exchange, \"has\", {}).get(\"fetchOHLCV\", False):\n",
    "        for attempt in range(1, cfg.max_retries + 1):\n",
    "            try:\n",
    "                ohlcv_rows = _fetch_ohlcv_direct(exchange, cfg, since_ms)\n",
    "                break\n",
    "            except Exception as e:\n",
    "                last_err = e\n",
    "                time.sleep(cfg.retry_backoff_sec ** (attempt - 1))\n",
    "        else:\n",
    "            raise RuntimeError(f\"fetch_ohlcv failed after {cfg.max_retries} retries: {last_err}\")\n",
    "    else:\n",
    "        for attempt in range(1, cfg.max_retries + 1):\n",
    "            try:\n",
    "                ohlcv_rows = _fetch_ohlcv_via_trades(exchange, cfg, since_ms, cutoff_ms)\n",
    "                break\n",
    "            except Exception as e:\n",
    "                last_err = e\n",
    "                time.sleep(cfg.retry_backoff_sec ** (attempt - 1))\n",
    "        else:\n",
    "            raise RuntimeError(f\"fetch_trades->ohlcv failed after {cfg.max_retries} retries: {last_err}\")\n",
    "\n",
    "    if not ohlcv_rows:\n",
    "        raise ValueError(\"No OHLCV rows acquired.\")\n",
    "\n",
    "    # DataFrameへ正規化\n",
    "    df = pd.DataFrame(ohlcv_rows, columns=[\"timestamp_ms\", \"open\", \"high\", \"low\", \"close\", \"volume\"])\n",
    "\n",
    "    # 未確定足を除外（cutoff_ms より新しいバーが来る実装もあるため）\n",
    "    df = df[df[\"timestamp_ms\"] <= cutoff_ms]\n",
    "\n",
    "    # 最新側から limit 本にトリム（昇順に揃える）\n",
    "    df = df.sort_values(\"timestamp_ms\")\n",
    "    if len(df) > cfg.limit:\n",
    "        df = df.iloc[-cfg.limit:].copy()\n",
    "\n",
    "    # 時刻カラムをUTC/JSTで生成\n",
    "    df[\"close_time_utc\"] = pd.to_datetime(df[\"timestamp_ms\"], unit=\"ms\", utc=True)\n",
    "    df[\"open_time_utc\"] = df[\"close_time_utc\"] - pd.to_timedelta(cfg.period_sec, unit=\"s\")\n",
    "    df[\"close_time_jst\"] = df[\"close_time_utc\"].dt.tz_convert(TZ_JST)\n",
    "    df[\"open_time_jst\"] = df[\"open_time_utc\"].dt.tz_convert(TZ_JST)\n",
    "\n",
    "    # インデックス設定＆列順\n",
    "    df = df.set_index(\"close_time_jst\")\n",
    "    use_cols = [\n",
    "        \"open_time_jst\", \"open\", \"high\", \"low\", \"close\", \"volume\",\n",
    "        \"open_time_utc\", \"close_time_utc\", \"timestamp_ms\",\n",
    "    ]\n",
    "    df = df[use_cols]\n",
    "\n",
    "    # 保存（CSVローテ / Parquet最新）\n",
    "    ts_label = datetime.now(TZ_JST).strftime(\"%Y%m%d_%H%M%S\")\n",
    "    csv_path = os.path.join(LOG_DIR, f\"xrpjpy_1h_{ts_label}.csv\")\n",
    "    df.to_csv(csv_path, encoding=\"utf-8\")\n",
    "    pq_path = os.path.join(DATA_DIR, \"xrpjpy_1h_latest.parquet\")\n",
    "\n",
    "    parquet_ok = False\n",
    "    try:\n",
    "        import pyarrow  # noqa: F401\n",
    "        df.to_parquet(pq_path, index=True)\n",
    "        parquet_ok = True\n",
    "    except Exception as e:\n",
    "        logger.warning(f\"Parquet save skipped (pyarrow未導入 or 失敗): {e}\")\n",
    "\n",
    "    # メタ情報\n",
    "    df.attrs[\"meta\"] = {\n",
    "        \"exchange\": cfg.exchange_id,\n",
    "        \"symbol\": cfg.symbol,\n",
    "        \"timeframe\": cfg.timeframe,\n",
    "        \"period_sec\": cfg.period_sec,\n",
    "        \"limit\": cfg.limit,\n",
    "        \"rows\": len(df),\n",
    "        \"csv_path\": csv_path,\n",
    "        \"parquet_path\": pq_path if parquet_ok else None,\n",
    "        \"cutoff_utc\": cutoff_utc.isoformat(),\n",
    "        \"generated_at_jst\": datetime.now(TZ_JST).isoformat(timespec=\"seconds\"),\n",
    "        \"used_method\": \"fetchOHLCV\" if getattr(_init_exchange(cfg), \"has\", {}).get(\"fetchOHLCV\", False) else \"trades_aggregate\"\n",
    "    }\n",
    "    return df\n",
    "\n",
    "fetch_ohlcv_latest_ccxt(CCXTConfig)"
   ]
  },
  {
   "cell_type": "markdown",
   "id": "ab7b17b1-9655-4ccc-b6b0-0a63905c2be0",
   "metadata": {},
   "source": [
    "## load_latest_cached_ccxt"
   ]
  },
  {
   "cell_type": "code",
   "execution_count": 20,
   "id": "23678196-dc9e-443b-914d-2ab10a705668",
   "metadata": {
    "execution": {
     "iopub.execute_input": "2025-09-27T12:29:17.114621Z",
     "iopub.status.busy": "2025-09-27T12:29:17.114238Z",
     "iopub.status.idle": "2025-09-27T12:29:17.162531Z",
     "shell.execute_reply": "2025-09-27T12:29:17.161015Z",
     "shell.execute_reply.started": "2025-09-27T12:29:17.114591Z"
    }
   },
   "outputs": [
    {
     "data": {
      "text/html": [
       "<div>\n",
       "<style scoped>\n",
       "    .dataframe tbody tr th:only-of-type {\n",
       "        vertical-align: middle;\n",
       "    }\n",
       "\n",
       "    .dataframe tbody tr th {\n",
       "        vertical-align: top;\n",
       "    }\n",
       "\n",
       "    .dataframe thead th {\n",
       "        text-align: right;\n",
       "    }\n",
       "</style>\n",
       "<table border=\"1\" class=\"dataframe\">\n",
       "  <thead>\n",
       "    <tr style=\"text-align: right;\">\n",
       "      <th></th>\n",
       "      <th>open_time_jst</th>\n",
       "      <th>open</th>\n",
       "      <th>high</th>\n",
       "      <th>low</th>\n",
       "      <th>close</th>\n",
       "      <th>volume</th>\n",
       "      <th>open_time_utc</th>\n",
       "      <th>close_time_utc</th>\n",
       "      <th>timestamp_ms</th>\n",
       "    </tr>\n",
       "    <tr>\n",
       "      <th>close_time_jst</th>\n",
       "      <th></th>\n",
       "      <th></th>\n",
       "      <th></th>\n",
       "      <th></th>\n",
       "      <th></th>\n",
       "      <th></th>\n",
       "      <th></th>\n",
       "      <th></th>\n",
       "      <th></th>\n",
       "    </tr>\n",
       "  </thead>\n",
       "  <tbody>\n",
       "    <tr>\n",
       "      <th>2025-09-19 13:00:00+09:00</th>\n",
       "      <td>2025-09-19 12:00:00+09:00</td>\n",
       "      <td>450.91</td>\n",
       "      <td>451.00</td>\n",
       "      <td>446.59</td>\n",
       "      <td>451.00</td>\n",
       "      <td>125922.0</td>\n",
       "      <td>2025-09-19 03:00:00+00:00</td>\n",
       "      <td>2025-09-19 04:00:00+00:00</td>\n",
       "      <td>1758254400000</td>\n",
       "    </tr>\n",
       "    <tr>\n",
       "      <th>2025-09-19 14:00:00+09:00</th>\n",
       "      <td>2025-09-19 13:00:00+09:00</td>\n",
       "      <td>450.92</td>\n",
       "      <td>451.53</td>\n",
       "      <td>449.24</td>\n",
       "      <td>450.85</td>\n",
       "      <td>45081.7</td>\n",
       "      <td>2025-09-19 04:00:00+00:00</td>\n",
       "      <td>2025-09-19 05:00:00+00:00</td>\n",
       "      <td>1758258000000</td>\n",
       "    </tr>\n",
       "    <tr>\n",
       "      <th>2025-09-19 15:00:00+09:00</th>\n",
       "      <td>2025-09-19 14:00:00+09:00</td>\n",
       "      <td>450.84</td>\n",
       "      <td>450.84</td>\n",
       "      <td>448.61</td>\n",
       "      <td>448.77</td>\n",
       "      <td>118918.3</td>\n",
       "      <td>2025-09-19 05:00:00+00:00</td>\n",
       "      <td>2025-09-19 06:00:00+00:00</td>\n",
       "      <td>1758261600000</td>\n",
       "    </tr>\n",
       "    <tr>\n",
       "      <th>2025-09-19 16:00:00+09:00</th>\n",
       "      <td>2025-09-19 15:00:00+09:00</td>\n",
       "      <td>448.76</td>\n",
       "      <td>450.98</td>\n",
       "      <td>448.44</td>\n",
       "      <td>450.60</td>\n",
       "      <td>75779.5</td>\n",
       "      <td>2025-09-19 06:00:00+00:00</td>\n",
       "      <td>2025-09-19 07:00:00+00:00</td>\n",
       "      <td>1758265200000</td>\n",
       "    </tr>\n",
       "    <tr>\n",
       "      <th>2025-09-19 17:00:00+09:00</th>\n",
       "      <td>2025-09-19 16:00:00+09:00</td>\n",
       "      <td>450.59</td>\n",
       "      <td>452.00</td>\n",
       "      <td>450.06</td>\n",
       "      <td>450.11</td>\n",
       "      <td>54109.0</td>\n",
       "      <td>2025-09-19 07:00:00+00:00</td>\n",
       "      <td>2025-09-19 08:00:00+00:00</td>\n",
       "      <td>1758268800000</td>\n",
       "    </tr>\n",
       "    <tr>\n",
       "      <th>...</th>\n",
       "      <td>...</td>\n",
       "      <td>...</td>\n",
       "      <td>...</td>\n",
       "      <td>...</td>\n",
       "      <td>...</td>\n",
       "      <td>...</td>\n",
       "      <td>...</td>\n",
       "      <td>...</td>\n",
       "      <td>...</td>\n",
       "    </tr>\n",
       "    <tr>\n",
       "      <th>2025-09-27 16:00:00+09:00</th>\n",
       "      <td>2025-09-27 15:00:00+09:00</td>\n",
       "      <td>419.32</td>\n",
       "      <td>420.00</td>\n",
       "      <td>416.78</td>\n",
       "      <td>416.79</td>\n",
       "      <td>41173.6</td>\n",
       "      <td>2025-09-27 06:00:00+00:00</td>\n",
       "      <td>2025-09-27 07:00:00+00:00</td>\n",
       "      <td>1758956400000</td>\n",
       "    </tr>\n",
       "    <tr>\n",
       "      <th>2025-09-27 17:00:00+09:00</th>\n",
       "      <td>2025-09-27 16:00:00+09:00</td>\n",
       "      <td>416.87</td>\n",
       "      <td>416.92</td>\n",
       "      <td>414.95</td>\n",
       "      <td>415.08</td>\n",
       "      <td>43128.9</td>\n",
       "      <td>2025-09-27 07:00:00+00:00</td>\n",
       "      <td>2025-09-27 08:00:00+00:00</td>\n",
       "      <td>1758960000000</td>\n",
       "    </tr>\n",
       "    <tr>\n",
       "      <th>2025-09-27 18:00:00+09:00</th>\n",
       "      <td>2025-09-27 17:00:00+09:00</td>\n",
       "      <td>415.10</td>\n",
       "      <td>417.07</td>\n",
       "      <td>414.07</td>\n",
       "      <td>416.74</td>\n",
       "      <td>31636.4</td>\n",
       "      <td>2025-09-27 08:00:00+00:00</td>\n",
       "      <td>2025-09-27 09:00:00+00:00</td>\n",
       "      <td>1758963600000</td>\n",
       "    </tr>\n",
       "    <tr>\n",
       "      <th>2025-09-27 19:00:00+09:00</th>\n",
       "      <td>2025-09-27 18:00:00+09:00</td>\n",
       "      <td>416.80</td>\n",
       "      <td>418.64</td>\n",
       "      <td>416.52</td>\n",
       "      <td>418.00</td>\n",
       "      <td>40235.9</td>\n",
       "      <td>2025-09-27 09:00:00+00:00</td>\n",
       "      <td>2025-09-27 10:00:00+00:00</td>\n",
       "      <td>1758967200000</td>\n",
       "    </tr>\n",
       "    <tr>\n",
       "      <th>2025-09-27 20:00:00+09:00</th>\n",
       "      <td>2025-09-27 19:00:00+09:00</td>\n",
       "      <td>417.96</td>\n",
       "      <td>417.96</td>\n",
       "      <td>416.07</td>\n",
       "      <td>416.30</td>\n",
       "      <td>24945.2</td>\n",
       "      <td>2025-09-27 10:00:00+00:00</td>\n",
       "      <td>2025-09-27 11:00:00+00:00</td>\n",
       "      <td>1758970800000</td>\n",
       "    </tr>\n",
       "  </tbody>\n",
       "</table>\n",
       "<p>200 rows × 9 columns</p>\n",
       "</div>"
      ],
      "text/plain": [
       "                                      open_time_jst    open    high     low  \\\n",
       "close_time_jst                                                                \n",
       "2025-09-19 13:00:00+09:00 2025-09-19 12:00:00+09:00  450.91  451.00  446.59   \n",
       "2025-09-19 14:00:00+09:00 2025-09-19 13:00:00+09:00  450.92  451.53  449.24   \n",
       "2025-09-19 15:00:00+09:00 2025-09-19 14:00:00+09:00  450.84  450.84  448.61   \n",
       "2025-09-19 16:00:00+09:00 2025-09-19 15:00:00+09:00  448.76  450.98  448.44   \n",
       "2025-09-19 17:00:00+09:00 2025-09-19 16:00:00+09:00  450.59  452.00  450.06   \n",
       "...                                             ...     ...     ...     ...   \n",
       "2025-09-27 16:00:00+09:00 2025-09-27 15:00:00+09:00  419.32  420.00  416.78   \n",
       "2025-09-27 17:00:00+09:00 2025-09-27 16:00:00+09:00  416.87  416.92  414.95   \n",
       "2025-09-27 18:00:00+09:00 2025-09-27 17:00:00+09:00  415.10  417.07  414.07   \n",
       "2025-09-27 19:00:00+09:00 2025-09-27 18:00:00+09:00  416.80  418.64  416.52   \n",
       "2025-09-27 20:00:00+09:00 2025-09-27 19:00:00+09:00  417.96  417.96  416.07   \n",
       "\n",
       "                            close    volume             open_time_utc  \\\n",
       "close_time_jst                                                          \n",
       "2025-09-19 13:00:00+09:00  451.00  125922.0 2025-09-19 03:00:00+00:00   \n",
       "2025-09-19 14:00:00+09:00  450.85   45081.7 2025-09-19 04:00:00+00:00   \n",
       "2025-09-19 15:00:00+09:00  448.77  118918.3 2025-09-19 05:00:00+00:00   \n",
       "2025-09-19 16:00:00+09:00  450.60   75779.5 2025-09-19 06:00:00+00:00   \n",
       "2025-09-19 17:00:00+09:00  450.11   54109.0 2025-09-19 07:00:00+00:00   \n",
       "...                           ...       ...                       ...   \n",
       "2025-09-27 16:00:00+09:00  416.79   41173.6 2025-09-27 06:00:00+00:00   \n",
       "2025-09-27 17:00:00+09:00  415.08   43128.9 2025-09-27 07:00:00+00:00   \n",
       "2025-09-27 18:00:00+09:00  416.74   31636.4 2025-09-27 08:00:00+00:00   \n",
       "2025-09-27 19:00:00+09:00  418.00   40235.9 2025-09-27 09:00:00+00:00   \n",
       "2025-09-27 20:00:00+09:00  416.30   24945.2 2025-09-27 10:00:00+00:00   \n",
       "\n",
       "                                     close_time_utc   timestamp_ms  \n",
       "close_time_jst                                                      \n",
       "2025-09-19 13:00:00+09:00 2025-09-19 04:00:00+00:00  1758254400000  \n",
       "2025-09-19 14:00:00+09:00 2025-09-19 05:00:00+00:00  1758258000000  \n",
       "2025-09-19 15:00:00+09:00 2025-09-19 06:00:00+00:00  1758261600000  \n",
       "2025-09-19 16:00:00+09:00 2025-09-19 07:00:00+00:00  1758265200000  \n",
       "2025-09-19 17:00:00+09:00 2025-09-19 08:00:00+00:00  1758268800000  \n",
       "...                                             ...            ...  \n",
       "2025-09-27 16:00:00+09:00 2025-09-27 07:00:00+00:00  1758956400000  \n",
       "2025-09-27 17:00:00+09:00 2025-09-27 08:00:00+00:00  1758960000000  \n",
       "2025-09-27 18:00:00+09:00 2025-09-27 09:00:00+00:00  1758963600000  \n",
       "2025-09-27 19:00:00+09:00 2025-09-27 10:00:00+00:00  1758967200000  \n",
       "2025-09-27 20:00:00+09:00 2025-09-27 11:00:00+00:00  1758970800000  \n",
       "\n",
       "[200 rows x 9 columns]"
      ]
     },
     "execution_count": 20,
     "metadata": {},
     "output_type": "execute_result"
    }
   ],
   "source": [
    "def load_latest_cached_ccxt() -> pd.DataFrame:\n",
    "    \"\"\"\n",
    "    処理:\n",
    "        ccxt版の保存先（`./data/candles/xrpjpy_1h_latest.parquet`）を優先して読み込み、\n",
    "        無ければ `./data/candles/logs/` の最新CSVをロードする。\n",
    "\n",
    "    INPUT:\n",
    "        - なし（保存先ディレクトリを既定パスから探索）\n",
    "\n",
    "    OUTPUT:\n",
    "        - (pd.DataFrame): `fetch_ohlcv_latest_ccxt` と同じ列構成の DataFrame\n",
    "        - 例外: キャッシュが存在しない場合は FileNotFoundError\n",
    "    \"\"\"\n",
    "    pq_path = os.path.join(DATA_DIR, \"xrpjpy_1h_latest.parquet\")\n",
    "    if os.path.exists(pq_path):\n",
    "        return pd.read_parquet(pq_path)\n",
    "\n",
    "    csv_files = sorted(\n",
    "        [f for f in os.listdir(LOG_DIR) if f.startswith(\"xrpjpy_1h_\") and f.endswith(\".csv\")]\n",
    "    )\n",
    "    if not csv_files:\n",
    "        raise FileNotFoundError(\"No cached parquet or CSV logs found.\")\n",
    "    latest_csv = os.path.join(LOG_DIR, csv_files[-1])\n",
    "    return pd.read_csv(\n",
    "        latest_csv,\n",
    "        parse_dates=[\"open_time_utc\", \"close_time_utc\", \"open_time_jst\", \"close_time_jst\"],\n",
    "        index_col=\"close_time_jst\"\n",
    "    )\n",
    "\n",
    "load_latest_cached_ccxt()"
   ]
  },
  {
   "cell_type": "markdown",
   "id": "353e30f2-3e5d-4e37-9ad9-e358f43195b3",
   "metadata": {},
   "source": [
    "## お試し"
   ]
  },
  {
   "cell_type": "code",
   "execution_count": 21,
   "id": "feddf448-ea33-42ae-8a26-a7276a29ce86",
   "metadata": {
    "execution": {
     "iopub.execute_input": "2025-09-27T12:29:17.164952Z",
     "iopub.status.busy": "2025-09-27T12:29:17.164569Z",
     "iopub.status.idle": "2025-09-27T12:29:18.380170Z",
     "shell.execute_reply": "2025-09-27T12:29:18.379381Z",
     "shell.execute_reply.started": "2025-09-27T12:29:17.164930Z"
    }
   },
   "outputs": [
    {
     "name": "stdout",
     "output_type": "stream",
     "text": [
      "Fetched 200 rows via fetchOHLCV.\n",
      "Saved CSV -> ../data/candles/logs/xrpjpy_1h_20250927_212918.csv\n",
      "Saved Parquet -> ../data/candles/xrpjpy_1h_latest.parquet\n"
     ]
    },
    {
     "data": {
      "text/html": [
       "<div>\n",
       "<style scoped>\n",
       "    .dataframe tbody tr th:only-of-type {\n",
       "        vertical-align: middle;\n",
       "    }\n",
       "\n",
       "    .dataframe tbody tr th {\n",
       "        vertical-align: top;\n",
       "    }\n",
       "\n",
       "    .dataframe thead th {\n",
       "        text-align: right;\n",
       "    }\n",
       "</style>\n",
       "<table border=\"1\" class=\"dataframe\">\n",
       "  <thead>\n",
       "    <tr style=\"text-align: right;\">\n",
       "      <th></th>\n",
       "      <th>open_time_jst</th>\n",
       "      <th>open</th>\n",
       "      <th>high</th>\n",
       "      <th>low</th>\n",
       "      <th>close</th>\n",
       "      <th>volume</th>\n",
       "      <th>open_time_utc</th>\n",
       "      <th>close_time_utc</th>\n",
       "      <th>timestamp_ms</th>\n",
       "    </tr>\n",
       "    <tr>\n",
       "      <th>close_time_jst</th>\n",
       "      <th></th>\n",
       "      <th></th>\n",
       "      <th></th>\n",
       "      <th></th>\n",
       "      <th></th>\n",
       "      <th></th>\n",
       "      <th></th>\n",
       "      <th></th>\n",
       "      <th></th>\n",
       "    </tr>\n",
       "  </thead>\n",
       "  <tbody>\n",
       "    <tr>\n",
       "      <th>2025-09-27 16:00:00+09:00</th>\n",
       "      <td>2025-09-27 15:00:00+09:00</td>\n",
       "      <td>419.32</td>\n",
       "      <td>420.00</td>\n",
       "      <td>416.78</td>\n",
       "      <td>416.79</td>\n",
       "      <td>41173.6</td>\n",
       "      <td>2025-09-27 06:00:00+00:00</td>\n",
       "      <td>2025-09-27 07:00:00+00:00</td>\n",
       "      <td>1758956400000</td>\n",
       "    </tr>\n",
       "    <tr>\n",
       "      <th>2025-09-27 17:00:00+09:00</th>\n",
       "      <td>2025-09-27 16:00:00+09:00</td>\n",
       "      <td>416.87</td>\n",
       "      <td>416.92</td>\n",
       "      <td>414.95</td>\n",
       "      <td>415.08</td>\n",
       "      <td>43128.9</td>\n",
       "      <td>2025-09-27 07:00:00+00:00</td>\n",
       "      <td>2025-09-27 08:00:00+00:00</td>\n",
       "      <td>1758960000000</td>\n",
       "    </tr>\n",
       "    <tr>\n",
       "      <th>2025-09-27 18:00:00+09:00</th>\n",
       "      <td>2025-09-27 17:00:00+09:00</td>\n",
       "      <td>415.10</td>\n",
       "      <td>417.07</td>\n",
       "      <td>414.07</td>\n",
       "      <td>416.74</td>\n",
       "      <td>31636.4</td>\n",
       "      <td>2025-09-27 08:00:00+00:00</td>\n",
       "      <td>2025-09-27 09:00:00+00:00</td>\n",
       "      <td>1758963600000</td>\n",
       "    </tr>\n",
       "    <tr>\n",
       "      <th>2025-09-27 19:00:00+09:00</th>\n",
       "      <td>2025-09-27 18:00:00+09:00</td>\n",
       "      <td>416.80</td>\n",
       "      <td>418.64</td>\n",
       "      <td>416.52</td>\n",
       "      <td>418.00</td>\n",
       "      <td>40235.9</td>\n",
       "      <td>2025-09-27 09:00:00+00:00</td>\n",
       "      <td>2025-09-27 10:00:00+00:00</td>\n",
       "      <td>1758967200000</td>\n",
       "    </tr>\n",
       "    <tr>\n",
       "      <th>2025-09-27 20:00:00+09:00</th>\n",
       "      <td>2025-09-27 19:00:00+09:00</td>\n",
       "      <td>417.96</td>\n",
       "      <td>417.96</td>\n",
       "      <td>416.07</td>\n",
       "      <td>416.30</td>\n",
       "      <td>24945.2</td>\n",
       "      <td>2025-09-27 10:00:00+00:00</td>\n",
       "      <td>2025-09-27 11:00:00+00:00</td>\n",
       "      <td>1758970800000</td>\n",
       "    </tr>\n",
       "  </tbody>\n",
       "</table>\n",
       "</div>"
      ],
      "text/plain": [
       "                                      open_time_jst    open    high     low  \\\n",
       "close_time_jst                                                                \n",
       "2025-09-27 16:00:00+09:00 2025-09-27 15:00:00+09:00  419.32  420.00  416.78   \n",
       "2025-09-27 17:00:00+09:00 2025-09-27 16:00:00+09:00  416.87  416.92  414.95   \n",
       "2025-09-27 18:00:00+09:00 2025-09-27 17:00:00+09:00  415.10  417.07  414.07   \n",
       "2025-09-27 19:00:00+09:00 2025-09-27 18:00:00+09:00  416.80  418.64  416.52   \n",
       "2025-09-27 20:00:00+09:00 2025-09-27 19:00:00+09:00  417.96  417.96  416.07   \n",
       "\n",
       "                            close   volume             open_time_utc  \\\n",
       "close_time_jst                                                         \n",
       "2025-09-27 16:00:00+09:00  416.79  41173.6 2025-09-27 06:00:00+00:00   \n",
       "2025-09-27 17:00:00+09:00  415.08  43128.9 2025-09-27 07:00:00+00:00   \n",
       "2025-09-27 18:00:00+09:00  416.74  31636.4 2025-09-27 08:00:00+00:00   \n",
       "2025-09-27 19:00:00+09:00  418.00  40235.9 2025-09-27 09:00:00+00:00   \n",
       "2025-09-27 20:00:00+09:00  416.30  24945.2 2025-09-27 10:00:00+00:00   \n",
       "\n",
       "                                     close_time_utc   timestamp_ms  \n",
       "close_time_jst                                                      \n",
       "2025-09-27 16:00:00+09:00 2025-09-27 07:00:00+00:00  1758956400000  \n",
       "2025-09-27 17:00:00+09:00 2025-09-27 08:00:00+00:00  1758960000000  \n",
       "2025-09-27 18:00:00+09:00 2025-09-27 09:00:00+00:00  1758963600000  \n",
       "2025-09-27 19:00:00+09:00 2025-09-27 10:00:00+00:00  1758967200000  \n",
       "2025-09-27 20:00:00+09:00 2025-09-27 11:00:00+00:00  1758970800000  "
      ]
     },
     "metadata": {},
     "output_type": "display_data"
    }
   ],
   "source": [
    "# === 使い方（実行例・オンライン環境で） ===\n",
    "if __name__ == \"__main__\":\n",
    "    cfg = CCXTConfig(limit=200)\n",
    "    try:\n",
    "        df = fetch_ohlcv_latest_ccxt(cfg)\n",
    "        meta = df.attrs.get(\"meta\", {})\n",
    "        print(f\"Fetched {meta.get('rows')} rows via {meta.get('used_method')}.\")\n",
    "        print(f\"Saved CSV -> {meta.get('csv_path')}\")\n",
    "        if meta.get(\"parquet_path\"):\n",
    "            print(f\"Saved Parquet -> {meta.get('parquet_path')}\")\n",
    "        display(df.tail(5))\n",
    "    except Exception as e:\n",
    "        logger.exception(f\"Data fetch error: {e}\")\n",
    "        print(\"取得に失敗した場合は、キャッシュ読込を試してください：\\n\"\n",
    "              \"df_cached = load_latest_cached_ccxt(); display(df_cached.tail(5))\")"
   ]
  },
  {
   "cell_type": "markdown",
   "id": "ad91aa5d-48c6-4c41-86aa-b075093ef2d0",
   "metadata": {},
   "source": [
    "# シグナル作成"
   ]
  },
  {
   "cell_type": "markdown",
   "id": "0aa34db1-5484-4e5b-989b-0523964bff32",
   "metadata": {},
   "source": [
    "## add_sma_columns()"
   ]
  },
  {
   "cell_type": "code",
   "execution_count": 22,
   "id": "54f57856-758c-4773-bc27-f08719d1f54f",
   "metadata": {
    "execution": {
     "iopub.execute_input": "2025-09-27T12:29:18.381560Z",
     "iopub.status.busy": "2025-09-27T12:29:18.381225Z",
     "iopub.status.idle": "2025-09-27T12:29:18.399211Z",
     "shell.execute_reply": "2025-09-27T12:29:18.398503Z",
     "shell.execute_reply.started": "2025-09-27T12:29:18.381529Z"
    }
   },
   "outputs": [
    {
     "data": {
      "text/html": [
       "<div>\n",
       "<style scoped>\n",
       "    .dataframe tbody tr th:only-of-type {\n",
       "        vertical-align: middle;\n",
       "    }\n",
       "\n",
       "    .dataframe tbody tr th {\n",
       "        vertical-align: top;\n",
       "    }\n",
       "\n",
       "    .dataframe thead th {\n",
       "        text-align: right;\n",
       "    }\n",
       "</style>\n",
       "<table border=\"1\" class=\"dataframe\">\n",
       "  <thead>\n",
       "    <tr style=\"text-align: right;\">\n",
       "      <th></th>\n",
       "      <th>open_time_jst</th>\n",
       "      <th>open</th>\n",
       "      <th>high</th>\n",
       "      <th>low</th>\n",
       "      <th>close</th>\n",
       "      <th>volume</th>\n",
       "      <th>open_time_utc</th>\n",
       "      <th>close_time_utc</th>\n",
       "      <th>timestamp_ms</th>\n",
       "      <th>sma_short</th>\n",
       "      <th>sma_long</th>\n",
       "    </tr>\n",
       "    <tr>\n",
       "      <th>close_time_jst</th>\n",
       "      <th></th>\n",
       "      <th></th>\n",
       "      <th></th>\n",
       "      <th></th>\n",
       "      <th></th>\n",
       "      <th></th>\n",
       "      <th></th>\n",
       "      <th></th>\n",
       "      <th></th>\n",
       "      <th></th>\n",
       "      <th></th>\n",
       "    </tr>\n",
       "  </thead>\n",
       "  <tbody>\n",
       "    <tr>\n",
       "      <th>2025-09-27 18:00:00+09:00</th>\n",
       "      <td>2025-09-27 17:00:00+09:00</td>\n",
       "      <td>415.10</td>\n",
       "      <td>417.07</td>\n",
       "      <td>414.07</td>\n",
       "      <td>416.74</td>\n",
       "      <td>31636.4</td>\n",
       "      <td>2025-09-27 08:00:00+00:00</td>\n",
       "      <td>2025-09-27 09:00:00+00:00</td>\n",
       "      <td>1758963600000</td>\n",
       "      <td>415.128000</td>\n",
       "      <td>418.593833</td>\n",
       "    </tr>\n",
       "    <tr>\n",
       "      <th>2025-09-27 19:00:00+09:00</th>\n",
       "      <td>2025-09-27 18:00:00+09:00</td>\n",
       "      <td>416.80</td>\n",
       "      <td>418.64</td>\n",
       "      <td>416.52</td>\n",
       "      <td>418.00</td>\n",
       "      <td>40235.9</td>\n",
       "      <td>2025-09-27 09:00:00+00:00</td>\n",
       "      <td>2025-09-27 10:00:00+00:00</td>\n",
       "      <td>1758967200000</td>\n",
       "      <td>415.232000</td>\n",
       "      <td>418.252000</td>\n",
       "    </tr>\n",
       "    <tr>\n",
       "      <th>2025-09-27 20:00:00+09:00</th>\n",
       "      <td>2025-09-27 19:00:00+09:00</td>\n",
       "      <td>417.96</td>\n",
       "      <td>417.96</td>\n",
       "      <td>416.07</td>\n",
       "      <td>416.30</td>\n",
       "      <td>24945.2</td>\n",
       "      <td>2025-09-27 10:00:00+00:00</td>\n",
       "      <td>2025-09-27 11:00:00+00:00</td>\n",
       "      <td>1758970800000</td>\n",
       "      <td>415.321333</td>\n",
       "      <td>417.924833</td>\n",
       "    </tr>\n",
       "  </tbody>\n",
       "</table>\n",
       "</div>"
      ],
      "text/plain": [
       "                                      open_time_jst    open    high     low  \\\n",
       "close_time_jst                                                                \n",
       "2025-09-27 18:00:00+09:00 2025-09-27 17:00:00+09:00  415.10  417.07  414.07   \n",
       "2025-09-27 19:00:00+09:00 2025-09-27 18:00:00+09:00  416.80  418.64  416.52   \n",
       "2025-09-27 20:00:00+09:00 2025-09-27 19:00:00+09:00  417.96  417.96  416.07   \n",
       "\n",
       "                            close   volume             open_time_utc  \\\n",
       "close_time_jst                                                         \n",
       "2025-09-27 18:00:00+09:00  416.74  31636.4 2025-09-27 08:00:00+00:00   \n",
       "2025-09-27 19:00:00+09:00  418.00  40235.9 2025-09-27 09:00:00+00:00   \n",
       "2025-09-27 20:00:00+09:00  416.30  24945.2 2025-09-27 10:00:00+00:00   \n",
       "\n",
       "                                     close_time_utc   timestamp_ms  \\\n",
       "close_time_jst                                                       \n",
       "2025-09-27 18:00:00+09:00 2025-09-27 09:00:00+00:00  1758963600000   \n",
       "2025-09-27 19:00:00+09:00 2025-09-27 10:00:00+00:00  1758967200000   \n",
       "2025-09-27 20:00:00+09:00 2025-09-27 11:00:00+00:00  1758970800000   \n",
       "\n",
       "                            sma_short    sma_long  \n",
       "close_time_jst                                     \n",
       "2025-09-27 18:00:00+09:00  415.128000  418.593833  \n",
       "2025-09-27 19:00:00+09:00  415.232000  418.252000  \n",
       "2025-09-27 20:00:00+09:00  415.321333  417.924833  "
      ]
     },
     "execution_count": 22,
     "metadata": {},
     "output_type": "execute_result"
    }
   ],
   "source": [
    "def add_sma_columns(df: pd.DataFrame, params: SignalParams) -> pd.DataFrame:\n",
    "    \"\"\"\n",
    "    処理:\n",
    "        与えられたローソク足DataFrameに、短期/長期SMA列を追加して返す。\n",
    "        対象は close 列。long_window 本以上のデータがなければ例外を送出。\n",
    "    INPUT:\n",
    "        - df (pd.DataFrame): インデックス=時間（推奨: close_time_jst）。少なくとも 'close' 列を含むこと。\n",
    "        - params (SignalParams): 短期/長期の期間設定等。\n",
    "    OUTPUT:\n",
    "        - (pd.DataFrame): 'sma_short', 'sma_long' を追加した DataFrame（元の参照とは別オブジェクト）。\n",
    "        - 例外:\n",
    "            - ValueError: データ本数不足（len(df) < long_window）\n",
    "            - KeyError: 'close' 列が存在しない\n",
    "    \"\"\"\n",
    "    if \"close\" not in df.columns:\n",
    "        raise KeyError(\"DataFrameに 'close' 列がありません。\")\n",
    "\n",
    "    if len(df) < params.long_window:\n",
    "        raise ValueError(f\"Not enough bars to compute SMA: need >= {params.long_window}, got {len(df)}.\")\n",
    "\n",
    "    out = df.copy()\n",
    "    out[\"sma_short\"] = out[\"close\"].rolling(window=params.short_window, min_periods=params.short_window).mean()\n",
    "    out[\"sma_long\"]  = out[\"close\"].rolling(window=params.long_window,  min_periods=params.long_window).mean()\n",
    "    return out\n",
    "\n",
    "add_sma_columns(df, SignalParams).tail(3)"
   ]
  },
  {
   "cell_type": "markdown",
   "id": "88566a53-134b-41df-90e4-b5502bb5a9b0",
   "metadata": {},
   "source": [
    "## detect_golden_cross_lates()"
   ]
  },
  {
   "cell_type": "code",
   "execution_count": 23,
   "id": "ab97b347-2ac5-4531-a482-1bcab6d87f3d",
   "metadata": {
    "execution": {
     "iopub.execute_input": "2025-09-27T12:29:18.400473Z",
     "iopub.status.busy": "2025-09-27T12:29:18.400120Z",
     "iopub.status.idle": "2025-09-27T12:29:18.413327Z",
     "shell.execute_reply": "2025-09-27T12:29:18.412389Z",
     "shell.execute_reply.started": "2025-09-27T12:29:18.400444Z"
    }
   },
   "outputs": [
    {
     "data": {
      "text/plain": [
       "{'is_gc': False,\n",
       " 'already_signaled': False,\n",
       " 'bar_ts': Timestamp('2025-09-27 20:00:00+0900', tz='Asia/Tokyo'),\n",
       " 'price': 416.3,\n",
       " 'sma_short': 415.32133333333337,\n",
       " 'sma_long': 417.92483333333337,\n",
       " 'prev_sma_short': 415.23199999999997,\n",
       " 'prev_sma_long': 418.25200000000007}"
      ]
     },
     "execution_count": 23,
     "metadata": {},
     "output_type": "execute_result"
    }
   ],
   "source": [
    "def detect_golden_cross_latest(\n",
    "    df_with_sma: pd.DataFrame,\n",
    "    params: SignalParams,\n",
    "    last_signaled_bar_ts: Optional[pd.Timestamp] = None\n",
    ") -> Dict[str, Any]:\n",
    "    \"\"\"\n",
    "    処理:\n",
    "        直近の確定足（= DataFrame の末尾行）で **ゴールデンクロス(GC)** が成立したかを判定する。\n",
    "        判定条件は「直前バーで `sma_short <= sma_long` かつ 直近バーで `sma_short > sma_long`」。\n",
    "        同一バーでの多重検知を避けるため、前回シグナルのバー時刻 `last_signaled_bar_ts` を渡すと、\n",
    "        それと一致するバーでは `already_signaled=True` を立てて発報を抑止できる。\n",
    "    INPUT:\n",
    "        - df_with_sma (pd.DataFrame): 'sma_short','sma_long','close' を含む時系列。末尾が直近確定足。\n",
    "        - params (SignalParams): 判定パラメータ（期間/epsilon）\n",
    "        - last_signaled_bar_ts (pd.Timestamp|None): 直近でシグナル発報済みのバーの時刻（JSTインデックス想定）。\n",
    "    OUTPUT:\n",
    "        - (dict): シグナル判定結果\n",
    "            {\n",
    "              \"is_gc\": bool,                 # 今回バーでGCが成立したか\n",
    "              \"already_signaled\": bool,      # 同一バーの重複か（Trueなら通知/発注は抑止）\n",
    "              \"bar_ts\": pd.Timestamp,        # 今回の判定対象バー（末尾=直近確定足）\n",
    "              \"price\": float,                # 判定バーの終値\n",
    "              \"sma_short\": float,            # 判定バー時点の短期SMA\n",
    "              \"sma_long\": float,             # 判定バー時点の長期SMA\n",
    "              \"prev_sma_short\": float,       # 直前バー時点の短期SMA\n",
    "              \"prev_sma_long\": float,        # 直前バー時点の長期SMA\n",
    "            }\n",
    "        - 例外:\n",
    "            - ValueError: SMAの欠損（計算対象不足）\n",
    "    \"\"\"\n",
    "    if any(col not in df_with_sma.columns for col in [\"sma_short\", \"sma_long\", \"close\"]):\n",
    "        raise ValueError(\"df_with_sma には 'sma_short', 'sma_long', 'close' が必要です。\")\n",
    "\n",
    "    # 末尾が直近確定足\n",
    "    if len(df_with_sma) < 2:\n",
    "        raise ValueError(\"クロス判定には少なくとも2本のバーが必要です。\")\n",
    "\n",
    "    # 末尾と直前の行を取得\n",
    "    latest = df_with_sma.iloc[-1]\n",
    "    prev   = df_with_sma.iloc[-2]\n",
    "    bar_ts = df_with_sma.index[-1]\n",
    "\n",
    "    # SMAが未計算（NaN）の場合は判定できない\n",
    "    if pd.isna(latest[\"sma_short\"]) or pd.isna(latest[\"sma_long\"]) or pd.isna(prev[\"sma_short\"]) or pd.isna(prev[\"sma_long\"]):\n",
    "        raise ValueError(\"SMAがNaNです。データ本数が足りているか確認してください。\")\n",
    "\n",
    "    eps = params.epsilon\n",
    "    crossed_up = (prev[\"sma_short\"] <= prev[\"sma_long\"] + eps) and (latest[\"sma_short\"] > latest[\"sma_long\"] + eps)\n",
    "\n",
    "    already = False\n",
    "    if last_signaled_bar_ts is not None and pd.to_datetime(last_signaled_bar_ts) == pd.to_datetime(bar_ts):\n",
    "        # 同じバーでは重複検知扱い\n",
    "        already = True\n",
    "\n",
    "    return {\n",
    "        \"is_gc\": bool(crossed_up),\n",
    "        \"already_signaled\": bool(already),\n",
    "        \"bar_ts\": bar_ts,\n",
    "        \"price\": float(latest[\"close\"]),\n",
    "        \"sma_short\": float(latest[\"sma_short\"]),\n",
    "        \"sma_long\": float(latest[\"sma_long\"]),\n",
    "        \"prev_sma_short\": float(prev[\"sma_short\"]),\n",
    "        \"prev_sma_long\": float(prev[\"sma_long\"]),\n",
    "    }\n",
    "\n",
    "detect_golden_cross_latest(\n",
    "    add_sma_columns(df, SignalParams),\n",
    "    SignalParams,\n",
    ")"
   ]
  },
  {
   "cell_type": "markdown",
   "id": "f7d7b064-642b-46bb-8f99-a6155c9ac26c",
   "metadata": {},
   "source": [
    "## update_state_after_signal"
   ]
  },
  {
   "cell_type": "code",
   "execution_count": 24,
   "id": "2a3a95da-0170-4e00-a123-f3fe1b95b016",
   "metadata": {
    "execution": {
     "iopub.execute_input": "2025-09-27T12:29:18.414330Z",
     "iopub.status.busy": "2025-09-27T12:29:18.414023Z",
     "iopub.status.idle": "2025-09-27T12:29:18.419642Z",
     "shell.execute_reply": "2025-09-27T12:29:18.419024Z",
     "shell.execute_reply.started": "2025-09-27T12:29:18.414308Z"
    }
   },
   "outputs": [],
   "source": [
    "def update_state_after_signal(state: Dict[str, Any], signal: Dict[str, Any]) -> Dict[str, Any]:\n",
    "    \"\"\"\n",
    "    処理:\n",
    "        シグナル発生後に `state` を更新するヘルパー。\n",
    "        ここでは多重検知防止のための `last_gc_bar_ts`（最後にGCが発生したバー時刻）を更新する。\n",
    "        ※ 将来的に position/entry_price/tp/sl などもここで管理可能。\n",
    "    INPUT:\n",
    "        - state (dict): 既存の状態（なければ空dictでも可）。\n",
    "        - signal (dict): detect_golden_cross_latest() の戻り値。\n",
    "    OUTPUT:\n",
    "        - (dict): 更新済みの state 辞書。\n",
    "            追記/更新されるキー:\n",
    "              - \"last_gc_bar_ts\": pd.Timestamp (ISO文字列で保存するのが推奨)\n",
    "    \"\"\"\n",
    "    new_state = dict(state or {})\n",
    "    if signal.get(\"is_gc\", False):\n",
    "        # 保管はISO文字列にしておくとJSON保存しやすい\n",
    "        ts = signal[\"bar_ts\"]\n",
    "        if hasattr(ts, \"isoformat\"):\n",
    "            ts = ts.isoformat()\n",
    "        new_state[\"last_gc_bar_ts\"] = ts\n",
    "    return new_state"
   ]
  },
  {
   "cell_type": "markdown",
   "id": "cee859c2-4f28-49c8-b538-8dc792e3a598",
   "metadata": {},
   "source": [
    "## お試し"
   ]
  },
  {
   "cell_type": "code",
   "execution_count": 25,
   "id": "ad0ae24e-bcb0-4929-a9e4-9495fb1a35ad",
   "metadata": {
    "execution": {
     "iopub.execute_input": "2025-09-27T12:29:18.420604Z",
     "iopub.status.busy": "2025-09-27T12:29:18.420379Z",
     "iopub.status.idle": "2025-09-27T12:29:18.445147Z",
     "shell.execute_reply": "2025-09-27T12:29:18.444193Z",
     "shell.execute_reply.started": "2025-09-27T12:29:18.420586Z"
    }
   },
   "outputs": [
    {
     "name": "stdout",
     "output_type": "stream",
     "text": [
      "=== Signal Result ===\n",
      "             is_gc: False\n",
      "  already_signaled: False\n",
      "            bar_ts: 2025-09-27 20:00:00+09:00\n",
      "             price: 416.3\n",
      "         sma_short: 415.32133333333337\n",
      "          sma_long: 417.92483333333337\n",
      "    prev_sma_short: 415.23199999999997\n",
      "     prev_sma_long: 418.25200000000007\n",
      "\n",
      "Updated state: {}\n"
     ]
    },
    {
     "data": {
      "text/html": [
       "<div>\n",
       "<style scoped>\n",
       "    .dataframe tbody tr th:only-of-type {\n",
       "        vertical-align: middle;\n",
       "    }\n",
       "\n",
       "    .dataframe tbody tr th {\n",
       "        vertical-align: top;\n",
       "    }\n",
       "\n",
       "    .dataframe thead th {\n",
       "        text-align: right;\n",
       "    }\n",
       "</style>\n",
       "<table border=\"1\" class=\"dataframe\">\n",
       "  <thead>\n",
       "    <tr style=\"text-align: right;\">\n",
       "      <th></th>\n",
       "      <th>open_time_jst</th>\n",
       "      <th>open</th>\n",
       "      <th>high</th>\n",
       "      <th>low</th>\n",
       "      <th>close</th>\n",
       "      <th>volume</th>\n",
       "      <th>open_time_utc</th>\n",
       "      <th>close_time_utc</th>\n",
       "      <th>timestamp_ms</th>\n",
       "      <th>sma_short</th>\n",
       "      <th>sma_long</th>\n",
       "    </tr>\n",
       "    <tr>\n",
       "      <th>close_time_jst</th>\n",
       "      <th></th>\n",
       "      <th></th>\n",
       "      <th></th>\n",
       "      <th></th>\n",
       "      <th></th>\n",
       "      <th></th>\n",
       "      <th></th>\n",
       "      <th></th>\n",
       "      <th></th>\n",
       "      <th></th>\n",
       "      <th></th>\n",
       "    </tr>\n",
       "  </thead>\n",
       "  <tbody>\n",
       "    <tr>\n",
       "      <th>2025-09-27 16:00:00+09:00</th>\n",
       "      <td>2025-09-27 15:00:00+09:00</td>\n",
       "      <td>419.32</td>\n",
       "      <td>420.00</td>\n",
       "      <td>416.78</td>\n",
       "      <td>416.79</td>\n",
       "      <td>41173.6</td>\n",
       "      <td>2025-09-27 06:00:00+00:00</td>\n",
       "      <td>2025-09-27 07:00:00+00:00</td>\n",
       "      <td>1758956400000</td>\n",
       "      <td>415.038000</td>\n",
       "      <td>419.420333</td>\n",
       "    </tr>\n",
       "    <tr>\n",
       "      <th>2025-09-27 17:00:00+09:00</th>\n",
       "      <td>2025-09-27 16:00:00+09:00</td>\n",
       "      <td>416.87</td>\n",
       "      <td>416.92</td>\n",
       "      <td>414.95</td>\n",
       "      <td>415.08</td>\n",
       "      <td>43128.9</td>\n",
       "      <td>2025-09-27 07:00:00+00:00</td>\n",
       "      <td>2025-09-27 08:00:00+00:00</td>\n",
       "      <td>1758960000000</td>\n",
       "      <td>415.056667</td>\n",
       "      <td>418.960167</td>\n",
       "    </tr>\n",
       "    <tr>\n",
       "      <th>2025-09-27 18:00:00+09:00</th>\n",
       "      <td>2025-09-27 17:00:00+09:00</td>\n",
       "      <td>415.10</td>\n",
       "      <td>417.07</td>\n",
       "      <td>414.07</td>\n",
       "      <td>416.74</td>\n",
       "      <td>31636.4</td>\n",
       "      <td>2025-09-27 08:00:00+00:00</td>\n",
       "      <td>2025-09-27 09:00:00+00:00</td>\n",
       "      <td>1758963600000</td>\n",
       "      <td>415.128000</td>\n",
       "      <td>418.593833</td>\n",
       "    </tr>\n",
       "    <tr>\n",
       "      <th>2025-09-27 19:00:00+09:00</th>\n",
       "      <td>2025-09-27 18:00:00+09:00</td>\n",
       "      <td>416.80</td>\n",
       "      <td>418.64</td>\n",
       "      <td>416.52</td>\n",
       "      <td>418.00</td>\n",
       "      <td>40235.9</td>\n",
       "      <td>2025-09-27 09:00:00+00:00</td>\n",
       "      <td>2025-09-27 10:00:00+00:00</td>\n",
       "      <td>1758967200000</td>\n",
       "      <td>415.232000</td>\n",
       "      <td>418.252000</td>\n",
       "    </tr>\n",
       "    <tr>\n",
       "      <th>2025-09-27 20:00:00+09:00</th>\n",
       "      <td>2025-09-27 19:00:00+09:00</td>\n",
       "      <td>417.96</td>\n",
       "      <td>417.96</td>\n",
       "      <td>416.07</td>\n",
       "      <td>416.30</td>\n",
       "      <td>24945.2</td>\n",
       "      <td>2025-09-27 10:00:00+00:00</td>\n",
       "      <td>2025-09-27 11:00:00+00:00</td>\n",
       "      <td>1758970800000</td>\n",
       "      <td>415.321333</td>\n",
       "      <td>417.924833</td>\n",
       "    </tr>\n",
       "  </tbody>\n",
       "</table>\n",
       "</div>"
      ],
      "text/plain": [
       "                                      open_time_jst    open    high     low  \\\n",
       "close_time_jst                                                                \n",
       "2025-09-27 16:00:00+09:00 2025-09-27 15:00:00+09:00  419.32  420.00  416.78   \n",
       "2025-09-27 17:00:00+09:00 2025-09-27 16:00:00+09:00  416.87  416.92  414.95   \n",
       "2025-09-27 18:00:00+09:00 2025-09-27 17:00:00+09:00  415.10  417.07  414.07   \n",
       "2025-09-27 19:00:00+09:00 2025-09-27 18:00:00+09:00  416.80  418.64  416.52   \n",
       "2025-09-27 20:00:00+09:00 2025-09-27 19:00:00+09:00  417.96  417.96  416.07   \n",
       "\n",
       "                            close   volume             open_time_utc  \\\n",
       "close_time_jst                                                         \n",
       "2025-09-27 16:00:00+09:00  416.79  41173.6 2025-09-27 06:00:00+00:00   \n",
       "2025-09-27 17:00:00+09:00  415.08  43128.9 2025-09-27 07:00:00+00:00   \n",
       "2025-09-27 18:00:00+09:00  416.74  31636.4 2025-09-27 08:00:00+00:00   \n",
       "2025-09-27 19:00:00+09:00  418.00  40235.9 2025-09-27 09:00:00+00:00   \n",
       "2025-09-27 20:00:00+09:00  416.30  24945.2 2025-09-27 10:00:00+00:00   \n",
       "\n",
       "                                     close_time_utc   timestamp_ms  \\\n",
       "close_time_jst                                                       \n",
       "2025-09-27 16:00:00+09:00 2025-09-27 07:00:00+00:00  1758956400000   \n",
       "2025-09-27 17:00:00+09:00 2025-09-27 08:00:00+00:00  1758960000000   \n",
       "2025-09-27 18:00:00+09:00 2025-09-27 09:00:00+00:00  1758963600000   \n",
       "2025-09-27 19:00:00+09:00 2025-09-27 10:00:00+00:00  1758967200000   \n",
       "2025-09-27 20:00:00+09:00 2025-09-27 11:00:00+00:00  1758970800000   \n",
       "\n",
       "                            sma_short    sma_long  \n",
       "close_time_jst                                     \n",
       "2025-09-27 16:00:00+09:00  415.038000  419.420333  \n",
       "2025-09-27 17:00:00+09:00  415.056667  418.960167  \n",
       "2025-09-27 18:00:00+09:00  415.128000  418.593833  \n",
       "2025-09-27 19:00:00+09:00  415.232000  418.252000  \n",
       "2025-09-27 20:00:00+09:00  415.321333  417.924833  "
      ]
     },
     "metadata": {},
     "output_type": "display_data"
    }
   ],
   "source": [
    "if __name__ == \"__main__\":\n",
    "    try:\n",
    "        # 1) データ（前段の取得ステップの結果）を読み込む\n",
    "        from pathlib import Path\n",
    "        # 優先: 最新キャッシュ（ccxt版）\n",
    "        if (Path(\"../data/candles/xrpjpy_1h_latest.parquet\")).exists():\n",
    "            df_src = pd.read_parquet(\"../data/candles/xrpjpy_1h_latest.parquet\")\n",
    "            # display(df_src)\n",
    "        else:\n",
    "            # ログCSVの最新を拾う（簡易）\n",
    "            logs = sorted([p for p in Path(\"../data/candles/logs\").glob(\"xrpjpy_1h_*.csv\")])\n",
    "            if not logs:\n",
    "                raise FileNotFoundError(\"取得データが見つかりません。先にデータ取得ステップを実行してください。\")\n",
    "            df_src = pd.read_csv(logs[-1],\n",
    "                                 parse_dates=[\"open_time_utc\", \"close_time_utc\", \"open_time_jst\", \"close_time_jst\"],\n",
    "                                 index_col=\"close_time_jst\")\n",
    "\n",
    "        # 2) SMA列を追加\n",
    "        params = SignalParams()\n",
    "        df_feat = add_sma_columns(df_src, params)\n",
    "\n",
    "        # 3) 直近確定足でのGC判定（last_signaled_bar_tsは state.json から読む想定）\n",
    "        last_signaled_bar_ts = None  # 例: ISO文字列 \"2025-09-19T22:00:00+09:00\"\n",
    "        sig = detect_golden_cross_latest(df_feat, params, last_signaled_bar_ts=last_signaled_bar_ts)\n",
    "\n",
    "        # 4) 結果表示（このセルはノートブック確認用）\n",
    "        print(\"=== Signal Result ===\")\n",
    "        for k, v in sig.items():\n",
    "            print(f\"{k:>18}: {v}\")\n",
    "\n",
    "        # 5) state 更新例（実運用では JSON に保存）\n",
    "        state = {}\n",
    "        state = update_state_after_signal(state, sig)\n",
    "        print(\"\\nUpdated state:\", state)\n",
    "\n",
    "        # 6) ビュー用途：末尾5行だけ確認\n",
    "        display(df_feat.tail(5))\n",
    "\n",
    "    except Exception as e:\n",
    "        print(\"Signal step error:\", e)"
   ]
  },
  {
   "cell_type": "markdown",
   "id": "3235c6a7-f224-4092-bee7-f573cd27a75b",
   "metadata": {},
   "source": [
    "# 注文処理"
   ]
  },
  {
   "cell_type": "markdown",
   "id": "e8d95232-571a-433f-8210-a4c9ee89dece",
   "metadata": {},
   "source": [
    "## _now_jst()"
   ]
  },
  {
   "cell_type": "code",
   "execution_count": 26,
   "id": "458c2776-7f7f-47a1-a053-f53c9ec2dd69",
   "metadata": {
    "execution": {
     "iopub.execute_input": "2025-09-27T12:29:18.446375Z",
     "iopub.status.busy": "2025-09-27T12:29:18.446076Z",
     "iopub.status.idle": "2025-09-27T12:29:18.450351Z",
     "shell.execute_reply": "2025-09-27T12:29:18.449555Z",
     "shell.execute_reply.started": "2025-09-27T12:29:18.446348Z"
    }
   },
   "outputs": [
    {
     "name": "stdout",
     "output_type": "stream",
     "text": [
      "2025-09-27 21:29:18.447493+09:00\n"
     ]
    }
   ],
   "source": [
    "def _now_jst() -> datetime:\n",
    "    \"\"\"処理: 現在時刻(JST)を返す。INPUT: なし / OUTPUT: datetime(tz-aware)\"\"\"\n",
    "    return datetime.now(TZ_JST)\n",
    "print(_now_jst())"
   ]
  },
  {
   "cell_type": "markdown",
   "id": "b005a37d-b6a2-4607-963b-d534effd835f",
   "metadata": {},
   "source": [
    "## compute_tp_sl()"
   ]
  },
  {
   "cell_type": "code",
   "execution_count": 27,
   "id": "b21d7b82-33ea-4867-98cf-5e835d222bd1",
   "metadata": {
    "execution": {
     "iopub.execute_input": "2025-09-27T12:29:18.451670Z",
     "iopub.status.busy": "2025-09-27T12:29:18.451366Z",
     "iopub.status.idle": "2025-09-27T12:29:18.457838Z",
     "shell.execute_reply": "2025-09-27T12:29:18.457153Z",
     "shell.execute_reply.started": "2025-09-27T12:29:18.451641Z"
    }
   },
   "outputs": [],
   "source": [
    "def compute_tp_sl(entry_price: float, tp_pct: float = 0.02, sl_pct: float = 0.03) -> Tuple[float, float]:\n",
    "    \"\"\"\n",
    "    処理:\n",
    "        ロング前提で利確(TP)・損切り(SL)水準を算出する。\n",
    "    INPUT:\n",
    "        - entry_price (float): 約定価格\n",
    "        - tp_pct (float): 利確率（例: 0.02 = +2%）\n",
    "        - sl_pct (float): 損切率（例: 0.03 = -3%）\n",
    "    OUTPUT:\n",
    "        - (tp, sl) (Tuple[float, float]): 価格水準\n",
    "    \"\"\"\n",
    "    tp = entry_price * (1.0 + tp_pct)\n",
    "    sl = entry_price * (1.0 - sl_pct)\n",
    "    return (float(tp), float(sl))"
   ]
  },
  {
   "cell_type": "markdown",
   "id": "36ae3bfa-523b-4f1e-993b-480083884dd2",
   "metadata": {},
   "source": [
    "## _init_ccxt_for_real"
   ]
  },
  {
   "cell_type": "code",
   "execution_count": 28,
   "id": "edaa4813-e99f-4169-97f4-302c62062c24",
   "metadata": {
    "execution": {
     "iopub.execute_input": "2025-09-27T12:29:18.462974Z",
     "iopub.status.busy": "2025-09-27T12:29:18.462546Z",
     "iopub.status.idle": "2025-09-27T12:29:20.561514Z",
     "shell.execute_reply": "2025-09-27T12:29:20.560729Z",
     "shell.execute_reply.started": "2025-09-27T12:29:18.462951Z"
    }
   },
   "outputs": [
    {
     "name": "stdout",
     "output_type": "stream",
     "text": [
      "bitFlyer\n"
     ]
    }
   ],
   "source": [
    "def _init_ccxt_for_real(api_key: Optional[str], secret: Optional[str]):\n",
    "    \"\"\"\n",
    "    処理:\n",
    "        Realモードのために ccxt の bitFlyer クライアントを初期化する。\n",
    "    INPUT:\n",
    "        - api_key (str|None), secret (str|None): 発注に必要であれば指定\n",
    "    OUTPUT:\n",
    "        - exchange (ccxt.Exchange): 初期化済みクライアント\n",
    "    \"\"\"\n",
    "    import ccxt\n",
    "    return ccxt.bitflyer({\n",
    "        \"apiKey\": api_key or \"\",\n",
    "        \"secret\": secret or \"\",\n",
    "        \"enableRateLimit\": True,\n",
    "        \"timeout\": 15000,\n",
    "    })\n",
    "\n",
    "# 実運用時の利用例:\n",
    "# from os import getenv\n",
    "# exchange_for_real = _init_ccxt_for_real(\n",
    "#     api_key=getenv(\"BITFLYER_API_KEY\"),\n",
    "#     secret=getenv(\"BITFLYER_API_SECRET\")\n",
    "# )\n",
    "# exchange_for_real.load_markets()\n",
    "# print(exchange_for_real)\n"
   ]
  },
  {
   "cell_type": "markdown",
   "id": "3a17c206-6f1a-4e8e-83b2-295c38f74a65",
   "metadata": {},
   "source": [
    "## _fit_amount_to_market()"
   ]
  },
  {
   "cell_type": "code",
   "execution_count": 29,
   "id": "43e36812-b4e5-4b89-ae2d-0cfcb85402ab",
   "metadata": {
    "execution": {
     "iopub.execute_input": "2025-09-27T12:29:20.563013Z",
     "iopub.status.busy": "2025-09-27T12:29:20.562633Z",
     "iopub.status.idle": "2025-09-27T12:29:20.569539Z",
     "shell.execute_reply": "2025-09-27T12:29:20.568864Z",
     "shell.execute_reply.started": "2025-09-27T12:29:20.562991Z"
    }
   },
   "outputs": [
    {
     "data": {
      "text/plain": [
       "1e-05"
      ]
     },
     "execution_count": 29,
     "metadata": {},
     "output_type": "execute_result"
    }
   ],
   "source": [
    "def _fit_amount_to_market(exchange, symbol: str, amount: float) -> float:\n",
    "    \"\"\"\n",
    "    処理:\n",
    "        取引所の最小数量・刻みに合わせて数量を調整（切り捨て）。\n",
    "    INPUT:\n",
    "        - exchange (ccxt.Exchange): `load_markets()` 済のクライアント\n",
    "        - symbol (str): 例 \"XRP/JPY\"\n",
    "        - amount (float): 希望数量（XRPの枚数）\n",
    "    OUTPUT:\n",
    "        - (float): 取引所の制約に合わせた数量（0になる場合は発注不可）\n",
    "    \"\"\"\n",
    "    m = exchange.market(symbol)\n",
    "    min_amt = (m.get(\"limits\", {}).get(\"amount\", {}) or {}).get(\"min\", 0.0) or 0.0\n",
    "    step = (m.get(\"precision\", {}) or {}).get(\"amount\", None)\n",
    "    # precision は小数桁数を表すことが多い（例: 2 → 0.01刻み）\n",
    "    if step is not None and isinstance(step, int):\n",
    "        quant = 10 ** step\n",
    "        adj = math.floor(amount * quant) / quant\n",
    "    else:\n",
    "        # precision 情報がない場合は min のみ尊重して丸め\n",
    "        adj = amount\n",
    "    if min_amt and adj < min_amt:\n",
    "        return 0.0\n",
    "    return float(adj)\n",
    "\n",
    "_fit_amount_to_market(exchange_for_real, \n",
    "                      symbol=\"XRP/JPY\", \n",
    "                      amount=0.00001)"
   ]
  },
  {
   "cell_type": "markdown",
   "id": "4ea7f633-467b-4691-bc8b-e6b5f0bb5a53",
   "metadata": {},
   "source": [
    "## decide_order_size_jpy_to_amount()"
   ]
  },
  {
   "cell_type": "code",
   "execution_count": 30,
   "id": "e214bd37-972a-4f1c-8db1-8473b1f37dc2",
   "metadata": {
    "execution": {
     "iopub.execute_input": "2025-09-27T12:29:20.570431Z",
     "iopub.status.busy": "2025-09-27T12:29:20.570166Z",
     "iopub.status.idle": "2025-09-27T12:29:20.575760Z",
     "shell.execute_reply": "2025-09-27T12:29:20.575115Z",
     "shell.execute_reply.started": "2025-09-27T12:29:20.570411Z"
    }
   },
   "outputs": [],
   "source": [
    "def decide_order_size_jpy_to_amount(price: float, notional_jpy: float) -> float:\n",
    "    \"\"\"\n",
    "    処理:\n",
    "        指定した JPY の発注額を、与えられた価格に基づいて「数量（XRP）」に変換する。\n",
    "    INPUT:\n",
    "        - price (float): 市場の参照価格（closeなど）\n",
    "        - notional_jpy (float): JPY建ての発注額\n",
    "    OUTPUT:\n",
    "        - (float): 数量（XRP枚数）\n",
    "    \"\"\"\n",
    "    if price <= 0:\n",
    "        raise ValueError(\"price must be positive.\")\n",
    "    return float(notional_jpy / price)"
   ]
  },
  {
   "cell_type": "markdown",
   "id": "8a85834f-2877-4e84-90df-bca77c3568e5",
   "metadata": {},
   "source": [
    "## _ensure_tradelog"
   ]
  },
  {
   "cell_type": "code",
   "execution_count": 31,
   "id": "0c3e0731-5877-4525-a48b-1d7cb9721eba",
   "metadata": {
    "execution": {
     "iopub.execute_input": "2025-09-27T12:29:20.577153Z",
     "iopub.status.busy": "2025-09-27T12:29:20.576807Z",
     "iopub.status.idle": "2025-09-27T12:29:20.581876Z",
     "shell.execute_reply": "2025-09-27T12:29:20.581102Z",
     "shell.execute_reply.started": "2025-09-27T12:29:20.577123Z"
    }
   },
   "outputs": [],
   "source": [
    "def _ensure_tradelog():\n",
    "    \"\"\"処理: trades.csv の存在を保証（無ければヘッダ付きで作成）。INPUT: なし / OUTPUT: なし\"\"\"\n",
    "    path = os.path.join(TRADES_DIR, \"trades.csv\")\n",
    "    if not os.path.exists(path):\n",
    "        cols = [\n",
    "            \"ts_jst\",\"mode\",\"symbol\",\"side\",\"size\",\"price\",\"notional_jpy\",\n",
    "            \"fee_jpy\",\"slippage_bps\",\"taker_fee_bps\",\"tp\",\"sl\",\"order_id\",\"raw\"\n",
    "        ]\n",
    "        pd.DataFrame(columns=cols).to_csv(path, index=False, encoding=\"utf-8\")"
   ]
  },
  {
   "cell_type": "markdown",
   "id": "8f6bece7-7599-430e-bbcb-f9ac486dbdbe",
   "metadata": {},
   "source": [
    "## _append_trade_row()"
   ]
  },
  {
   "cell_type": "code",
   "execution_count": 32,
   "id": "335e3a3c-807b-47d2-a889-2de162e2fe69",
   "metadata": {
    "execution": {
     "iopub.execute_input": "2025-09-27T12:29:20.583172Z",
     "iopub.status.busy": "2025-09-27T12:29:20.582666Z",
     "iopub.status.idle": "2025-09-27T12:29:20.587993Z",
     "shell.execute_reply": "2025-09-27T12:29:20.587268Z",
     "shell.execute_reply.started": "2025-09-27T12:29:20.583142Z"
    }
   },
   "outputs": [],
   "source": [
    "def _append_trade_row(row: Dict[str, Any]):\n",
    "    \"\"\"処理: trades.csv に1行追記する。INPUT: 追記データ / OUTPUT: なし\"\"\"\n",
    "    _ensure_tradelog()\n",
    "    path = os.path.join(TRADES_DIR, \"trades.csv\")\n",
    "    df = pd.read_csv(path)\n",
    "    df = pd.concat([df, pd.DataFrame([row])], ignore_index=True)\n",
    "    df.to_csv(path, index=False, encoding=\"utf-8\")"
   ]
  },
  {
   "cell_type": "markdown",
   "id": "805d1399-1ac6-46f5-9238-0c305d900212",
   "metadata": {},
   "source": [
    "## place_market_buy()"
   ]
  },
  {
   "cell_type": "code",
   "execution_count": 33,
   "id": "1ee0fa96-d13f-441e-a0c0-a486ce530d0a",
   "metadata": {
    "execution": {
     "iopub.execute_input": "2025-09-27T12:29:20.589283Z",
     "iopub.status.busy": "2025-09-27T12:29:20.588949Z",
     "iopub.status.idle": "2025-09-27T12:29:20.599904Z",
     "shell.execute_reply": "2025-09-27T12:29:20.599023Z",
     "shell.execute_reply.started": "2025-09-27T12:29:20.589254Z"
    }
   },
   "outputs": [],
   "source": [
    "def place_market_buy(\n",
    "    symbol: str,\n",
    "    ref_price: float,\n",
    "    params: OrderParams,\n",
    "    exchange_for_real: Optional[Any] = None\n",
    ") -> Dict[str, Any]:\n",
    "    \"\"\"\n",
    "    処理:\n",
    "        ロングエントリーの **成行買い** を実行する。\n",
    "        - Paper: スリッページ・手数料を加味して内部約定\n",
    "        - Real : ccxt(bitFlyer)で `create_order(..., type='market', side='buy')`\n",
    "        いずれも **trades.csv** にログを書き出す。\n",
    "    INPUT:\n",
    "        - symbol (str): 例 \"XRP/JPY\"\n",
    "        - ref_price (float): 参照価格（通常は直近確定足の終値）\n",
    "        - params (OrderParams): mode, notional, slippage/taker_fee など\n",
    "        - exchange_for_real (ccxt.Exchange|None): 事前に `load_markets()` まで済ませて渡すと効率的\n",
    "    OUTPUT:\n",
    "        - (dict): 約定結果（共通フィールド）\n",
    "            {\n",
    "              \"mode\",\"symbol\",\"side\",\"size\",\"price\",\"notional_jpy\",\n",
    "              \"fee_jpy\",\"tp\",\"sl\",\"order_id\",\"raw\"\n",
    "            }\n",
    "        - 例外: RealモードでのAPIエラー等は例外送出\n",
    "    \"\"\"\n",
    "    ### 現在時刻の取得\n",
    "    ts_jst = _now_jst().isoformat(timespec=\"seconds\")\n",
    "    side = \"buy\"\n",
    "\n",
    "    # --- 注文数量計算（JPY→数量） ---\n",
    "    size = decide_order_size_jpy_to_amount(ref_price, params.notional_jpy)\n",
    "    print(f\"size:{size}\")\n",
    "\n",
    "    if params.mode == \"paper\":\n",
    "        # Paper fill: スリッページ・手数料適用\n",
    "        slip = params.slippage_bps / 10000.0\n",
    "        fee = params.taker_fee_bps / 10000.0\n",
    "        fill_price = ref_price * (1.0 + slip)\n",
    "        notional = fill_price * size\n",
    "        fee_jpy = notional * fee\n",
    "        order_id = f\"PAPER-{int(time.time())}\"\n",
    "        raw = {\"reason\": \"paper_fill\", \"ref_price\": ref_price}\n",
    "\n",
    "    elif params.mode == \"real\":\n",
    "        # Real fill: ccxtに発注し、取引所仕様にサイズを合わせる\n",
    "        if exchange_for_real is None:\n",
    "            exchange_for_real = _init_ccxt_for_real(params.api_key, params.secret)\n",
    "        exchange_for_real.load_markets()\n",
    "\n",
    "        adj_size = _fit_amount_to_market(exchange_for_real, symbol, size)\n",
    "        if adj_size <= 0:\n",
    "            raise ValueError(\"Calculated order size is below exchange minimum/precision.\")\n",
    "\n",
    "        # bitFlyerは JPY 表示だが ccxt経由で市場成行を呼べる\n",
    "        order = exchange_for_real.create_order(symbol=symbol, type=\"market\", side=\"buy\", amount=adj_size)\n",
    "        order_id = order.get(\"id\")\n",
    "        # 約定価格の推定（多くの取引所は filled/price に入るが未確定なら平均を推定）\n",
    "        filled = float(order.get(\"filled\", adj_size))\n",
    "        avg = float(order.get(\"average\") or order.get(\"price\") or ref_price)\n",
    "        fill_price = avg\n",
    "        size = filled  # 実際に約定したサイズ\n",
    "        notional = fill_price * size\n",
    "        # 手数料（取得できない場合はパラメータの想定値で計算）\n",
    "        fee_cost = None\n",
    "        if order.get(\"fees\"):\n",
    "            try:\n",
    "                # JPY建てのfeeを特定（無ければ最初の要素を採用）\n",
    "                fee_obj = order[\"fees\"][0]\n",
    "                fee_cost = float(fee_obj.get(\"cost\", 0.0))\n",
    "            except Exception:\n",
    "                fee_cost = None\n",
    "        if fee_cost is None:\n",
    "            fee_cost = notional * (params.taker_fee_bps / 10000.0)\n",
    "        fee_jpy = fee_cost\n",
    "        raw = order\n",
    "\n",
    "    else:\n",
    "        raise ValueError(\"OrderParams.mode must be 'paper' or 'real'.\")\n",
    "\n",
    "    # TP/SL計算（ロング前提）\n",
    "    tp, sl = compute_tp_sl(fill_price, tp_pct=0.02, sl_pct=0.03)\n",
    "\n",
    "    # ログ行\n",
    "    row = {\n",
    "        \"ts_jst\": ts_jst,\n",
    "        \"mode\": params.mode,\n",
    "        \"symbol\": symbol,\n",
    "        \"side\": side,\n",
    "        \"size\": round(size, 8),\n",
    "        \"price\": round(fill_price, 8),\n",
    "        \"notional_jpy\": round(notional, 2),\n",
    "        \"fee_jpy\": round(fee_jpy, 2),\n",
    "        \"slippage_bps\": params.slippage_bps,\n",
    "        \"taker_fee_bps\": params.taker_fee_bps,\n",
    "        \"tp\": round(tp, 8),\n",
    "        \"sl\": round(sl, 8),\n",
    "        \"order_id\": order_id,\n",
    "        \"raw\": json.dumps(raw, ensure_ascii=False),\n",
    "    }\n",
    "    _append_trade_row(row)\n",
    "\n",
    "    return {\n",
    "        \"mode\": params.mode,\n",
    "        \"symbol\": symbol,\n",
    "        \"side\": side,\n",
    "        \"size\": float(row[\"size\"]),\n",
    "        \"price\": float(row[\"price\"]),\n",
    "        \"notional_jpy\": float(row[\"notional_jpy\"]),\n",
    "        \"fee_jpy\": float(row[\"fee_jpy\"]),\n",
    "        \"tp\": float(row[\"tp\"]),\n",
    "        \"sl\": float(row[\"sl\"]),\n",
    "        \"order_id\": order_id,\n",
    "        \"raw\": raw,\n",
    "    }"
   ]
  },
  {
   "cell_type": "markdown",
   "id": "0505bb0e-972f-47b7-a39b-4510d775af56",
   "metadata": {},
   "source": [
    "## should_open_from_signal"
   ]
  },
  {
   "cell_type": "code",
   "execution_count": 34,
   "id": "f6757fca-9e62-4cc6-96d6-5282ea0218de",
   "metadata": {
    "execution": {
     "iopub.execute_input": "2025-09-27T12:29:20.601485Z",
     "iopub.status.busy": "2025-09-27T12:29:20.600885Z",
     "iopub.status.idle": "2025-09-27T12:29:20.606820Z",
     "shell.execute_reply": "2025-09-27T12:29:20.606013Z",
     "shell.execute_reply.started": "2025-09-27T12:29:20.601456Z"
    }
   },
   "outputs": [],
   "source": [
    "def should_open_from_signal(state: Dict[str, Any], signal: Dict[str, Any]) -> bool:\n",
    "    \"\"\"\n",
    "    処理:\n",
    "        現在の状態とシグナルを見て、**新規エントリーすべきか**を判定する。\n",
    "        - いまのポジションが FLAT\n",
    "        - signal[\"is_gc\"] が True\n",
    "        - signal[\"already_signaled\"] が False（多重検知抑止）\n",
    "    INPUT:\n",
    "        - state (dict): 例 {\"position\":\"FLAT\", ...} など。未設定なら FLAT とみなす実装を推奨。\n",
    "        - signal (dict): detect_golden_cross_latest() の戻り値\n",
    "    OUTPUT:\n",
    "        - (bool): エントリーするなら True\n",
    "    \"\"\"\n",
    "    pos = (state or {}).get(\"position\", \"FLAT\")\n",
    "    return (pos == \"FLAT\") and bool(signal.get(\"is_gc\")) and (not bool(signal.get(\"already_signaled\")))"
   ]
  },
  {
   "cell_type": "markdown",
   "id": "233fbd0c-26a7-46eb-b7a9-886f3ef2ea18",
   "metadata": {},
   "source": [
    "## update_state_on_entry"
   ]
  },
  {
   "cell_type": "code",
   "execution_count": 35,
   "id": "1ebe3658-9d04-4a1b-85a6-f8082530f141",
   "metadata": {
    "execution": {
     "iopub.execute_input": "2025-09-27T12:29:20.607863Z",
     "iopub.status.busy": "2025-09-27T12:29:20.607643Z",
     "iopub.status.idle": "2025-09-27T12:29:20.612538Z",
     "shell.execute_reply": "2025-09-27T12:29:20.611709Z",
     "shell.execute_reply.started": "2025-09-27T12:29:20.607844Z"
    }
   },
   "outputs": [],
   "source": [
    "def update_state_on_entry(state: Dict[str, Any], order_result: Dict[str, Any]) -> Dict[str, Any]:\n",
    "    \"\"\"\n",
    "    処理:\n",
    "        約定結果に基づき、取引状態を **LONG** に更新する。\n",
    "        エントリー価格・数量・TP/SL・累積損益（未設定なら0）などを記録する。\n",
    "    INPUT:\n",
    "        - state (dict): 既存の状態（JSONから読み込む想定）。\n",
    "        - order_result (dict): place_market_buy() の戻り値。\n",
    "    OUTPUT:\n",
    "        - (dict): 更新済み状態。\n",
    "            追記/更新される主なキー:\n",
    "              position=\"LONG\", entry_price, size, tp, sl, pnl_cum\n",
    "    \"\"\"\n",
    "    new_state = dict(state or {})\n",
    "    new_state[\"position\"] = \"LONG\"\n",
    "    new_state[\"entry_price\"] = float(order_result[\"price\"])\n",
    "    new_state[\"size\"] = float(order_result[\"size\"])\n",
    "    new_state[\"tp\"] = float(order_result[\"tp\"])\n",
    "    new_state[\"sl\"] = float(order_result[\"sl\"])\n",
    "    new_state[\"pnl_cum\"] = float(new_state.get(\"pnl_cum\", 0.0))\n",
    "    # 日次等のログ用に、エントリーのタイムスタンプも残す\n",
    "    new_state[\"entry_ts_jst\"] = _now_jst().isoformat(timespec=\"seconds\")\n",
    "    return new_state"
   ]
  },
  {
   "cell_type": "markdown",
   "id": "1c4a02e0-50a5-46ca-a0b1-997997aa2969",
   "metadata": {},
   "source": [
    "## お試し"
   ]
  },
  {
   "cell_type": "code",
   "execution_count": 36,
   "id": "8b4d3f95-9380-4fba-9eba-62f3e31c5c84",
   "metadata": {
    "execution": {
     "iopub.execute_input": "2025-09-27T12:29:20.613734Z",
     "iopub.status.busy": "2025-09-27T12:29:20.613495Z",
     "iopub.status.idle": "2025-09-27T12:29:20.629453Z",
     "shell.execute_reply": "2025-09-27T12:29:20.628438Z",
     "shell.execute_reply.started": "2025-09-27T12:29:20.613709Z"
    }
   },
   "outputs": [
    {
     "name": "stdout",
     "output_type": "stream",
     "text": [
      "size:5.0\n",
      "Order Result: {'mode': 'paper', 'symbol': 'XRP/JPY', 'side': 'buy', 'size': 5.0, 'price': 100.05, 'notional_jpy': 500.25, 'fee_jpy': 0.75, 'tp': 102.051, 'sl': 97.0485, 'order_id': 'PAPER-1758976160', 'raw': {'reason': 'paper_fill', 'ref_price': 100.0}}\n",
      "Updated State: {'position': 'LONG', 'pnl_cum': 0.0, 'entry_price': 100.05, 'size': 5.0, 'tp': 102.051, 'sl': 97.0485, 'entry_ts_jst': '2025-09-27T21:29:20+09:00'}\n"
     ]
    }
   ],
   "source": [
    "if __name__ == \"__main__\":\n",
    "    try:\n",
    "        # 0) ここではシグナルを疑似的に用意（実際は Step 2 の detect_golden_cross_latest の結果を使用）\n",
    "        mock_signal = {\n",
    "            \"is_gc\": True,\n",
    "            \"already_signaled\": False,\n",
    "            \"bar_ts\": pd.Timestamp(\"2025-09-20T12:00:00+09:00\"),\n",
    "            \"price\": 100.0,  # 例としての参考価格\n",
    "            \"sma_short\": 99.5,\n",
    "            \"sma_long\": 99.4,\n",
    "            \"prev_sma_short\": 99.3,\n",
    "            \"prev_sma_long\": 99.4,\n",
    "        }\n",
    "        state = {\"position\": \"FLAT\", \"pnl_cum\": 0.0}\n",
    "\n",
    "        if should_open_from_signal(state, mock_signal):\n",
    "            params = OrderParams(\n",
    "                mode=\"paper\",            # 実運用で切り替え: \"real\"\n",
    "                notional_jpy=500.0,\n",
    "                slippage_bps=5.0,\n",
    "                taker_fee_bps=15.0,\n",
    "                api_key=None, secret=None\n",
    "            )\n",
    "\n",
    "            # Realモードの場合は、事前に ccxt を初期化して渡すと効率的\n",
    "            exchange = None\n",
    "            from ccxt import bitflyer; exchange = bitflyer({\"apiKey\":\" \",\n",
    "                                                            \"secret\":\"\",\n",
    "                                                            \"enableRateLimit\": True})\n",
    "\n",
    "            order_res = place_market_buy(\"XRP/JPY\", mock_signal[\"price\"], params, exchange_for_real=exchange)\n",
    "            state = update_state_on_entry(state, order_res)\n",
    "\n",
    "            print(\"Order Result:\", order_res)\n",
    "            print(\"Updated State:\", state)\n",
    "        else:\n",
    "            print(\"No Entry (条件未充足)\")\n",
    "\n",
    "    except Exception as e:\n",
    "        logger.exception(f\"Order step error: {e}\")"
   ]
  },
  {
   "cell_type": "markdown",
   "id": "731998e9-5794-4fdb-a564-c1b57e108c4e",
   "metadata": {},
   "source": [
    "# ポジション管理"
   ]
  },
  {
   "cell_type": "markdown",
   "id": "f5c5ce5b-6c4c-43f0-b077-0f096f85e4e8",
   "metadata": {},
   "source": [
    "## ensure_single_position()"
   ]
  },
  {
   "cell_type": "code",
   "execution_count": 37,
   "id": "cf0f8423-92aa-4b2e-ab94-7143cba7c707",
   "metadata": {
    "execution": {
     "iopub.execute_input": "2025-09-27T12:29:20.630444Z",
     "iopub.status.busy": "2025-09-27T12:29:20.630234Z",
     "iopub.status.idle": "2025-09-27T12:29:20.636039Z",
     "shell.execute_reply": "2025-09-27T12:29:20.635436Z",
     "shell.execute_reply.started": "2025-09-27T12:29:20.630424Z"
    }
   },
   "outputs": [],
   "source": [
    "def ensure_single_position(state: BotState) -> None:\n",
    "    \"\"\"\n",
    "    処理:\n",
    "        state が単一建玉の制約を満たしているか軽く検証し、異常なら例外。\n",
    "    INPUT:\n",
    "        - state (BotState): 検証対象\n",
    "    OUTPUT:\n",
    "        - なし（異常時は ValueError 例外）\n",
    "    \"\"\"\n",
    "    if state.position not in (\"FLAT\", \"LONG\"):\n",
    "        raise ValueError(f\"Unexpected position value: {state.position}\")\n",
    "    if state.position == \"FLAT\":\n",
    "        # FLAT のときは数量=0/価格系=0を推奨\n",
    "        if any(getattr(state, k) for k in (\"size\", \"entry_price\", \"tp\", \"sl\")):\n",
    "            logger.warning(\"FLATだがエントリー関連の値が残っています（後続でクリアされます）。\")\n",
    "    else:\n",
    "        # LONG のときは必要パラメータが正であること\n",
    "        required = {\"entry_price\": state.entry_price, \"size\": state.size, \"tp\": state.tp, \"sl\": state.sl}\n",
    "        for k, v in required.items():\n",
    "            if v is None or float(v) <= 0:\n",
    "                raise ValueError(f\"LONGだが必須フィールド {k} が不正: {v}\")\n",
    "\n",
    "ensure_single_position(BotState)"
   ]
  },
  {
   "cell_type": "markdown",
   "id": "96924b66-4e3b-46c0-a115-b28eb9740c73",
   "metadata": {},
   "source": [
    "## set_entry_from_order"
   ]
  },
  {
   "cell_type": "code",
   "execution_count": 38,
   "id": "866c7f44-278b-4c89-ac03-16a8bf27682c",
   "metadata": {
    "execution": {
     "iopub.execute_input": "2025-09-27T12:29:20.637326Z",
     "iopub.status.busy": "2025-09-27T12:29:20.637111Z",
     "iopub.status.idle": "2025-09-27T12:29:20.641757Z",
     "shell.execute_reply": "2025-09-27T12:29:20.641014Z",
     "shell.execute_reply.started": "2025-09-27T12:29:20.637305Z"
    }
   },
   "outputs": [],
   "source": [
    "def set_entry_from_order(state: BotState, order_result: Dict[str, Any]) -> BotState:\n",
    "    \"\"\"\n",
    "    処理:\n",
    "        約定結果（Step 3の戻り値）を反映して **エントリー状態** を設定する。\n",
    "        単一建玉制約のため、現在が FLAT の場合のみエントリーを許可。\n",
    "    INPUT:\n",
    "        - state (BotState): 現在の状態\n",
    "        - order_result (dict): place_market_buy() の戻り値\n",
    "    OUTPUT:\n",
    "        - (BotState): 更新後の状態（position=\"LONG\", entry_price/size/tp/sl を反映）\n",
    "        - 例外: 既にLONGの場合は ValueError\n",
    "    \"\"\"\n",
    "    if state.position != \"FLAT\":\n",
    "        raise ValueError(\"既にポジションを保有中のため、新規エントリーできません（単一建玉制約）。\")\n",
    "    state.position = \"LONG\"\n",
    "    state.entry_price = float(order_result[\"price\"])\n",
    "    state.size = float(order_result[\"size\"])\n",
    "    state.tp = float(order_result[\"tp\"])\n",
    "    state.sl = float(order_result[\"sl\"])\n",
    "    state.entry_ts_jst = datetime.now(TZ_JST).isoformat(timespec=\"seconds\")\n",
    "    ensure_single_position(state)\n",
    "    return state\n",
    "# set_entry_from_order(BotState, order_result: Dict[str, Any])"
   ]
  },
  {
   "cell_type": "markdown",
   "id": "497017d4-c1b8-4757-94f6-e2d378d94cb6",
   "metadata": {},
   "source": [
    "## clear_to_flat()"
   ]
  },
  {
   "cell_type": "code",
   "execution_count": 39,
   "id": "32c488c5-0693-4864-a866-0db1402443c0",
   "metadata": {
    "execution": {
     "iopub.execute_input": "2025-09-27T12:29:20.642942Z",
     "iopub.status.busy": "2025-09-27T12:29:20.642550Z",
     "iopub.status.idle": "2025-09-27T12:29:20.647474Z",
     "shell.execute_reply": "2025-09-27T12:29:20.646878Z",
     "shell.execute_reply.started": "2025-09-27T12:29:20.642921Z"
    }
   },
   "outputs": [],
   "source": [
    "def clear_to_flat(state: BotState) -> BotState:\n",
    "    \"\"\"\n",
    "    処理:\n",
    "        ポジションを解消し、FLAT に戻す（数量・価格関連をクリア）。\n",
    "        PnLの計算・更新は別ステップ（損益管理）で行う想定。\n",
    "    INPUT:\n",
    "        - state (BotState): 現在の状態\n",
    "    OUTPUT:\n",
    "        - (BotState): クリア後の状態（position=\"FLAT\", 数量/価格を0に）\n",
    "    \"\"\"\n",
    "    state.position = \"FLAT\"\n",
    "    state.entry_price = 0.0\n",
    "    state.size = 0.0\n",
    "    state.tp = 0.0\n",
    "    state.sl = 0.0\n",
    "    state.entry_ts_jst = None\n",
    "    ensure_single_position(state)\n",
    "    return state"
   ]
  },
  {
   "cell_type": "markdown",
   "id": "83919430-ef9b-4827-92b9-81d7fc10146b",
   "metadata": {},
   "source": [
    "## bump_streak()"
   ]
  },
  {
   "cell_type": "code",
   "execution_count": 40,
   "id": "8bf90d1d-6e98-42f6-b411-2919cf082b18",
   "metadata": {
    "execution": {
     "iopub.execute_input": "2025-09-27T12:29:20.648513Z",
     "iopub.status.busy": "2025-09-27T12:29:20.648079Z",
     "iopub.status.idle": "2025-09-27T12:29:20.653248Z",
     "shell.execute_reply": "2025-09-27T12:29:20.652264Z",
     "shell.execute_reply.started": "2025-09-27T12:29:20.648490Z"
    }
   },
   "outputs": [],
   "source": [
    "def bump_streak(state: BotState, won: bool) -> BotState:\n",
    "    \"\"\"\n",
    "    処理:\n",
    "        連勝/連敗カウントを更新する。ここでは**連敗のみ**を管理（仕様に合わせ簡素化）。\n",
    "    INPUT:\n",
    "        - state (BotState): 現在の状態\n",
    "        - won (bool): 勝ちトレードなら True、負けなら False\n",
    "    OUTPUT:\n",
    "        - (BotState): 更新後の状態（負けなら +1、勝ちなら 0 にリセット）\n",
    "    \"\"\"\n",
    "    if won:\n",
    "        state.streak_loss = 0\n",
    "    else:\n",
    "        state.streak_loss = int(state.streak_loss or 0) + 1\n",
    "    return state"
   ]
  },
  {
   "cell_type": "markdown",
   "id": "24afc379-c8cb-4fab-8149-c3350ebf7084",
   "metadata": {},
   "source": [
    "## touch_daily_summary_marker()"
   ]
  },
  {
   "cell_type": "code",
   "execution_count": 41,
   "id": "6906ee25-8de7-4fc5-9ec4-3fc97b734f49",
   "metadata": {
    "execution": {
     "iopub.execute_input": "2025-09-27T12:29:20.657603Z",
     "iopub.status.busy": "2025-09-27T12:29:20.657029Z",
     "iopub.status.idle": "2025-09-27T12:29:20.674152Z",
     "shell.execute_reply": "2025-09-27T12:29:20.673394Z",
     "shell.execute_reply.started": "2025-09-27T12:29:20.657572Z"
    }
   },
   "outputs": [],
   "source": [
    "def touch_daily_summary_marker(state: BotState) -> BotState:\n",
    "    \"\"\"\n",
    "    処理:\n",
    "        本日の日次サマリ送信済みマーカーを更新する（23:59送信用の制御用）。\n",
    "    INPUT:\n",
    "        - state (BotState): 現在の状態\n",
    "    OUTPUT:\n",
    "        - (BotState): 更新後の状態（`last_daily_summary_date` を YYYY-MM-DD で上書き）\n",
    "    \"\"\"\n",
    "    today = datetime.now(TZ_JST).strftime(\"%Y-%m-%d\")\n",
    "    state.last_daily_summary_date = today\n",
    "    return state"
   ]
  },
  {
   "cell_type": "markdown",
   "id": "e334476b-ee15-4198-9892-9254020aa223",
   "metadata": {},
   "source": [
    "## お試し"
   ]
  },
  {
   "cell_type": "code",
   "execution_count": 42,
   "id": "27785479-4724-4202-9de9-3e9c7711d309",
   "metadata": {
    "execution": {
     "iopub.execute_input": "2025-09-27T12:29:20.675420Z",
     "iopub.status.busy": "2025-09-27T12:29:20.675072Z",
     "iopub.status.idle": "2025-09-27T12:29:20.682953Z",
     "shell.execute_reply": "2025-09-27T12:29:20.682262Z",
     "shell.execute_reply.started": "2025-09-27T12:29:20.675388Z"
    }
   },
   "outputs": [
    {
     "name": "stdout",
     "output_type": "stream",
     "text": [
      "Loaded state: BotState(position='FLAT', entry_price=0.0, size=0.0, tp=0.0, sl=0.0, pnl_cum=15921.338, streak_loss=0, last_gc_bar_ts=None, entry_ts_jst=None, last_updated_jst='2025-09-27T21:29:04+09:00', last_daily_summary_date=None)\n",
      "Entered LONG: BotState(position='LONG', entry_price=100.0, size=50.0, tp=102.0, sl=97.0, pnl_cum=15921.338, streak_loss=0, last_gc_bar_ts=None, entry_ts_jst='2025-09-27T21:29:20+09:00', last_updated_jst='2025-09-27T21:29:04+09:00', last_daily_summary_date=None)\n",
      "State saved: ../data/state/state.json\n"
     ]
    }
   ],
   "source": [
    "# ===== 使い方（例） =====\n",
    "if __name__ == \"__main__\":\n",
    "    # 1) 状態ファイルをロック付きで開く\n",
    "    store = StateStore(os.path.join(STATE_DIR, \"state.json\"))\n",
    "    try:\n",
    "        with store as s:\n",
    "            st = s.state\n",
    "            print(\"Loaded state:\", st)\n",
    "\n",
    "            # 2) もしFLATで、直前のステップ（注文処理）の結果があるならエントリー反映\n",
    "            mock_order = {\n",
    "                \"price\": 100.0, \"size\": 50.0, \"tp\": 102.0, \"sl\": 97.0\n",
    "            }\n",
    "            if st.position == \"FLAT\":\n",
    "                st = set_entry_from_order(st, mock_order)\n",
    "                print(\"Entered LONG:\", st)\n",
    "\n",
    "            # 3) 保存（原子的置換＆バックアップ）\n",
    "            s.save(st)\n",
    "            print(\"State saved:\", os.path.join(STATE_DIR, \"state.json\"))\n",
    "    finally:\n",
    "        store.release_lock()"
   ]
  },
  {
   "cell_type": "markdown",
   "id": "dbac3221-987a-47d0-b618-28819f7c6d46",
   "metadata": {},
   "source": [
    "# 損益管理"
   ]
  },
  {
   "cell_type": "markdown",
   "id": "3ebd941f-66dd-46e1-b439-cf514edbcbc7",
   "metadata": {},
   "source": [
    "## _ensure_metrics_log()"
   ]
  },
  {
   "cell_type": "code",
   "execution_count": 43,
   "id": "1c233ce9-1036-4fb2-96d6-a0b1b9f9c60d",
   "metadata": {
    "execution": {
     "iopub.execute_input": "2025-09-27T12:29:20.683976Z",
     "iopub.status.busy": "2025-09-27T12:29:20.683645Z",
     "iopub.status.idle": "2025-09-27T12:29:20.688809Z",
     "shell.execute_reply": "2025-09-27T12:29:20.687879Z",
     "shell.execute_reply.started": "2025-09-27T12:29:20.683955Z"
    }
   },
   "outputs": [],
   "source": [
    "def _ensure_metrics_log():\n",
    "    \"\"\"\n",
    "    処理:\n",
    "        日次メトリクス `metrics.csv` の存在を保証（無ければヘッダを作成）。\n",
    "    INPUT:\n",
    "        - なし\n",
    "    OUTPUT:\n",
    "        - なし\n",
    "    \"\"\"\n",
    "    path = os.path.join(METRICS_DIR, \"metrics.csv\")\n",
    "    if not os.path.exists(path):\n",
    "        cols = [\n",
    "            \"date\",\"trades\",\"win\",\"loss\",\"win_rate\",\"pnl_day\",\"pnl_cum\",\"max_dd\"\n",
    "        ]\n",
    "        pd.DataFrame(columns=cols).to_csv(path, index=False, encoding=\"utf-8\")"
   ]
  },
  {
   "cell_type": "markdown",
   "id": "b60be529-7bae-48a0-809d-c3e8edefde23",
   "metadata": {},
   "source": [
    "## _append_metrics_row()"
   ]
  },
  {
   "cell_type": "code",
   "execution_count": 44,
   "id": "7acff28f-2cc4-4fb0-962e-03801868a514",
   "metadata": {
    "execution": {
     "iopub.execute_input": "2025-09-27T12:29:20.690307Z",
     "iopub.status.busy": "2025-09-27T12:29:20.689668Z",
     "iopub.status.idle": "2025-09-27T12:29:20.695090Z",
     "shell.execute_reply": "2025-09-27T12:29:20.694425Z",
     "shell.execute_reply.started": "2025-09-27T12:29:20.690278Z"
    }
   },
   "outputs": [],
   "source": [
    "def _append_metrics_row(row: Dict[str, Any]):\n",
    "    \"\"\"\n",
    "    処理:\n",
    "        `metrics.csv` に1行を追記する。\n",
    "    INPUT:\n",
    "        - row (dict): 追記するメトリクス行（キーは `_ensure_metrics_log` の列に合わせる）\n",
    "    OUTPUT:\n",
    "        - なし\n",
    "    \"\"\"\n",
    "    _ensure_metrics_log()\n",
    "    path = os.path.join(METRICS_DIR, \"metrics.csv\")\n",
    "    df = pd.read_csv(path)\n",
    "    df = pd.concat([df, pd.DataFrame([row])], ignore_index=True)\n",
    "    df.to_csv(path, index=False, encoding=\"utf-8\")"
   ]
  },
  {
   "cell_type": "markdown",
   "id": "bea72fd6-ff92-4a3c-92d3-cb4b1577957e",
   "metadata": {},
   "source": [
    "## _append_trade_row_close()"
   ]
  },
  {
   "cell_type": "code",
   "execution_count": 45,
   "id": "a285237e-e9cd-4607-99df-7c4bae87f994",
   "metadata": {
    "execution": {
     "iopub.execute_input": "2025-09-27T12:29:20.695834Z",
     "iopub.status.busy": "2025-09-27T12:29:20.695613Z",
     "iopub.status.idle": "2025-09-27T12:29:20.700864Z",
     "shell.execute_reply": "2025-09-27T12:29:20.699864Z",
     "shell.execute_reply.started": "2025-09-27T12:29:20.695816Z"
    }
   },
   "outputs": [],
   "source": [
    "def _append_trade_row_close(row: Dict[str, Any]):\n",
    "    \"\"\"\n",
    "    処理:\n",
    "        既存の `trades.csv` に**決済行**を追記する（Step 3のヘッダに合わせてカラムを揃える）。\n",
    "        buy行と同一CSVに連続記録することで、後続の集計を容易にする。\n",
    "    INPUT:\n",
    "        - row (dict): 追記データ（決済側）\n",
    "    OUTPUT:\n",
    "        - なし\n",
    "    \"\"\"\n",
    "    path = os.path.join(TRADES_DIR, \"trades.csv\")\n",
    "    if not os.path.exists(path):\n",
    "        # Step 3の関数が未実行の環境でも壊れないよう、ヘッダを作る\n",
    "        cols = [\n",
    "            \"ts_jst\",\"mode\",\"symbol\",\"side\",\"size\",\"price\",\"notional_jpy\",\n",
    "            \"fee_jpy\",\"slippage_bps\",\"taker_fee_bps\",\"tp\",\"sl\",\"order_id\",\"raw\"\n",
    "        ]\n",
    "        pd.DataFrame(columns=cols).to_csv(path, index=False, encoding=\"utf-8\")\n",
    "    df = pd.read_csv(path)\n",
    "    df = pd.concat([df, pd.DataFrame([row])], ignore_index=True)\n",
    "    df.to_csv(path, index=False, encoding=\"utf-8\")"
   ]
  },
  {
   "cell_type": "markdown",
   "id": "0bec9b1e-8598-4f47-9b0e-f2b608bfd9b9",
   "metadata": {},
   "source": [
    "## place_market_sell()"
   ]
  },
  {
   "cell_type": "code",
   "execution_count": 46,
   "id": "812d55d1-abd0-4899-934d-fe679e9ac562",
   "metadata": {
    "execution": {
     "iopub.execute_input": "2025-09-27T12:29:20.701917Z",
     "iopub.status.busy": "2025-09-27T12:29:20.701690Z",
     "iopub.status.idle": "2025-09-27T12:29:20.713681Z",
     "shell.execute_reply": "2025-09-27T12:29:20.712915Z",
     "shell.execute_reply.started": "2025-09-27T12:29:20.701897Z"
    }
   },
   "outputs": [],
   "source": [
    "def place_market_sell(\n",
    "    symbol: str,\n",
    "    size: float,\n",
    "    ref_price: float,\n",
    "    params: \"OrderParams\",\n",
    "    exchange_for_real: Optional[Any] = None\n",
    ") -> Dict[str, Any]:\n",
    "    \"\"\"\n",
    "    処理:\n",
    "        **成行売り（クローズ）**を実行する。Paper は内部約定、Real は ccxt で成行売りを実行。\n",
    "        手数料とスリッページを考慮し、`trades.csv` に決済行を追記する。\n",
    "    INPUT:\n",
    "        - symbol (str): 例 \"XRP/JPY\"\n",
    "        - size (float): 売却数量（XRP）\n",
    "        - ref_price (float): 参照価格（直近確定足の終値など）\n",
    "        - params (OrderParams): mode, slippage_bps, taker_fee_bps など\n",
    "        - exchange_for_real (ccxt.Exchange|None): Realモードで使う場合に渡す\n",
    "    OUTPUT:\n",
    "        - (dict): 約定結果（共通フィールド）\n",
    "            {\n",
    "              \"mode\",\"symbol\",\"side\",\"size\",\"price\",\"notional_jpy\",\n",
    "              \"fee_jpy\",\"order_id\",\"raw\"\n",
    "            }\n",
    "    \"\"\"\n",
    "    ts_jst = datetime.now(TZ_JST).isoformat(timespec=\"seconds\")\n",
    "    side = \"sell\"\n",
    "\n",
    "    if params.mode == \"paper\":\n",
    "        slip = params.slippage_bps / 10000.0\n",
    "        fee = params.taker_fee_bps / 10000.0\n",
    "        fill_price = ref_price * (1.0 - slip)  # 売りは不利側\n",
    "        notional = fill_price * size\n",
    "        fee_jpy = notional * fee\n",
    "        order_id = f\"PAPER-{int(time.time())}\"\n",
    "        raw = {\"reason\": \"paper_fill_close\", \"ref_price\": ref_price}\n",
    "\n",
    "    elif params.mode == \"real\":\n",
    "        from math import floor\n",
    "        if exchange_for_real is None:\n",
    "            exchange_for_real = _init_ccxt_for_real(params.api_key, params.secret)\n",
    "        exchange_for_real.load_markets()\n",
    "\n",
    "        adj_size = _fit_amount_to_market(exchange_for_real, symbol, size)\n",
    "        if adj_size <= 0:\n",
    "            raise ValueError(\"Calculated close size is below exchange minimum/precision.\")\n",
    "\n",
    "        order = exchange_for_real.create_order(symbol=symbol, type=\"market\", side=\"sell\", amount=adj_size)\n",
    "        order_id = order.get(\"id\")\n",
    "        filled = float(order.get(\"filled\", adj_size))\n",
    "        avg = float(order.get(\"average\") or order.get(\"price\") or ref_price)\n",
    "        fill_price = avg\n",
    "        notional = fill_price * filled\n",
    "        fee_cost = None\n",
    "        if order.get(\"fees\"):\n",
    "            try:\n",
    "                fee_obj = order[\"fees\"][0]\n",
    "                fee_cost = float(fee_obj.get(\"cost\", 0.0))\n",
    "            except Exception:\n",
    "                fee_cost = None\n",
    "        if fee_cost is None:\n",
    "            fee_cost = notional * (params.taker_fee_bps / 10000.0)\n",
    "        fee_jpy = fee_cost\n",
    "        size = filled\n",
    "        raw = order\n",
    "    else:\n",
    "        raise ValueError(\"OrderParams.mode must be 'paper' or 'real'.\")\n",
    "\n",
    "    # trades.csv へ追記\n",
    "    row = {\n",
    "        \"ts_jst\": ts_jst,\n",
    "        \"mode\": params.mode,\n",
    "        \"symbol\": symbol,\n",
    "        \"side\": side,\n",
    "        \"size\": round(size, 8),\n",
    "        \"price\": round(fill_price, 8),\n",
    "        \"notional_jpy\": round(notional, 2),\n",
    "        \"fee_jpy\": round(fee_jpy, 2),\n",
    "        \"slippage_bps\": params.slippage_bps,\n",
    "        \"taker_fee_bps\": params.taker_fee_bps,\n",
    "        \"tp\": None,  # 決済側は空でOK\n",
    "        \"sl\": None,\n",
    "        \"order_id\": order_id,\n",
    "        \"raw\": json.dumps(raw, ensure_ascii=False),\n",
    "    }\n",
    "    _append_trade_row_close(row)\n",
    "\n",
    "    return {\n",
    "        \"mode\": params.mode,\n",
    "        \"symbol\": symbol,\n",
    "        \"side\": side,\n",
    "        \"size\": float(row[\"size\"]),\n",
    "        \"price\": float(row[\"price\"]),\n",
    "        \"notional_jpy\": float(row[\"notional_jpy\"]),\n",
    "        \"fee_jpy\": float(row[\"fee_jpy\"]),\n",
    "        \"order_id\": order_id,\n",
    "        \"raw\": raw,\n",
    "    }"
   ]
  },
  {
   "cell_type": "markdown",
   "id": "aca8b0b0-1828-4dfe-84ec-056cfd00f065",
   "metadata": {},
   "source": [
    "## is_exit_reached()"
   ]
  },
  {
   "cell_type": "code",
   "execution_count": 47,
   "id": "950e6f2c-9038-4b9b-9934-245458c35328",
   "metadata": {
    "execution": {
     "iopub.execute_input": "2025-09-27T12:29:20.714740Z",
     "iopub.status.busy": "2025-09-27T12:29:20.714437Z",
     "iopub.status.idle": "2025-09-27T12:29:20.720108Z",
     "shell.execute_reply": "2025-09-27T12:29:20.719359Z",
     "shell.execute_reply.started": "2025-09-27T12:29:20.714712Z"
    }
   },
   "outputs": [],
   "source": [
    "def is_exit_reached(current_price: float, tp: float, sl: float) -> Tuple[bool, Optional[str]]:\n",
    "    \"\"\"\n",
    "    処理:\n",
    "        現在価格が TP または SL に到達しているかを判定する（ロング前提）。\n",
    "    INPUT:\n",
    "        - current_price (float): 現在参照価格（直近確定足終値など）\n",
    "        - tp (float): 利確水準価格\n",
    "        - sl (float): 損切水準価格\n",
    "    OUTPUT:\n",
    "        - (Tuple[bool, str|None]): (到達しているか, 理由 \"TP\" or \"SL\" or None)\n",
    "    \"\"\"\n",
    "    if current_price >= tp > 0:\n",
    "        return True, \"TP\"\n",
    "    if 0 < sl >= current_price:\n",
    "        return True, \"SL\"\n",
    "    return False, None"
   ]
  },
  {
   "cell_type": "markdown",
   "id": "57c8e581-9847-4126-91c2-54b2f52b00cd",
   "metadata": {},
   "source": [
    "## realize_pnl_and_update_state()"
   ]
  },
  {
   "cell_type": "code",
   "execution_count": 48,
   "id": "cef7c36d-ab5c-4366-8eaf-99cf25247b23",
   "metadata": {
    "execution": {
     "iopub.execute_input": "2025-09-27T12:29:20.721476Z",
     "iopub.status.busy": "2025-09-27T12:29:20.721006Z",
     "iopub.status.idle": "2025-09-27T12:29:20.727363Z",
     "shell.execute_reply": "2025-09-27T12:29:20.726696Z",
     "shell.execute_reply.started": "2025-09-27T12:29:20.721447Z"
    }
   },
   "outputs": [],
   "source": [
    "def realize_pnl_and_update_state(\n",
    "    state: \"BotState\",\n",
    "    close_result: Dict[str, Any],\n",
    "    buy_fee_jpy: float\n",
    ") -> Tuple[\"BotState\", float]:\n",
    "    \"\"\"\n",
    "    処理:\n",
    "        決済結果（売り）を受け取り、**実現損益** を計算して state を更新する。\n",
    "        PnLは `(exit - entry) * size - (buy_fee + sell_fee)` とする。\n",
    "        state.position は FLAT に戻し、`pnl_cum` と `streak_loss` を更新する。\n",
    "    INPUT:\n",
    "        - state (BotState): 決済前の状態（position=\"LONG\" を想定）\n",
    "        - close_result (dict): place_market_sell() の戻り値（'price','size','fee_jpy'等）\n",
    "        - buy_fee_jpy (float): エントリー時（買い）の手数料JPY（trades.csvから拾う設計）\n",
    "    OUTPUT:\n",
    "        - (Tuple[BotState, float]): (更新後state, realized_pnl_jpy)\n",
    "    \"\"\"\n",
    "    exit_price = float(close_result[\"price\"])\n",
    "    size = float(close_result[\"size\"])\n",
    "    sell_fee = float(close_result.get(\"fee_jpy\", 0.0))\n",
    "    entry_price = float(state.entry_price)\n",
    "\n",
    "    pnl_pos = (exit_price - entry_price) * size\n",
    "    pnl = pnl_pos - (buy_fee_jpy + sell_fee)\n",
    "\n",
    "    # 累積更新\n",
    "    state.pnl_cum = float(state.pnl_cum or 0.0) + pnl\n",
    "    won = pnl >= 0.0\n",
    "    state = bump_streak(state, won=won)\n",
    "\n",
    "    # FLATへ\n",
    "    state = clear_to_flat(state)\n",
    "    return state, float(pnl)"
   ]
  },
  {
   "cell_type": "markdown",
   "id": "034dda3e-dc7a-4a8a-8b79-a5b5f67df8f1",
   "metadata": {},
   "source": [
    "## find_last_buy_fee_from_trades()"
   ]
  },
  {
   "cell_type": "code",
   "execution_count": 49,
   "id": "2bbcb301-99c9-4c44-aa4a-8319e8cd17a3",
   "metadata": {
    "execution": {
     "iopub.execute_input": "2025-09-27T12:29:20.728968Z",
     "iopub.status.busy": "2025-09-27T12:29:20.728427Z",
     "iopub.status.idle": "2025-09-27T12:29:20.733384Z",
     "shell.execute_reply": "2025-09-27T12:29:20.732445Z",
     "shell.execute_reply.started": "2025-09-27T12:29:20.728938Z"
    }
   },
   "outputs": [],
   "source": [
    "def find_last_buy_fee_from_trades(symbol: str) -> float:\n",
    "    \"\"\"\n",
    "    処理:\n",
    "        `trades.csv` から直近の **買い（side='buy'）** の行を探して手数料JPYを返す。\n",
    "        決済時の費用合算のために使用。\n",
    "    INPUT:\n",
    "        - symbol (str): 例 \"XRP/JPY\"\n",
    "    OUTPUT:\n",
    "        - (float): 手数料JPY（見つからなければ 0.0）\n",
    "    \"\"\"\n",
    "    path = os.path.join(TRADES_DIR, \"trades.csv\")\n",
    "    if not os.path.exists(path):\n",
    "        return 0.0\n",
    "    df = pd.read_csv(path)\n",
    "    df = df[(df[\"symbol\"] == symbol) & (df[\"side\"] == \"buy\")]\n",
    "    if df.empty:\n",
    "        return 0.0\n",
    "    return float(df.iloc[-1][\"fee_jpy\"] or 0.0)"
   ]
  },
  {
   "cell_type": "markdown",
   "id": "075b97d4-fce3-4014-b44a-9244056b802c",
   "metadata": {},
   "source": [
    "## append_trade_outcome_row()"
   ]
  },
  {
   "cell_type": "code",
   "execution_count": 50,
   "id": "c344d798-5b7d-42a0-8854-84e09e5e33b7",
   "metadata": {
    "execution": {
     "iopub.execute_input": "2025-09-27T12:29:20.734802Z",
     "iopub.status.busy": "2025-09-27T12:29:20.734481Z",
     "iopub.status.idle": "2025-09-27T12:29:20.740599Z",
     "shell.execute_reply": "2025-09-27T12:29:20.739901Z",
     "shell.execute_reply.started": "2025-09-27T12:29:20.734773Z"
    }
   },
   "outputs": [],
   "source": [
    "def append_trade_outcome_row(\n",
    "    symbol: str,\n",
    "    reason: str,\n",
    "    entry_price: float,\n",
    "    exit_price: float,\n",
    "    size: float,\n",
    "    pnl_jpy: float\n",
    ") -> None:\n",
    "    \"\"\"\n",
    "    処理:\n",
    "        トレード単位の結果行を **trades.csv** に補足追記（任意）。\n",
    "        解析時の使い勝手向上のため、約定ログとは別に「集約行」を足しておく。\n",
    "    INPUT:\n",
    "        - symbol (str), reason (str: \"TP\"/\"SL\"), entry_price (float), exit_price (float), size (float), pnl_jpy (float)\n",
    "    OUTPUT:\n",
    "        - なし\n",
    "    \"\"\"\n",
    "    ts_jst = datetime.now(TZ_JST).isoformat(timespec=\"seconds\")\n",
    "    row = {\n",
    "        \"ts_jst\": ts_jst,\n",
    "        \"mode\": \"summary\",\n",
    "        \"symbol\": symbol,\n",
    "        \"side\": reason,\n",
    "        \"size\": round(size, 8),\n",
    "        \"price\": round(exit_price, 8),\n",
    "        \"notional_jpy\": round(exit_price * size, 2),\n",
    "        \"fee_jpy\": round(0.0, 2),\n",
    "        \"slippage_bps\": None,\n",
    "        \"taker_fee_bps\": None,\n",
    "        \"tp\": None,\n",
    "        \"sl\": None,\n",
    "        \"order_id\": f\"SUMMARY-{int(time.time())}\",\n",
    "        \"raw\": json.dumps({\"entry_price\": entry_price, \"exit_price\": exit_price, \"pnl_jpy\": pnl_jpy}, ensure_ascii=False)\n",
    "    }\n",
    "    _append_trade_row_close(row)\n"
   ]
  },
  {
   "cell_type": "markdown",
   "id": "8281426f-3022-4812-9e40-db6b633204b1",
   "metadata": {},
   "source": [
    "## close_if_reached_and_update()"
   ]
  },
  {
   "cell_type": "code",
   "execution_count": 51,
   "id": "9cda6aec-cada-4c77-b935-300bab67a571",
   "metadata": {
    "execution": {
     "iopub.execute_input": "2025-09-27T12:29:20.741704Z",
     "iopub.status.busy": "2025-09-27T12:29:20.741449Z",
     "iopub.status.idle": "2025-09-27T12:29:20.749740Z",
     "shell.execute_reply": "2025-09-27T12:29:20.749107Z",
     "shell.execute_reply.started": "2025-09-27T12:29:20.741681Z"
    }
   },
   "outputs": [],
   "source": [
    "def close_if_reached_and_update(\n",
    "    current_price: float,\n",
    "    symbol: str,\n",
    "    params: \"OrderParams\",\n",
    "    store: \"StateStore\",\n",
    "    exchange_for_real: Optional[Any] = None\n",
    ") -> Optional[Dict[str, Any]]:\n",
    "    \"\"\"\n",
    "    処理:\n",
    "        現在価格（直近確定足の終値など）で **TP/SL到達を判定**し、到達していれば\n",
    "        **成行売りで決済** → **実現PnL算出** → **state.json更新** → **ログ追記** を一括実行する。\n",
    "    INPUT:\n",
    "        - current_price (float): 判定に使う現在価格（JST確定足想定）\n",
    "        - symbol (str): 例 \"XRP/JPY\"\n",
    "        - params (OrderParams): 発注/手数料パラメータ（paper/real共通）\n",
    "        - store (StateStore): `with store as s:` でロック取得済みのものを渡す\n",
    "        - exchange_for_real (ccxt.Exchange|None): Realモードのときに渡すと効率的\n",
    "    OUTPUT:\n",
    "        - (dict|None): 決済した場合は {\"reason\",\"close_result\",\"pnl_jpy\",\"state\"} を返す。到達していない場合は None。\n",
    "        - 例外: API失敗やstate不整合は例外送出\n",
    "    \"\"\"\n",
    "    st = store.state\n",
    "    if st.position != \"LONG\":\n",
    "        return None  # 建玉なし\n",
    "\n",
    "    reached, reason = is_exit_reached(current_price, tp=st.tp, sl=st.sl)\n",
    "    if not reached:\n",
    "        return None\n",
    "\n",
    "    # 売り約定\n",
    "    close_res = place_market_sell(\n",
    "        symbol=symbol,\n",
    "        size=st.size,\n",
    "        ref_price=current_price,\n",
    "        params=params,\n",
    "        exchange_for_real=exchange_for_real\n",
    "    )\n",
    "\n",
    "    # PnL算出\n",
    "    buy_fee = find_last_buy_fee_from_trades(symbol)\n",
    "    st_after, pnl_jpy = realize_pnl_and_update_state(st, close_res, buy_fee_jpy=buy_fee)\n",
    "\n",
    "    # trades.csv に summary を補足\n",
    "    append_trade_outcome_row(\n",
    "        symbol=symbol, reason=reason,\n",
    "        entry_price=st.entry_price, exit_price=close_res[\"price\"],\n",
    "        size=st.size, pnl_jpy=pnl_jpy\n",
    "    )\n",
    "\n",
    "    # state保存\n",
    "    store.save(st_after)\n",
    "\n",
    "    return {\n",
    "        \"reason\": reason,\n",
    "        \"close_result\": close_res,\n",
    "        \"pnl_jpy\": pnl_jpy,\n",
    "        \"state\": st_after,\n",
    "    }"
   ]
  },
  {
   "cell_type": "markdown",
   "id": "39444ab2-5882-4a6b-a6e2-848e7103d058",
   "metadata": {},
   "source": [
    "## お試し"
   ]
  },
  {
   "cell_type": "code",
   "execution_count": 52,
   "id": "26e6c67d-0a7d-42a4-a0fb-f3bbf36cef40",
   "metadata": {
    "execution": {
     "iopub.execute_input": "2025-09-27T12:29:20.752268Z",
     "iopub.status.busy": "2025-09-27T12:29:20.751921Z",
     "iopub.status.idle": "2025-09-27T12:29:20.759893Z",
     "shell.execute_reply": "2025-09-27T12:29:20.759205Z",
     "shell.execute_reply.started": "2025-09-27T12:29:20.752239Z"
    }
   },
   "outputs": [
    {
     "name": "stderr",
     "output_type": "stream",
     "text": [
      "2025-09-27 12:29:20,756 [ERROR] PnL step error: [Errno 2] No such file or directory: './data/state/state.json.lock'\n",
      "Traceback (most recent call last):\n",
      "  File \"/tmp/ipykernel_19633/2442555823.py\", line 6, in <module>\n",
      "    with st_store as s:\n",
      "         ^^^^^^^^\n",
      "  File \"/tmp/ipykernel_19633/454459723.py\", line 122, in __enter__\n",
      "    ok = self.acquire_lock(timeout_sec=5.0)\n",
      "         ^^^^^^^^^^^^^^^^^^^^^^^^^^^^^^^^^^\n",
      "  File \"/tmp/ipykernel_19633/454459723.py\", line 32, in acquire_lock\n",
      "    fd = os.open(self.lock_path, os.O_CREAT | os.O_EXCL | os.O_WRONLY)\n",
      "         ^^^^^^^^^^^^^^^^^^^^^^^^^^^^^^^^^^^^^^^^^^^^^^^^^^^^^^^^^^^^^\n",
      "FileNotFoundError: [Errno 2] No such file or directory: './data/state/state.json.lock'\n"
     ]
    }
   ],
   "source": [
    "if __name__ == \"__main__\":\n",
    "    try:\n",
    "        # 1) 状態ロード（ロック付き）\n",
    "        state_path = \"./data/state/state.json\"\n",
    "        st_store = StateStore(state_path)\n",
    "        with st_store as s:\n",
    "            st = s.state\n",
    "\n",
    "            # 2) 仮の現在価格（通常は直近確定足の close を渡す）\n",
    "            # 例: TP到達ケース（entry=100, tp=102 のときに 102.5 を渡す）\n",
    "            current_price = (st.tp or 0) + 0.1\n",
    "\n",
    "            # 3) 注文/手数料パラメータ（paper）\n",
    "            op = OrderParams(mode=\"paper\", slippage_bps=5.0, taker_fee_bps=15.0)\n",
    "\n",
    "            # 4) 到達判定 → 決済 → PnL更新\n",
    "            result = close_if_reached_and_update(\n",
    "                current_price=current_price,\n",
    "                symbol=\"XRP/JPY\",\n",
    "                params=op,\n",
    "                store=st_store,\n",
    "                exchange_for_real=None\n",
    "            )\n",
    "            if result is None:\n",
    "                print(\"No close (TP/SL未到達)\")\n",
    "            else:\n",
    "                print(\"Closed:\", result[\"reason\"], \"PnL:\", round(result[\"pnl_jpy\"], 2))\n",
    "    except Exception as e:\n",
    "        logger.exception(f\"PnL step error: {e}\")"
   ]
  },
  {
   "cell_type": "markdown",
   "id": "ae347cc8-1520-4568-a8bd-d114f8f7bdc8",
   "metadata": {},
   "source": [
    "# 通知機能"
   ]
  },
  {
   "cell_type": "markdown",
   "id": "110d9b17-c1f4-4f2f-8818-70b0e1aec95c",
   "metadata": {},
   "source": [
    "## _http_post_json()"
   ]
  },
  {
   "cell_type": "code",
   "execution_count": 53,
   "id": "0ea64b21-9e28-49c2-a99e-407e1e0fdff8",
   "metadata": {
    "execution": {
     "iopub.execute_input": "2025-09-27T12:29:20.761302Z",
     "iopub.status.busy": "2025-09-27T12:29:20.760988Z",
     "iopub.status.idle": "2025-09-27T12:29:20.765297Z",
     "shell.execute_reply": "2025-09-27T12:29:20.764414Z",
     "shell.execute_reply.started": "2025-09-27T12:29:20.761274Z"
    }
   },
   "outputs": [],
   "source": [
    "def _http_post_json(url: str, payload: Dict[str, Any], timeout: int) -> Tuple[int, str]:\n",
    "    \"\"\"\n",
    "    処理:\n",
    "        指定URLに JSON をPOST し、HTTPステータスと応答本文を返す。\n",
    "    INPUT:\n",
    "        - url (str): Webhook URL\n",
    "        - payload (dict): 送信するJSON\n",
    "        - timeout (int): タイムアウト秒\n",
    "    OUTPUT:\n",
    "        - (status_code, text) (Tuple[int, str]): レスポンスのHTTPステータスと本文\n",
    "    \"\"\"\n",
    "    import requests\n",
    "    resp = requests.post(url, json=payload, timeout=timeout)\n",
    "    return resp.status_code, resp.text"
   ]
  },
  {
   "cell_type": "markdown",
   "id": "8b78aea8-2c2f-444d-a13a-61a55373f08d",
   "metadata": {},
   "source": [
    "## send_slack_message()"
   ]
  },
  {
   "cell_type": "code",
   "execution_count": 54,
   "id": "dab6163f-c533-4dcb-81e2-c3667139ce9f",
   "metadata": {
    "execution": {
     "iopub.execute_input": "2025-09-27T12:29:20.766537Z",
     "iopub.status.busy": "2025-09-27T12:29:20.766166Z",
     "iopub.status.idle": "2025-09-27T12:29:20.772752Z",
     "shell.execute_reply": "2025-09-27T12:29:20.771779Z",
     "shell.execute_reply.started": "2025-09-27T12:29:20.766508Z"
    }
   },
   "outputs": [],
   "source": [
    "def send_slack_message(cfg: SlackConfig, text: str, blocks: Optional[List[Dict[str, Any]]] = None) -> bool:\n",
    "    \"\"\"\n",
    "    処理:\n",
    "        Slack Incoming Webhook にメッセージを送信する。未設定環境では no-op で True を返す。\n",
    "        リトライを行い、失敗時は False を返す。\n",
    "    INPUT:\n",
    "        - cfg (SlackConfig): Webhook設定\n",
    "        - text (str): プレーンテキストのメッセージ（必須）\n",
    "        - blocks (list[dict]|None): Block Kit JSON（任意）\n",
    "    OUTPUT:\n",
    "        - (bool): 送信成功で True、失敗で False（no-op時も True）\n",
    "    \"\"\"\n",
    "    url = cfg.resolved_url()\n",
    "    if not url:\n",
    "        SLACK_LOGGER.warning(\"SLACK_WEBHOOK_URL が未設定のため、通知はスキップします（no-op）。\")\n",
    "        return True  # no-opだが成功扱い\n",
    "\n",
    "    payload = {\n",
    "        \"username\": cfg.username,\n",
    "        \"icon_emoji\": cfg.icon_emoji,\n",
    "        \"text\": text\n",
    "    }\n",
    "    if blocks:\n",
    "        payload[\"blocks\"] = blocks\n",
    "\n",
    "    last_err = None\n",
    "    for attempt in range(1, cfg.max_retries + 1):\n",
    "        try:\n",
    "            status, body = _http_post_json(url, payload, timeout=cfg.timeout_sec)\n",
    "            if 200 <= status < 300:\n",
    "                return True\n",
    "            last_err = f\"HTTP {status}: {body}\"\n",
    "        except Exception as e:\n",
    "            last_err = str(e)\n",
    "        sleep_sec = (cfg.backoff_factor ** (attempt - 1))\n",
    "        SLACK_LOGGER.warning(f\"[{attempt}/{cfg.max_retries}] Slack送信失敗: {last_err} -> sleep {sleep_sec:.2f}s\")\n",
    "        time.sleep(sleep_sec)\n",
    "    SLACK_LOGGER.error(f\"Slack送信に失敗しました: {last_err}\")\n",
    "    return False"
   ]
  },
  {
   "cell_type": "markdown",
   "id": "2668fd77-7811-4159-9a8b-e5aaa1597217",
   "metadata": {},
   "source": [
    "## fmt_signal_gc"
   ]
  },
  {
   "cell_type": "code",
   "execution_count": 55,
   "id": "619d46e5-4123-48f3-93fd-511e85cd12a5",
   "metadata": {
    "execution": {
     "iopub.execute_input": "2025-09-27T12:29:20.774145Z",
     "iopub.status.busy": "2025-09-27T12:29:20.773712Z",
     "iopub.status.idle": "2025-09-27T12:29:20.779421Z",
     "shell.execute_reply": "2025-09-27T12:29:20.778709Z",
     "shell.execute_reply.started": "2025-09-27T12:29:20.774061Z"
    }
   },
   "outputs": [],
   "source": [
    "def fmt_signal_gc(bar_ts: str, price: float, sma_s: float, sma_l: float) -> Tuple[str, List[Dict[str, Any]]]:\n",
    "    \"\"\"\n",
    "    処理:\n",
    "        ゴールデンクロス検知イベントのメッセージとblocksを生成する。\n",
    "    INPUT:\n",
    "        - bar_ts (str): バー時刻（JST, ISO文字列推奨）\n",
    "        - price (float): 終値などの参照価格\n",
    "        - sma_s (float), sma_l (float): 短期/長期SMA\n",
    "    OUTPUT:\n",
    "        - (text, blocks): Slack送信に使うテキストとBlock Kit配列\n",
    "    \"\"\"\n",
    "    text = f\":vertical_traffic_light: *GC detected* @ {bar_ts}  price={price:.4f}  (SMA30={sma_s:.4f} > SMA60={sma_l:.4f})\"\n",
    "    blocks = [\n",
    "        {\"type\": \"header\", \"text\": {\"type\": \"plain_text\", \"text\": \"Golden Cross Detected\"}},\n",
    "        {\"type\": \"section\", \"text\": {\"type\": \"mrkdwn\", \"text\": f\"*Time (JST)*: `{bar_ts}`\\n*Price*: `{price:.4f}`\\n*SMA30/60*: `{sma_s:.4f}` / `{sma_l:.4f}`\"}}\n",
    "    ]\n",
    "    return text, blocks"
   ]
  },
  {
   "cell_type": "markdown",
   "id": "43f97c5a-6d76-4912-92dc-8f5591e18b51",
   "metadata": {},
   "source": [
    "## fmt_entry()"
   ]
  },
  {
   "cell_type": "code",
   "execution_count": 56,
   "id": "073e2a85-9bb7-421d-90ce-7cb1b9bb25c5",
   "metadata": {
    "execution": {
     "iopub.execute_input": "2025-09-27T12:29:20.780967Z",
     "iopub.status.busy": "2025-09-27T12:29:20.780458Z",
     "iopub.status.idle": "2025-09-27T12:29:20.786290Z",
     "shell.execute_reply": "2025-09-27T12:29:20.785653Z",
     "shell.execute_reply.started": "2025-09-27T12:29:20.780861Z"
    }
   },
   "outputs": [],
   "source": [
    "def fmt_entry(symbol: str, price: float, size: float, tp: float, sl: float) -> Tuple[str, List[Dict[str, Any]]]:\n",
    "    \"\"\"\n",
    "    処理:\n",
    "        新規エントリーのメッセージとblocksを生成する。\n",
    "    INPUT:\n",
    "        - symbol (str), price (float), size (float), tp (float), sl (float)\n",
    "    OUTPUT:\n",
    "        - (text, blocks)\n",
    "    \"\"\"\n",
    "    text = f\":rocket: Entry LONG {symbol}  price={price:.4f} size={size:.4f}  TP={tp:.4f}  SL={sl:.4f}\"\n",
    "    blocks = [\n",
    "        {\"type\": \"header\", \"text\": {\"type\": \"plain_text\", \"text\": \"New Entry\"}},\n",
    "        {\"type\": \"section\", \"fields\": [\n",
    "            {\"type\": \"mrkdwn\", \"text\": f\"*Symbol:*\\n{symbol}\"},\n",
    "            {\"type\": \"mrkdwn\", \"text\": f\"*Price:*\\n{price:.4f}\"},\n",
    "            {\"type\": \"mrkdwn\", \"text\": f\"*Size:*\\n{size:.4f}\"},\n",
    "            {\"type\": \"mrkdwn\", \"text\": f\"*TP:*\\n{tp:.4f}\"},\n",
    "            {\"type\": \"mrkdwn\", \"text\": f\"*SL:*\\n{sl:.4f}\"},\n",
    "        ]}\n",
    "    ]\n",
    "    return text, blocks"
   ]
  },
  {
   "cell_type": "markdown",
   "id": "de6a84fb-ef44-4eca-931d-bfcba24398e8",
   "metadata": {},
   "source": [
    "## fmt_close()"
   ]
  },
  {
   "cell_type": "code",
   "execution_count": 57,
   "id": "3e234090-c74a-4697-9962-a74c56be4e93",
   "metadata": {
    "execution": {
     "iopub.execute_input": "2025-09-27T12:29:20.788140Z",
     "iopub.status.busy": "2025-09-27T12:29:20.786961Z",
     "iopub.status.idle": "2025-09-27T12:29:20.794545Z",
     "shell.execute_reply": "2025-09-27T12:29:20.793819Z",
     "shell.execute_reply.started": "2025-09-27T12:29:20.788111Z"
    }
   },
   "outputs": [],
   "source": [
    "def fmt_close(reason: str, price: float, size: float, pnl_jpy: float, pnl_cum: float) -> Tuple[str, List[Dict[str, Any]]]:\n",
    "    \"\"\"\n",
    "    処理:\n",
    "        決済完了（TP/SL）のメッセージとblocksを生成する。\n",
    "    INPUT:\n",
    "        - reason (str): \"TP\" or \"SL\"\n",
    "        - price (float): 決済価格\n",
    "        - size (float): 数量\n",
    "        - pnl_jpy (float): 実現損益（JPY）\n",
    "        - pnl_cum (float): 累積損益（JPY）\n",
    "    OUTPUT:\n",
    "        - (text, blocks)\n",
    "    \"\"\"\n",
    "    emoji = \":white_check_mark:\" if pnl_jpy >= 0 else \":x:\"\n",
    "    text = f\"{emoji} Close ({reason})  price={price:.4f} size={size:.4f}  PnL={pnl_jpy:.2f} JPY  Cum={pnl_cum:.2f}\"\n",
    "    blocks = [\n",
    "        {\"type\": \"header\", \"text\": {\"type\": \"plain_text\", \"text\": f\"Close - {reason}\"}},\n",
    "        {\"type\": \"section\", \"fields\": [\n",
    "            {\"type\": \"mrkdwn\", \"text\": f\"*Price:*\\n{price:.4f}\"},\n",
    "            {\"type\": \"mrkdwn\", \"text\": f\"*Size:*\\n{size:.4f}\"},\n",
    "            {\"type\": \"mrkdwn\", \"text\": f\"*PnL (JPY):*\\n{pnl_jpy:.2f}\"},\n",
    "            {\"type\": \"mrkdwn\", \"text\": f\"*PnL Cum (JPY):*\\n{pnl_cum:.2f}\"},\n",
    "        ]}\n",
    "    ]\n",
    "    return text, blocks"
   ]
  },
  {
   "cell_type": "markdown",
   "id": "1fdcae8f-b959-4b82-8f5b-db7e325f4aae",
   "metadata": {},
   "source": [
    "## fmt_error()"
   ]
  },
  {
   "cell_type": "code",
   "execution_count": 58,
   "id": "16e3391e-3d1d-4db5-b371-7e910eb594d5",
   "metadata": {
    "execution": {
     "iopub.execute_input": "2025-09-27T12:29:20.796776Z",
     "iopub.status.busy": "2025-09-27T12:29:20.796424Z",
     "iopub.status.idle": "2025-09-27T12:29:20.802169Z",
     "shell.execute_reply": "2025-09-27T12:29:20.801541Z",
     "shell.execute_reply.started": "2025-09-27T12:29:20.796753Z"
    }
   },
   "outputs": [],
   "source": [
    "def fmt_error(context: str, message: str) -> Tuple[str, List[Dict[str, Any]]]:\n",
    "    \"\"\"\n",
    "    処理:\n",
    "        エラー通知のメッセージとblocksを生成する。\n",
    "    INPUT:\n",
    "        - context (str): エラー発生箇所の文脈（\"order\", \"signal\", \"fetch\" 等）\n",
    "        - message (str): エラーメッセージ\n",
    "    OUTPUT:\n",
    "        - (text, blocks)\n",
    "    \"\"\"\n",
    "    text = f\":warning: *Error* in `{context}` — {message}\"\n",
    "    blocks = [\n",
    "        {\"type\": \"section\", \"text\": {\"type\": \"mrkdwn\", \"text\": f\":warning: *Error* in `{context}`\\n```{message}```\"}},\n",
    "    ]\n",
    "    return text, blocks"
   ]
  },
  {
   "cell_type": "markdown",
   "id": "619528ca-58f7-46b2-9008-2507a6f38da6",
   "metadata": {},
   "source": [
    "## build_daily_summary()"
   ]
  },
  {
   "cell_type": "code",
   "execution_count": 59,
   "id": "7cf7c9f5-fcbc-4fec-8c41-ee6bdaed3f03",
   "metadata": {
    "execution": {
     "iopub.execute_input": "2025-09-27T12:29:20.804116Z",
     "iopub.status.busy": "2025-09-27T12:29:20.803891Z",
     "iopub.status.idle": "2025-09-27T12:29:20.813540Z",
     "shell.execute_reply": "2025-09-27T12:29:20.812841Z",
     "shell.execute_reply.started": "2025-09-27T12:29:20.804097Z"
    }
   },
   "outputs": [],
   "source": [
    "def build_daily_summary(trades_csv_path: str, today_str: Optional[str] = None) -> Dict[str, Any]:\n",
    "    \"\"\"\n",
    "    処理:\n",
    "        trades.csv から当日の結果を集計し、日次サマリ情報を作る。\n",
    "        （簡易集計：当日中の summary 行が無い場合でも約定ログから概算を作成可能）\n",
    "    INPUT:\n",
    "        - trades_csv_path (str): `./data/trades/trades.csv` のパス\n",
    "        - today_str (str|None): \"YYYY-MM-DD\"。省略時はJSTの当日。\n",
    "    OUTPUT:\n",
    "        - (dict): サマリ情報（trades, win, loss, win_rate, pnl_day）\n",
    "    \"\"\"\n",
    "    if not os.path.exists(trades_csv_path):\n",
    "        return {\"trades\": 0, \"win\": 0, \"loss\": 0, \"win_rate\": 0.0, \"pnl_day\": 0.0}\n",
    "\n",
    "    today = today_str or datetime.now(TZ_JST).strftime(\"%Y-%m-%d\")\n",
    "    df = pd.read_csv(trades_csv_path)\n",
    "    if \"ts_jst\" not in df.columns:\n",
    "        return {\"trades\": 0, \"win\": 0, \"loss\": 0, \"win_rate\": 0.0, \"pnl_day\": 0.0}\n",
    "\n",
    "    # 当日の行に限定\n",
    "    df[\"date\"] = pd.to_datetime(df[\"ts_jst\"], errors=\"coerce\").dt.tz_localize(None).dt.strftime(\"%Y-%m-%d\")\n",
    "    dfd = df[df[\"date\"] == today]\n",
    "\n",
    "    pnl_day = 0.0\n",
    "    trades = 0\n",
    "    win = 0\n",
    "    loss = 0\n",
    "\n",
    "    # summary行があればそれを集計\n",
    "    if not dfd.empty and \"mode\" in dfd.columns and (dfd[\"mode\"] == \"summary\").any():\n",
    "        sdf = dfd[dfd[\"mode\"] == \"summary\"]\n",
    "        for _, r in sdf.iterrows():\n",
    "            try:\n",
    "                raw = json.loads(r.get(\"raw\", \"{}\"))\n",
    "                pnl_day += float(raw.get(\"pnl_jpy\", 0.0))\n",
    "                trades += 1\n",
    "                if float(raw.get(\"pnl_jpy\", 0.0)) >= 0:\n",
    "                    win += 1\n",
    "                else:\n",
    "                    loss += 1\n",
    "            except Exception:\n",
    "                continue\n",
    "    else:\n",
    "        # summaryが無い場合：sell行から概算（手数料はalready込みの行を想定）\n",
    "        if \"side\" in dfd.columns:\n",
    "            sells = dfd[dfd[\"side\"] == \"sell\"]\n",
    "            trades = len(sells)\n",
    "            for _, r in sells.iterrows():\n",
    "                # rawの中にentry/exit価格があれば計算、無ければnotional差分からは難しいので0扱い\n",
    "                try:\n",
    "                    raw = json.loads(r.get(\"raw\", \"{}\"))\n",
    "                    pnl = float(raw.get(\"pnl_jpy\", 0.0))\n",
    "                except Exception:\n",
    "                    pnl = 0.0\n",
    "                pnl_day += pnl\n",
    "                if pnl >= 0:\n",
    "                    win += 1\n",
    "                else:\n",
    "                    loss += 1\n",
    "\n",
    "    win_rate = (win / trades * 100.0) if trades > 0 else 0.0\n",
    "    return {\"trades\": trades, \"win\": win, \"loss\": loss, \"win_rate\": win_rate, \"pnl_day\": pnl_day}\n"
   ]
  },
  {
   "cell_type": "markdown",
   "id": "a711a83a-7e00-459b-a69a-69625ed1a89f",
   "metadata": {},
   "source": [
    "## fmt_daily_summary()"
   ]
  },
  {
   "cell_type": "code",
   "execution_count": 60,
   "id": "98638a79-cb0c-4055-ab05-0fb713fac4ea",
   "metadata": {
    "execution": {
     "iopub.execute_input": "2025-09-27T12:29:20.815835Z",
     "iopub.status.busy": "2025-09-27T12:29:20.815536Z",
     "iopub.status.idle": "2025-09-27T12:29:20.822817Z",
     "shell.execute_reply": "2025-09-27T12:29:20.822048Z",
     "shell.execute_reply.started": "2025-09-27T12:29:20.815812Z"
    }
   },
   "outputs": [],
   "source": [
    "def fmt_daily_summary(summary: Dict[str, Any], pnl_cum: float) -> Tuple[str, List[Dict[str, Any]]]:\n",
    "    \"\"\"\n",
    "    処理:\n",
    "        日次サマリ通知のテキストとblocksを整形する。\n",
    "    INPUT:\n",
    "        - summary (dict): build_daily_summary() の戻り値\n",
    "        - pnl_cum (float): 累積損益（stateから参照）\n",
    "    OUTPUT:\n",
    "        - (text, blocks)\n",
    "    \"\"\"\n",
    "    text = (\n",
    "        f\":bar_chart: Daily Summary — Trades={summary['trades']}  \"\n",
    "        f\"Win={summary['win']}  Loss={summary['loss']}  \"\n",
    "        f\"WinRate={summary['win_rate']:.1f}%  PnL_day={summary['pnl_day']:.2f}  PnL_cum={pnl_cum:.2f}\"\n",
    "    )\n",
    "    fields = [\n",
    "        {\"type\": \"mrkdwn\", \"text\": f\"*Trades:*\\n{summary['trades']}\"},\n",
    "        {\"type\": \"mrkdwn\", \"text\": f\"*Win/Loss:*\\n{summary['win']} / {summary['loss']}\"},\n",
    "        {\"type\": \"mrkdwn\", \"text\": f\"*WinRate:*\\n{summary['win_rate']:.1f}%\"},\n",
    "        {\"type\": \"mrkdwn\", \"text\": f\"*PnL (Day):*\\n{summary['pnl_day']:.2f}\"},\n",
    "        {\"type\": \"mrkdwn\", \"text\": f\"*PnL (Cum):*\\n{pnl_cum:.2f}\"},\n",
    "    ]\n",
    "    blocks = [{\"type\": \"header\", \"text\": {\"type\": \"plain_text\", \"text\": \"Daily Summary\"}},\n",
    "              {\"type\": \"section\", \"fields\": fields}]\n",
    "    return text, blocks"
   ]
  },
  {
   "cell_type": "markdown",
   "id": "bc95fe0c-1c0e-4c41-ad03-688d0e759bbb",
   "metadata": {},
   "source": [
    "## notify_gc()"
   ]
  },
  {
   "cell_type": "code",
   "execution_count": 61,
   "id": "72f78eb5-956e-4da7-b785-74b59c485922",
   "metadata": {
    "execution": {
     "iopub.execute_input": "2025-09-27T12:29:20.825138Z",
     "iopub.status.busy": "2025-09-27T12:29:20.824873Z",
     "iopub.status.idle": "2025-09-27T12:29:20.830041Z",
     "shell.execute_reply": "2025-09-27T12:29:20.829009Z",
     "shell.execute_reply.started": "2025-09-27T12:29:20.825117Z"
    }
   },
   "outputs": [],
   "source": [
    "def notify_gc(cfg: SlackConfig, bar_ts: str, price: float, sma_s: float, sma_l: float) -> bool:\n",
    "    \"\"\"処理: GC検知の通知を送る。INPUT: cfg, bar_ts, price, sma_s, sma_l / OUTPUT: bool(成功)\"\"\"\n",
    "    text, blocks = fmt_signal_gc(bar_ts, price, sma_s, sma_l)\n",
    "    return send_slack_message(cfg, text, blocks)"
   ]
  },
  {
   "cell_type": "markdown",
   "id": "5762ecdc-2a29-43eb-8f46-cbe8fd0967e0",
   "metadata": {},
   "source": [
    "## notify_entry()"
   ]
  },
  {
   "cell_type": "code",
   "execution_count": 62,
   "id": "4e34021c-9ef6-4118-ad4c-86681dc5dd87",
   "metadata": {
    "execution": {
     "iopub.execute_input": "2025-09-27T12:29:20.831395Z",
     "iopub.status.busy": "2025-09-27T12:29:20.831127Z",
     "iopub.status.idle": "2025-09-27T12:29:20.837297Z",
     "shell.execute_reply": "2025-09-27T12:29:20.836512Z",
     "shell.execute_reply.started": "2025-09-27T12:29:20.831373Z"
    }
   },
   "outputs": [],
   "source": [
    "def notify_entry(cfg: SlackConfig, symbol: str, price: float, size: float, tp: float, sl: float) -> bool:\n",
    "    \"\"\"処理: 新規エントリー通知。INPUT: cfg, symbol, price, size, tp, sl / OUTPUT: bool\"\"\"\n",
    "    text, blocks = fmt_entry(symbol, price, size, tp, sl)\n",
    "    return send_slack_message(cfg, text, blocks)"
   ]
  },
  {
   "cell_type": "markdown",
   "id": "c5345656-cd88-487b-9d37-a41e9762373a",
   "metadata": {},
   "source": [
    "## notify_close()"
   ]
  },
  {
   "cell_type": "code",
   "execution_count": 63,
   "id": "b4c0debc-c0e9-48db-b3cc-058ed50be32c",
   "metadata": {
    "execution": {
     "iopub.execute_input": "2025-09-27T12:29:20.839362Z",
     "iopub.status.busy": "2025-09-27T12:29:20.839074Z",
     "iopub.status.idle": "2025-09-27T12:29:20.844369Z",
     "shell.execute_reply": "2025-09-27T12:29:20.843736Z",
     "shell.execute_reply.started": "2025-09-27T12:29:20.839332Z"
    }
   },
   "outputs": [],
   "source": [
    "def notify_close(cfg: SlackConfig, reason: str, price: float, size: float, pnl_jpy: float, pnl_cum: float) -> bool:\n",
    "    \"\"\"処理: 決済通知。INPUT: cfg, reason, price, size, pnl_jpy, pnl_cum / OUTPUT: bool\"\"\"\n",
    "    text, blocks = fmt_close(reason, price, size, pnl_jpy, pnl_cum)\n",
    "    return send_slack_message(cfg, text, blocks)"
   ]
  },
  {
   "cell_type": "markdown",
   "id": "3c50d23b-009f-4fdb-9795-04a82b7e8f97",
   "metadata": {},
   "source": [
    "## notify_error()"
   ]
  },
  {
   "cell_type": "code",
   "execution_count": 64,
   "id": "d08ffa7f-5675-4494-a965-75eb5355383a",
   "metadata": {
    "execution": {
     "iopub.execute_input": "2025-09-27T12:29:20.846064Z",
     "iopub.status.busy": "2025-09-27T12:29:20.845736Z",
     "iopub.status.idle": "2025-09-27T12:29:20.850555Z",
     "shell.execute_reply": "2025-09-27T12:29:20.849931Z",
     "shell.execute_reply.started": "2025-09-27T12:29:20.846036Z"
    }
   },
   "outputs": [],
   "source": [
    "def notify_error(cfg: SlackConfig, context: str, message: str) -> bool:\n",
    "    \"\"\"処理: エラー通知。INPUT: cfg, context, message / OUTPUT: bool\"\"\"\n",
    "    text, blocks = fmt_error(context, message)\n",
    "    return send_slack_message(cfg, text, blocks)"
   ]
  },
  {
   "cell_type": "markdown",
   "id": "b1f13861-30b2-4fd3-8dd4-73441feb78a7",
   "metadata": {},
   "source": [
    "## notify_daily_summary()"
   ]
  },
  {
   "cell_type": "code",
   "execution_count": 65,
   "id": "2d51ba7e-3289-43fc-8675-d3ae157581b2",
   "metadata": {
    "execution": {
     "iopub.execute_input": "2025-09-27T12:29:20.851888Z",
     "iopub.status.busy": "2025-09-27T12:29:20.851564Z",
     "iopub.status.idle": "2025-09-27T12:29:20.857671Z",
     "shell.execute_reply": "2025-09-27T12:29:20.856795Z",
     "shell.execute_reply.started": "2025-09-27T12:29:20.851860Z"
    }
   },
   "outputs": [],
   "source": [
    "def notify_daily_summary(cfg: SlackConfig, state_path: str = \"./data/state/state.json\",\n",
    "                         trades_csv_path: str = \"./data/trades/trades.csv\") -> bool:\n",
    "    \"\"\"\n",
    "    処理:\n",
    "        `state.json` と `trades.csv` を読み、当日の簡易サマリをSlackに送る。\n",
    "    INPUT:\n",
    "        - cfg (SlackConfig): Webhook設定\n",
    "        - state_path (str): state.jsonのパス\n",
    "        - trades_csv_path (str): trades.csvのパス\n",
    "    OUTPUT:\n",
    "        - (bool): 送信成功で True\n",
    "    \"\"\"\n",
    "    pnl_cum = 0.0\n",
    "    try:\n",
    "        if os.path.exists(state_path):\n",
    "            with open(state_path, \"r\", encoding=\"utf-8\") as f:\n",
    "                st = json.load(f)\n",
    "            pnl_cum = float(st.get(\"pnl_cum\", 0.0))\n",
    "    except Exception as e:\n",
    "        SLACK_LOGGER.warning(f\"state.json 読込エラー: {e}\")\n",
    "\n",
    "    summary = build_daily_summary(trades_csv_path)\n",
    "    text, blocks = fmt_daily_summary(summary, pnl_cum)\n",
    "    return send_slack_message(cfg, text, blocks)"
   ]
  },
  {
   "cell_type": "markdown",
   "id": "f3868e68-6de1-4122-bc38-6783938be387",
   "metadata": {},
   "source": [
    "## お試し"
   ]
  },
  {
   "cell_type": "code",
   "execution_count": 66,
   "id": "d4256c00-f463-4196-9bd6-6a163ed2d21f",
   "metadata": {
    "execution": {
     "iopub.execute_input": "2025-09-27T12:29:20.859003Z",
     "iopub.status.busy": "2025-09-27T12:29:20.858566Z",
     "iopub.status.idle": "2025-09-27T12:29:21.876508Z",
     "shell.execute_reply": "2025-09-27T12:29:21.875818Z",
     "shell.execute_reply.started": "2025-09-27T12:29:20.858917Z"
    }
   },
   "outputs": [],
   "source": [
    "if __name__ == \"__main__\":\n",
    "    cfg = SlackConfig()  # 環境変数 SLACK_WEBHOOK_URL を使用\n",
    "    # 1) GC検知\n",
    "    notify_gc(cfg, bar_ts=datetime.now(TZ_JST).isoformat(timespec=\"seconds\"),\n",
    "              price=100.0, sma_s=99.8, sma_l=99.6)\n",
    "    # 2) エントリー\n",
    "    notify_entry(cfg, \"XRP/JPY\", price=100.0, size=50.0, tp=102.0, sl=97.0)\n",
    "    # 3) 決済\n",
    "    notify_close(cfg, reason=\"TP\", price=102.3, size=50.0, pnl_jpy=110.5, pnl_cum=523.0)\n",
    "    # 4) エラー通知\n",
    "    notify_error(cfg, context=\"order\", message=\"Insufficient funds\")\n",
    "    # 5) 日次サマリ\n",
    "    notify_daily_summary(cfg)"
   ]
  },
  {
   "cell_type": "markdown",
   "id": "d4c87c03-d229-49a0-a67b-2a82bab5cbf2",
   "metadata": {},
   "source": [
    "# ロギング"
   ]
  },
  {
   "cell_type": "markdown",
   "id": "7aac5c9e-0bab-4999-88f6-4b1332c4c8e1",
   "metadata": {},
   "source": [
    "## setup_structured_logger()"
   ]
  },
  {
   "cell_type": "code",
   "execution_count": 67,
   "id": "4b55a6e1-bce8-4402-bd8c-1b422e0881b0",
   "metadata": {
    "execution": {
     "iopub.execute_input": "2025-09-27T12:29:21.877625Z",
     "iopub.status.busy": "2025-09-27T12:29:21.877409Z",
     "iopub.status.idle": "2025-09-27T12:29:21.881705Z",
     "shell.execute_reply": "2025-09-27T12:29:21.881189Z",
     "shell.execute_reply.started": "2025-09-27T12:29:21.877604Z"
    }
   },
   "outputs": [],
   "source": [
    "def setup_structured_logger(name: str = \"bot\") -> logging.Logger:\n",
    "    \"\"\"\n",
    "    処理:\n",
    "        アプリ全体で使う構造化ロガーを初期化する。\n",
    "        - 標準ストリーム（INFO）\n",
    "        - 回転ファイル `./logs/app.log`（INFO）\n",
    "        - JSONLファイル `./logs/jsonl/YYYYMMDD.jsonl`（INFO）\n",
    "    INPUT:\n",
    "        - name (str): ロガー名\n",
    "    OUTPUT:\n",
    "        - (logging.Logger): 初期化済みロガー\n",
    "    \"\"\"\n",
    "    logger = logging.getLogger(name)\n",
    "    logger.setLevel(logging.INFO)\n",
    "    if logger.handlers:\n",
    "        return logger  # 二重追加防止\n",
    "\n",
    "    # コンソール\n",
    "    sh = logging.StreamHandler()\n",
    "    sh.setLevel(logging.INFO)\n",
    "    sh.setFormatter(logging.Formatter(\"%(asctime)s [%(levelname)s] %(message)s\"))\n",
    "    logger.addHandler(sh)\n",
    "\n",
    "    # 回転ファイル（簡易: 日ごとにJSONLへも吐くため、ここは単純ファイル）\n",
    "    fh = logging.FileHandler(os.path.join(LOG_DIR, \"app.log\"), encoding=\"utf-8\")\n",
    "    fh.setLevel(logging.INFO)\n",
    "    fh.setFormatter(logging.Formatter(\"%(asctime)s [%(levelname)s] %(message)s\"))\n",
    "    logger.addHandler(fh)\n",
    "\n",
    "    # JSONL: dictを文字列化して出力するヘルパを使う（ハンドラは共通、手動でwrite）\n",
    "    logger.info(\"Structured logger initialized.\")\n",
    "    return logger"
   ]
  },
  {
   "cell_type": "markdown",
   "id": "26146aaa-aa80-4443-9c23-0c9104015fd9",
   "metadata": {},
   "source": [
    "## _jsonl_path_for_today()"
   ]
  },
  {
   "cell_type": "code",
   "execution_count": 68,
   "id": "ab9d91f8-4533-4bd1-8250-3062c9869d86",
   "metadata": {
    "execution": {
     "iopub.execute_input": "2025-09-27T12:29:21.882516Z",
     "iopub.status.busy": "2025-09-27T12:29:21.882322Z",
     "iopub.status.idle": "2025-09-27T12:29:21.888264Z",
     "shell.execute_reply": "2025-09-27T12:29:21.887256Z",
     "shell.execute_reply.started": "2025-09-27T12:29:21.882498Z"
    }
   },
   "outputs": [],
   "source": [
    "def _jsonl_path_for_today() -> str:\n",
    "    \"\"\"処理: 当日用のJSONLパスを返す。INPUT: なし / OUTPUT: str\"\"\"\n",
    "    day = datetime.now(TZ_JST).strftime(\"%Y%m%d\")\n",
    "    return os.path.join(JSONL_DIR, f\"{day}.jsonl\")"
   ]
  },
  {
   "cell_type": "markdown",
   "id": "092d9468-a566-4470-bfd6-a14e2882756f",
   "metadata": {},
   "source": [
    "## write_jsonl()"
   ]
  },
  {
   "cell_type": "code",
   "execution_count": 69,
   "id": "db0b6edb-8bf7-4fe4-980d-afd5cc377486",
   "metadata": {
    "execution": {
     "iopub.execute_input": "2025-09-27T12:29:21.889596Z",
     "iopub.status.busy": "2025-09-27T12:29:21.889308Z",
     "iopub.status.idle": "2025-09-27T12:29:21.893764Z",
     "shell.execute_reply": "2025-09-27T12:29:21.893113Z",
     "shell.execute_reply.started": "2025-09-27T12:29:21.889576Z"
    }
   },
   "outputs": [],
   "source": [
    "def write_jsonl(event: Dict[str, Any]) -> None:\n",
    "    \"\"\"\n",
    "    処理:\n",
    "        構造化イベントを1行JSONで `./logs/jsonl/YYYYMMDD.jsonl` に追記する。\n",
    "    INPUT:\n",
    "        - event (dict): シリアライズ可能な辞書（時刻は関数側で付与）\n",
    "    OUTPUT:\n",
    "        - なし（失敗は例外）\n",
    "    \"\"\"\n",
    "    event = dict(event or {})\n",
    "    event.setdefault(\"ts_jst\", datetime.now(TZ_JST).isoformat(timespec=\"seconds\"))\n",
    "    path = _jsonl_path_for_today()\n",
    "    with open(path, \"a\", encoding=\"utf-8\") as f:\n",
    "        f.write(json.dumps(event, ensure_ascii=False) + \"\\n\")"
   ]
  },
  {
   "cell_type": "markdown",
   "id": "f21b62ef-7d59-462e-a15c-4518558577ca",
   "metadata": {},
   "source": [
    "## log_api_call()"
   ]
  },
  {
   "cell_type": "code",
   "execution_count": 70,
   "id": "0c3c4e61-1b3b-43fb-b8bc-c36574ac46ca",
   "metadata": {
    "execution": {
     "iopub.execute_input": "2025-09-27T12:29:21.894908Z",
     "iopub.status.busy": "2025-09-27T12:29:21.894690Z",
     "iopub.status.idle": "2025-09-27T12:29:21.899701Z",
     "shell.execute_reply": "2025-09-27T12:29:21.899135Z",
     "shell.execute_reply.started": "2025-09-27T12:29:21.894889Z"
    }
   },
   "outputs": [],
   "source": [
    "def log_api_call(logger: logging.Logger, name: str, request: Dict[str, Any], response: Dict[str, Any],\n",
    "                 ok: bool, latency_ms: float) -> None:\n",
    "    \"\"\"\n",
    "    処理:\n",
    "        API呼び出しの結果を構造化して記録する（コンソール/ファイル/JSONL）。\n",
    "    INPUT:\n",
    "        - logger (logging.Logger): 事前に setup_structured_logger() したもの\n",
    "        - name (str): API名（例: \"ccxt.fetch_ohlcv\"）\n",
    "        - request (dict): 入力パラメータの要約（秘匿情報は含めない）\n",
    "        - response (dict): 返却値の要約（成功/失敗で適宜）\n",
    "        - ok (bool): 成否\n",
    "        - latency_ms (float): レイテンシ（ms）\n",
    "    OUTPUT:\n",
    "        - なし\n",
    "    \"\"\"\n",
    "    level = logging.INFO if ok else logging.WARNING\n",
    "    logger.log(level, f\"{name} ok={ok} latency_ms={latency_ms:.1f}\")\n",
    "    write_jsonl({\n",
    "        \"type\": \"api_call\",\n",
    "        \"name\": name,\n",
    "        \"ok\": ok,\n",
    "        \"latency_ms\": latency_ms,\n",
    "        \"request\": request,\n",
    "        \"response\": response,\n",
    "    })"
   ]
  },
  {
   "cell_type": "markdown",
   "id": "e1a76a6a-a1a5-4539-8da8-719849e7dddd",
   "metadata": {},
   "source": [
    "## log_exception()"
   ]
  },
  {
   "cell_type": "code",
   "execution_count": 71,
   "id": "bdcb7f00-3ff1-4d5b-97e4-ef7a7886597a",
   "metadata": {
    "execution": {
     "iopub.execute_input": "2025-09-27T12:29:21.900809Z",
     "iopub.status.busy": "2025-09-27T12:29:21.900405Z",
     "iopub.status.idle": "2025-09-27T12:29:21.906947Z",
     "shell.execute_reply": "2025-09-27T12:29:21.904054Z",
     "shell.execute_reply.started": "2025-09-27T12:29:21.900788Z"
    }
   },
   "outputs": [],
   "source": [
    "def log_exception(logger: logging.Logger, context: str, exc: Exception) -> None:\n",
    "    \"\"\"\n",
    "    処理:\n",
    "        例外情報をトレース付きで構造化ログに記録する。\n",
    "    INPUT:\n",
    "        - logger (logging.Logger): ロガー\n",
    "        - context (str): 例外の発生箇所識別子（\"order\", \"signal\", \"fetch\" など）\n",
    "        - exc (Exception): 例外オブジェクト\n",
    "    OUTPUT:\n",
    "        - なし\n",
    "    \"\"\"\n",
    "    trace = \"\".join(traceback.format_exception(type(exc), exc, exc.__traceback__))\n",
    "    logger.error(f\"Exception in {context}: {exc}\")\n",
    "    write_jsonl({\n",
    "        \"type\": \"exception\",\n",
    "        \"context\": context,\n",
    "        \"error\": str(exc),\n",
    "        \"traceback\": trace,\n",
    "    })"
   ]
  },
  {
   "cell_type": "markdown",
   "id": "ec671f0b-0e7f-4399-a576-f6a1610d3e80",
   "metadata": {},
   "source": [
    "## append_trade_log()"
   ]
  },
  {
   "cell_type": "code",
   "execution_count": 72,
   "id": "b743986f-9122-498f-ab49-322159d7deb1",
   "metadata": {
    "execution": {
     "iopub.execute_input": "2025-09-27T12:29:21.909236Z",
     "iopub.status.busy": "2025-09-27T12:29:21.908996Z",
     "iopub.status.idle": "2025-09-27T12:29:21.915666Z",
     "shell.execute_reply": "2025-09-27T12:29:21.914882Z",
     "shell.execute_reply.started": "2025-09-27T12:29:21.909217Z"
    }
   },
   "outputs": [],
   "source": [
    "def append_trade_log(side: str, price: float, size: float, mode: str = \"paper\",\n",
    "                     symbol: str = \"XRP/JPY\", fee_jpy: float = 0.0,\n",
    "                     slippage_bps: Optional[float] = None, taker_fee_bps: Optional[float] = None,\n",
    "                     order_id: Optional[str] = None, extra: Optional[Dict[str, Any]] = None) -> None:\n",
    "    \"\"\"\n",
    "    処理:\n",
    "        Step 3/5 と同じレイアウトで `trades.csv` に1行を追記するヘルパ。\n",
    "        既存の実装にフック/置換しやすいように提供。\n",
    "    INPUT:\n",
    "        - side (str): \"buy\" | \"sell\" | \"summary\" など\n",
    "        - price (float), size (float), mode (str), symbol (str), fee_jpy (float)\n",
    "        - slippage_bps (float|None), taker_fee_bps (float|None)\n",
    "        - order_id (str|None): 任意の識別子\n",
    "        - extra (dict|None): rawカラムに入れる任意情報\n",
    "    OUTPUT:\n",
    "        - なし（失敗は例外）\n",
    "    \"\"\"\n",
    "    path = os.path.join(TRADES_DIR, \"trades.csv\")\n",
    "    if not os.path.exists(path):\n",
    "        cols = [\n",
    "            \"ts_jst\",\"mode\",\"symbol\",\"side\",\"size\",\"price\",\"notional_jpy\",\n",
    "            \"fee_jpy\",\"slippage_bps\",\"taker_fee_bps\",\"tp\",\"sl\",\"order_id\",\"raw\"\n",
    "        ]\n",
    "        pd.DataFrame(columns=cols).to_csv(path, index=False, encoding=\"utf-8\")\n",
    "\n",
    "    row = {\n",
    "        \"ts_jst\": datetime.now(TZ_JST).isoformat(timespec=\"seconds\"),\n",
    "        \"mode\": mode,\n",
    "        \"symbol\": symbol,\n",
    "        \"side\": side,\n",
    "        \"size\": round(float(size), 8),\n",
    "        \"price\": round(float(price), 8),\n",
    "        \"notional_jpy\": round(float(price) * float(size), 2),\n",
    "        \"fee_jpy\": round(float(fee_jpy), 2),\n",
    "        \"slippage_bps\": slippage_bps,\n",
    "        \"taker_fee_bps\": taker_fee_bps,\n",
    "        \"tp\": None,\n",
    "        \"sl\": None,\n",
    "        \"order_id\": order_id or f\"LOG-{int(time.time())}\",\n",
    "        \"raw\": json.dumps(extra or {}, ensure_ascii=False),\n",
    "    }\n",
    "    df = pd.read_csv(path)\n",
    "    df = pd.concat([df, pd.DataFrame([row])], ignore_index=True)\n",
    "    df.to_csv(path, index=False, encoding=\"utf-8\")\n",
    "    write_jsonl({\"type\": \"trade_log\", **row})"
   ]
  },
  {
   "cell_type": "markdown",
   "id": "3897d0ff-35b8-4286-9ea4-198532753512",
   "metadata": {},
   "source": [
    "## _ensure_metrics_log()"
   ]
  },
  {
   "cell_type": "code",
   "execution_count": 73,
   "id": "3efd77d4-9fa2-4473-8797-19765aae3776",
   "metadata": {
    "execution": {
     "iopub.execute_input": "2025-09-27T12:29:21.916582Z",
     "iopub.status.busy": "2025-09-27T12:29:21.916378Z",
     "iopub.status.idle": "2025-09-27T12:29:21.921380Z",
     "shell.execute_reply": "2025-09-27T12:29:21.920598Z",
     "shell.execute_reply.started": "2025-09-27T12:29:21.916555Z"
    }
   },
   "outputs": [],
   "source": [
    "def _ensure_metrics_log():\n",
    "    \"\"\"処理: `metrics.csv` を存在させる（列: date,trades,win,loss,win_rate,pnl_day,pnl_cum,max_dd）\"\"\"\n",
    "    path = os.path.join(METRICS_DIR, \"metrics.csv\")\n",
    "    if not os.path.exists(path):\n",
    "        cols = [\"date\",\"trades\",\"win\",\"loss\",\"win_rate\",\"pnl_day\",\"pnl_cum\",\"max_dd\"]\n",
    "        pd.DataFrame(columns=cols).to_csv(path, index=False, encoding=\"utf-8\")"
   ]
  },
  {
   "cell_type": "markdown",
   "id": "c5c36311-432a-491c-a7fa-e5a8acb2e1aa",
   "metadata": {},
   "source": [
    "## _equity_curve_from_trades()"
   ]
  },
  {
   "cell_type": "code",
   "execution_count": 74,
   "id": "63244225-cbda-4d45-9a71-c08f7743080c",
   "metadata": {
    "execution": {
     "iopub.execute_input": "2025-09-27T12:29:21.922875Z",
     "iopub.status.busy": "2025-09-27T12:29:21.922673Z",
     "iopub.status.idle": "2025-09-27T12:29:21.929814Z",
     "shell.execute_reply": "2025-09-27T12:29:21.929015Z",
     "shell.execute_reply.started": "2025-09-27T12:29:21.922858Z"
    }
   },
   "outputs": [],
   "source": [
    "def _equity_curve_from_trades(trades_csv_path: str) -> pd.Series:\n",
    "    \"\"\"\n",
    "    処理:\n",
    "        trades.csv の *summary 行*（Step 5で追記）を読み、日中の累積損益カーブ（equity）を構築する。\n",
    "        summaryが無い場合は空Seriesを返す。\n",
    "    INPUT:\n",
    "        - trades_csv_path (str): 取引ログのパス\n",
    "    OUTPUT:\n",
    "        - (pd.Series): index=datetime(JST naive), values=cumulative PnL（当日内の増分累積）\n",
    "    \"\"\"\n",
    "    if not os.path.exists(trades_csv_path):\n",
    "        return pd.Series(dtype=float)\n",
    "    df = pd.read_csv(trades_csv_path)\n",
    "    if df.empty or \"mode\" not in df.columns:\n",
    "        return pd.Series(dtype=float)\n",
    "    sdf = df[df[\"mode\"] == \"summary\"].copy()\n",
    "    if sdf.empty:\n",
    "        return pd.Series(dtype=float)\n",
    "    # 末尾の raw に pnl_jpy が入っている想定\n",
    "    pnl_list = []\n",
    "    ts_list = []\n",
    "    for _, r in sdf.iterrows():\n",
    "        ts = r.get(\"ts_jst\")\n",
    "        try:\n",
    "            raw = json.loads(r.get(\"raw\", \"{}\"))\n",
    "            pnl = float(raw.get(\"pnl_jpy\", 0.0))\n",
    "        except Exception:\n",
    "            pnl = 0.0\n",
    "        pnl_list.append(pnl)\n",
    "        try:\n",
    "            ts_list.append(pd.to_datetime(ts))\n",
    "        except Exception:\n",
    "            ts_list.append(pd.NaT)\n",
    "    eq = pd.Series(pnl_list, index=pd.to_datetime(ts_list)).sort_index()\n",
    "    eq = eq.cumsum()\n",
    "    return eq\n"
   ]
  },
  {
   "cell_type": "markdown",
   "id": "13a1c4e7-5b7d-45e9-a5d8-d27b33b2b512",
   "metadata": {},
   "source": [
    "## _max_drawdown_from_equity()"
   ]
  },
  {
   "cell_type": "code",
   "execution_count": 75,
   "id": "cf34fde6-6225-483d-961d-b0d87f5e2a90",
   "metadata": {
    "execution": {
     "iopub.execute_input": "2025-09-27T12:29:21.930979Z",
     "iopub.status.busy": "2025-09-27T12:29:21.930659Z",
     "iopub.status.idle": "2025-09-27T12:29:21.935878Z",
     "shell.execute_reply": "2025-09-27T12:29:21.935254Z",
     "shell.execute_reply.started": "2025-09-27T12:29:21.930959Z"
    }
   },
   "outputs": [],
   "source": [
    "def _max_drawdown_from_equity(equity: pd.Series) -> float:\n",
    "    \"\"\"\n",
    "    処理:\n",
    "        累積損益カーブから **最大ドローダウン** を計算する。\n",
    "        DD定義: 過去最大値からの下落幅（JPY）。\n",
    "    INPUT:\n",
    "        - equity (pd.Series): 時系列の累積PnL（index: datetime, values: float）\n",
    "    OUTPUT:\n",
    "        - (float): 最大ドローダウン（負の値を返さず、下落幅の絶対値[JPY]で返す）\n",
    "    \"\"\"\n",
    "    if equity.empty:\n",
    "        return 0.0\n",
    "    rolling_max = equity.cummax()\n",
    "    dd = equity - rolling_max\n",
    "    max_dd = dd.min()  # 最小（最大下落）\n",
    "    return float(abs(max_dd))"
   ]
  },
  {
   "cell_type": "markdown",
   "id": "b350d01c-1e10-409a-996b-2d5a5c55e771",
   "metadata": {},
   "source": [
    "## write_daily_metrics()"
   ]
  },
  {
   "cell_type": "code",
   "execution_count": 76,
   "id": "b5536b4c-0a7d-48f3-b6bc-b3f9b2fd6e59",
   "metadata": {
    "execution": {
     "iopub.execute_input": "2025-09-27T12:29:21.936519Z",
     "iopub.status.busy": "2025-09-27T12:29:21.936311Z",
     "iopub.status.idle": "2025-09-27T12:29:21.944483Z",
     "shell.execute_reply": "2025-09-27T12:29:21.943776Z",
     "shell.execute_reply.started": "2025-09-27T12:29:21.936502Z"
    }
   },
   "outputs": [],
   "source": [
    "def write_daily_metrics(trades_csv_path: str, state_path: str) -> Dict[str, Any]:\n",
    "    \"\"\"\n",
    "    処理:\n",
    "        当日のトレード結果から **日次メトリクス** を集計し、`metrics.csv` に追記する。\n",
    "        - trades / win / loss / win_rate / pnl_day / pnl_cum / **max_dd**\n",
    "        - pnl_cum は state.json の値を参照\n",
    "    INPUT:\n",
    "        - trades_csv_path (str): `./data/trades/trades.csv`\n",
    "        - state_path (str): `./data/state/state.json`\n",
    "    OUTPUT:\n",
    "        - (dict): 追記したメトリクス行（返却用）\n",
    "    \"\"\"\n",
    "    # 当日判定\n",
    "    today = datetime.now(TZ_JST).strftime(\"%Y-%m-%d\")\n",
    "    # 当日の summary 行から集計\n",
    "    trades = 0\n",
    "    win = 0\n",
    "    loss = 0\n",
    "    pnl_day = 0.0\n",
    "\n",
    "    if os.path.exists(trades_csv_path):\n",
    "        df = pd.read_csv(trades_csv_path)\n",
    "        if not df.empty and \"ts_jst\" in df.columns:\n",
    "            df[\"date\"] = pd.to_datetime(df[\"ts_jst\"], errors=\"coerce\").dt.tz_localize(None).dt.strftime(\"%Y-%m-%d\")\n",
    "            dfd = df[df[\"date\"] == today]\n",
    "            sdf = dfd[dfd.get(\"mode\", \"\") == \"summary\"]\n",
    "            for _, r in sdf.iterrows():\n",
    "                try:\n",
    "                    raw = json.loads(r.get(\"raw\", \"{}\"))\n",
    "                    pnl = float(raw.get(\"pnl_jpy\", 0.0))\n",
    "                except Exception:\n",
    "                    pnl = 0.0\n",
    "                pnl_day += pnl\n",
    "                trades += 1\n",
    "                if pnl >= 0:\n",
    "                    win += 1\n",
    "                else:\n",
    "                    loss += 1\n",
    "\n",
    "    win_rate = (win / trades * 100.0) if trades > 0 else 0.0\n",
    "\n",
    "    # 累積PnLは state.json を参照\n",
    "    pnl_cum = 0.0\n",
    "    try:\n",
    "        with open(state_path, \"r\", encoding=\"utf-8\") as f:\n",
    "            st = json.load(f)\n",
    "        pnl_cum = float(st.get(\"pnl_cum\", 0.0))\n",
    "    except Exception:\n",
    "        pass\n",
    "\n",
    "    # 当日内の最大ドローダウン（summaryの累積カーブから推定）\n",
    "    eq = _equity_curve_from_trades(trades_csv_path)\n",
    "    # 当日分に限定（indexがNaTの可能性対策）\n",
    "    try:\n",
    "        eqd = eq[eq.index.tz_localize(None).strftime(\"%Y-%m-%d\") == today]\n",
    "    except Exception:\n",
    "        eqd = pd.Series(dtype=float)\n",
    "    max_dd = _max_drawdown_from_equity(eqd)\n",
    "\n",
    "    # 追記\n",
    "    _ensure_metrics_log()\n",
    "    metrics_path = os.path.join(METRICS_DIR, \"metrics.csv\")\n",
    "    mrow = {\n",
    "        \"date\": today,\n",
    "        \"trades\": trades,\n",
    "        \"win\": win,\n",
    "        \"loss\": loss,\n",
    "        \"win_rate\": round(win_rate, 2),\n",
    "        \"pnl_day\": round(pnl_day, 2),\n",
    "        \"pnl_cum\": round(pnl_cum, 2),\n",
    "        \"max_dd\": round(max_dd, 2),\n",
    "    }\n",
    "    dfm = pd.read_csv(metrics_path)\n",
    "    # 既に当日行がある場合は置き換え（冪等）\n",
    "    dfm = dfm[dfm[\"date\"] != today]\n",
    "    dfm = pd.concat([dfm, pd.DataFrame([mrow])], ignore_index=True)\n",
    "    dfm.to_csv(metrics_path, index=False, encoding=\"utf-8\")\n",
    "\n",
    "    # JSONLにも書いておく\n",
    "    write_jsonl({\"type\": \"daily_metrics\", **mrow})\n",
    "    return mrow\n"
   ]
  },
  {
   "cell_type": "markdown",
   "id": "9ca403dc-f0e4-4b48-88f4-e30477831881",
   "metadata": {},
   "source": [
    "## お試し"
   ]
  },
  {
   "cell_type": "code",
   "execution_count": 77,
   "id": "e8dcb6de-ad45-49df-864f-ebeb1c74c14e",
   "metadata": {
    "execution": {
     "iopub.execute_input": "2025-09-27T12:29:21.945878Z",
     "iopub.status.busy": "2025-09-27T12:29:21.945468Z",
     "iopub.status.idle": "2025-09-27T12:29:22.025857Z",
     "shell.execute_reply": "2025-09-27T12:29:22.024830Z",
     "shell.execute_reply.started": "2025-09-27T12:29:21.945855Z"
    }
   },
   "outputs": [
    {
     "name": "stderr",
     "output_type": "stream",
     "text": [
      "2025-09-27 12:29:21,949 [INFO] Structured logger initialized.\n",
      "2025-09-27 12:29:22,000 [INFO] example_api ok=True latency_ms=50.1\n"
     ]
    },
    {
     "name": "stdout",
     "output_type": "stream",
     "text": [
      "Daily metrics: {'date': '2025-09-27', 'trades': 5, 'win': 5, 'loss': 0, 'win_rate': 100.0, 'pnl_day': 16315.39, 'pnl_cum': 15921.34, 'max_dd': 0.0}\n"
     ]
    },
    {
     "name": "stderr",
     "output_type": "stream",
     "text": [
      "/tmp/ipykernel_19633/2133922204.py:43: FutureWarning: The behavior of DataFrame concatenation with empty or all-NA entries is deprecated. In a future version, this will no longer exclude empty or all-NA columns when determining the result dtypes. To retain the old behavior, exclude the relevant entries before the concat operation.\n",
      "  df = pd.concat([df, pd.DataFrame([row])], ignore_index=True)\n"
     ]
    }
   ],
   "source": [
    "if __name__ == \"__main__\":\n",
    "    logger = setup_structured_logger(\"bot\")\n",
    "\n",
    "    # APIログ例（疑似）\n",
    "    t0 = time.time()\n",
    "    try:\n",
    "        # ここでAPI呼び出しを行った想定\n",
    "        time.sleep(0.05)\n",
    "        resp = {\"rows\": 200}\n",
    "        ok = True\n",
    "    except Exception as e:\n",
    "        ok = False\n",
    "        resp = {\"error\": str(e)}\n",
    "        log_exception(logger, \"api_example\", e)\n",
    "    finally:\n",
    "        latency = (time.time() - t0) * 1000.0\n",
    "        log_api_call(logger, \"example_api\", {\"param\": 1}, resp, ok, latency)\n",
    "\n",
    "    # トレードログ例\n",
    "    append_trade_log(side=\"summary\", price=102.0, size=50.0, mode=\"summary\",\n",
    "                     fee_jpy=0.0, order_id=\"SUMMARY-EXAMPLE\",\n",
    "                     extra={\"entry_price\": 100.0, \"exit_price\": 102.0, \"pnl_jpy\": 100.0})\n",
    "\n",
    "    # 日次メトリクス書き出し\n",
    "    m = write_daily_metrics(os.path.join(TRADES_DIR, \"trades.csv\"),\n",
    "                            os.path.join(STATE_DIR, \"state.json\"))\n",
    "    print(\"Daily metrics:\", m)"
   ]
  },
  {
   "cell_type": "markdown",
   "id": "e0a76beb-4c0e-4deb-890a-165d92034b56",
   "metadata": {},
   "source": [
    "# 統合RUN"
   ]
  },
  {
   "cell_type": "markdown",
   "id": "cbf9d993-374e-4300-8eb4-fdf6973d00f5",
   "metadata": {},
   "source": [
    "## _check_dependencies()"
   ]
  },
  {
   "cell_type": "code",
   "execution_count": 78,
   "id": "40a0bffc-64bb-487a-9745-777def6751b0",
   "metadata": {
    "execution": {
     "iopub.execute_input": "2025-09-27T12:29:22.027114Z",
     "iopub.status.busy": "2025-09-27T12:29:22.026821Z",
     "iopub.status.idle": "2025-09-27T12:29:22.032580Z",
     "shell.execute_reply": "2025-09-27T12:29:22.031730Z",
     "shell.execute_reply.started": "2025-09-27T12:29:22.027087Z"
    }
   },
   "outputs": [],
   "source": [
    "# --- 既存実装からの参照（未定義なら異常にする） ---\n",
    "required_symbols = [\n",
    "    \"CCXTConfig\",\"fetch_ohlcv_latest_ccxt\",\n",
    "    \"SignalParams\",\"add_sma_columns\",\"detect_golden_cross_latest\",\"update_state_after_signal\",\n",
    "    \"OrderParams\",\"place_market_buy\",\"should_open_from_signal\",\"update_state_on_entry\",\n",
    "    \"BotState\",\"StateStore\",\"set_entry_from_order\",\n",
    "    \"close_if_reached_and_update\",\n",
    "    \"SlackConfig\",\"notify_gc\",\"notify_entry\",\"notify_close\",\"notify_error\",\n",
    "    \"setup_structured_logger\",\"log_api_call\",\"log_exception\",\"write_jsonl\",\n",
    "]\n",
    "\n",
    "def _check_dependencies():\n",
    "    missing = [s for s in required_symbols if s not in globals()]\n",
    "    if missing:\n",
    "        raise RuntimeError(f\"以下のシンボルが未定義です。先に各ステップのセルを実行してください: {missing}\")\n"
   ]
  },
  {
   "cell_type": "markdown",
   "id": "5527e8a9-1e8c-4e04-8b7b-9433a2aa410f",
   "metadata": {},
   "source": [
    "## _env_or()"
   ]
  },
  {
   "cell_type": "code",
   "execution_count": 79,
   "id": "bd80ab73-f1c2-4850-bcad-1646975d29a2",
   "metadata": {
    "execution": {
     "iopub.execute_input": "2025-09-27T12:29:22.033902Z",
     "iopub.status.busy": "2025-09-27T12:29:22.033554Z",
     "iopub.status.idle": "2025-09-27T12:29:22.038565Z",
     "shell.execute_reply": "2025-09-27T12:29:22.037885Z",
     "shell.execute_reply.started": "2025-09-27T12:29:22.033872Z"
    }
   },
   "outputs": [],
   "source": [
    "def _env_or(default: Optional[str], *keys: str) -> Optional[str]:\n",
    "    \"\"\"処理: 環境変数のいずれかから値を取得（最初に見つかったもの）。INPUT: default, *keys / OUTPUT: str|None\"\"\"\n",
    "    for k in keys:\n",
    "        v = os.getenv(k)\n",
    "        if v:\n",
    "            return v\n",
    "    return default"
   ]
  },
  {
   "cell_type": "markdown",
   "id": "84fbb6ac-d90c-42f9-b991-15a93ad45a3f",
   "metadata": {},
   "source": [
    "## RunnerConfig"
   ]
  },
  {
   "cell_type": "code",
   "execution_count": 80,
   "id": "fbbacb6f-16f5-433c-b85e-bcec58bb01cf",
   "metadata": {
    "execution": {
     "iopub.execute_input": "2025-09-27T12:29:22.039851Z",
     "iopub.status.busy": "2025-09-27T12:29:22.039392Z",
     "iopub.status.idle": "2025-09-27T12:29:22.045792Z",
     "shell.execute_reply": "2025-09-27T12:29:22.045128Z",
     "shell.execute_reply.started": "2025-09-27T12:29:22.039824Z"
    }
   },
   "outputs": [],
   "source": [
    "@dataclass\n",
    "class RunnerConfig:\n",
    "    \"\"\"\n",
    "    処理:\n",
    "        統合ランナー用の設定パラメータを保持する。\n",
    "    INPUT:\n",
    "        - mode (str): \"paper\" | \"real\"\n",
    "        - symbol (str): 取引ペア（例: \"XRP/JPY\"）\n",
    "        - state_path (str): state.json の保存パス\n",
    "        - notional_jpy (float): 1回あたりの想定発注額（JPY）\n",
    "        - slippage_bps (float): スリッページ（bps）\n",
    "        - taker_fee_bps (float): 手数料（bps）\n",
    "        - api_key (str|None), secret (str|None): realモード時に使用\n",
    "    OUTPUT:\n",
    "        - なし（設定値の保持のみ）\n",
    "    \"\"\"\n",
    "    mode: str = \"paper\"\n",
    "    symbol: str = \"XRP/JPY\"\n",
    "    state_path: str = \"../data/state/state.json\"\n",
    "    notional_jpy: float = 5000.0\n",
    "    slippage_bps: float = 5.0\n",
    "    taker_fee_bps: float = 15.0\n",
    "    api_key: Optional[str] = None\n",
    "    secret: Optional[str] = None"
   ]
  },
  {
   "cell_type": "markdown",
   "id": "29037580-4a57-48aa-bce3-793286b402d7",
   "metadata": {},
   "source": [
    "## run_hourly_cycle()"
   ]
  },
  {
   "cell_type": "code",
   "execution_count": 81,
   "id": "a3e1cdc1-5983-451e-bc1c-b6fbedd29d9d",
   "metadata": {
    "execution": {
     "iopub.execute_input": "2025-09-27T12:29:22.047740Z",
     "iopub.status.busy": "2025-09-27T12:29:22.047430Z",
     "iopub.status.idle": "2025-09-27T12:29:22.063829Z",
     "shell.execute_reply": "2025-09-27T12:29:22.062790Z",
     "shell.execute_reply.started": "2025-09-27T12:29:22.047719Z"
    }
   },
   "outputs": [],
   "source": [
    "def run_hourly_cycle(cfg: RunnerConfig) -> Dict[str, Any]:\n",
    "    \"\"\"\n",
    "    処理:\n",
    "        1時間サイクルの**単発実行**を行う統合関数。\n",
    "        - データ取得（直近200本の1h確定足）\n",
    "        - SMA30/60計算 → 直近確定足でのGC判定（重複抑止）\n",
    "        - FLATかつGCなら成行買い（Paper/Real）→ state保存 → 通知\n",
    "        - LONGならTP/SL到達判定 → 成行売り → PnL反映 → state保存 → 通知\n",
    "        - 各所でログ（API/例外/イベント）を記録\n",
    "    INPUT:\n",
    "        - cfg (RunnerConfig): ランナー設定\n",
    "    OUTPUT:\n",
    "        - (dict): 実行サマリ（key例: stage, signal, order, close, state_meta など）\n",
    "    \"\"\"\n",
    "    _check_dependencies()\n",
    "    logger = setup_structured_logger(\"runner\")\n",
    "    slack = SlackConfig()  # SLACK_WEBHOOK_URL は環境変数から\n",
    "\n",
    "    summary: Dict[str, Any] = {\"stage\": None}\n",
    "\n",
    "    # --- State をロック付きで開く ---\n",
    "    store = StateStore(cfg.state_path)\n",
    "    try:\n",
    "        with store as s:\n",
    "            st = s.state  # BotState\n",
    "\n",
    "            # --- 1) データ取得（ccxt） ---\n",
    "            t0 = time.time()\n",
    "            ccxt_cfg = CCXTConfig(limit=200, timeframe=\"1h\", period_sec=3600)\n",
    "            try:\n",
    "                df = fetch_ohlcv_latest_ccxt(ccxt_cfg)\n",
    "                ok = True\n",
    "                resp_summary = {\"rows\": len(df)}\n",
    "            except Exception as e:\n",
    "                ok = False\n",
    "                resp_summary = {\"error\": str(e)}\n",
    "                log_exception(logger, \"fetch_ohlcv_latest_ccxt\", e)\n",
    "                notify_error(slack, \"fetch\", str(e))\n",
    "                raise\n",
    "            finally:\n",
    "                latency_ms = (time.time() - t0) * 1000.0\n",
    "                log_api_call(logger, \"ccxt.fetch_ohlcv_or_trades\", {\"symbol\": ccxt_cfg.symbol, \"timeframe\": ccxt_cfg.timeframe}, resp_summary, ok, latency_ms)\n",
    "\n",
    "            summary[\"stage\"] = \"fetched\"\n",
    "            write_jsonl({\"type\": \"stage\", \"name\": \"fetched\", \"rows\": len(df)})\n",
    "\n",
    "            # --- 2) シグナル（SMA30/60 & 直近確定足GC） ---\n",
    "            sig_params = SignalParams()\n",
    "            df_feat = add_sma_columns(df, sig_params)\n",
    "\n",
    "            last_gc_ts = st.last_gc_bar_ts\n",
    "            signal = detect_golden_cross_latest(df_feat, sig_params, last_signaled_bar_ts=last_gc_ts)\n",
    "            summary[\"signal\"] = {\n",
    "                \"is_gc\": signal[\"is_gc\"],\n",
    "                \"already\": signal[\"already_signaled\"],\n",
    "                \"bar_ts\": str(signal[\"bar_ts\"]),\n",
    "                \"price\": signal[\"price\"]\n",
    "            }\n",
    "            write_jsonl({\"type\": \"signal\", **summary[\"signal\"]})\n",
    "\n",
    "            # 通知（GC検知のみ）\n",
    "            if signal[\"is_gc\"] and not signal[\"already_signaled\"]:\n",
    "                try:\n",
    "                    notify_gc(\n",
    "                        slack,\n",
    "                        bar_ts=str(signal[\"bar_ts\"]),\n",
    "                        price=signal[\"price\"],\n",
    "                        sma_s=signal[\"sma_short\"],\n",
    "                        sma_l=signal[\"sma_long\"],\n",
    "                    )\n",
    "                except Exception as e:\n",
    "                    log_exception(logger, \"notify_gc\", e)\n",
    "\n",
    "            # --- 3) エントリー or 4) 決済判定 ---\n",
    "            order_res = None\n",
    "            close_res = None\n",
    "\n",
    "            if should_open_from_signal(asdict(st), signal):\n",
    "                # 3) エントリー\n",
    "                op = OrderParams(\n",
    "                    mode=cfg.mode,\n",
    "                    notional_jpy=cfg.notional_jpy,\n",
    "                    slippage_bps=cfg.slippage_bps,\n",
    "                    taker_fee_bps=cfg.taker_fee_bps,\n",
    "                    api_key=_env_or(cfg.api_key, \"BFX_API_KEY\", \"BITFLYER_API_KEY\"),\n",
    "                    secret=_env_or(cfg.secret, \"BFX_API_SECRET\", \"BITFLYER_API_SECRET\"),\n",
    "                )\n",
    "                try:\n",
    "                    order_res = place_market_buy(cfg.symbol, signal[\"price\"], op)\n",
    "                    st = set_entry_from_order(st, order_res)\n",
    "                    s.save(st)  # 保存\n",
    "                    summary[\"order\"] = {k: order_res[k] for k in [\"mode\",\"price\",\"size\",\"tp\",\"sl\",\"order_id\"]}\n",
    "                    write_jsonl({\"type\": \"entry\", **summary[\"order\"]})\n",
    "                    try:\n",
    "                        notify_entry(slack, cfg.symbol, order_res[\"price\"], order_res[\"size\"], order_res[\"tp\"], order_res[\"sl\"])\n",
    "                    except Exception as e:\n",
    "                        log_exception(logger, \"notify_entry\", e)\n",
    "                except Exception as e:\n",
    "                    log_exception(logger, \"place_market_buy\", e)\n",
    "                    notify_error(slack, \"order_entry\", str(e))\n",
    "                    raise\n",
    "            else:\n",
    "                # 4) 決済判定（LONG 中のみ）\n",
    "                current_close = float(df_feat.iloc[-1][\"close\"])\n",
    "                op = OrderParams(\n",
    "                    mode=cfg.mode,\n",
    "                    notional_jpy=cfg.notional_jpy,\n",
    "                    slippage_bps=cfg.slippage_bps,\n",
    "                    taker_fee_bps=cfg.taker_fee_bps,\n",
    "                    api_key=_env_or(cfg.api_key, \"BFX_API_KEY\", \"BITFLYER_API_KEY\"),\n",
    "                    secret=_env_or(cfg.secret, \"BFX_API_SECRET\", \"BITFLYER_API_SECRET\"),\n",
    "                )\n",
    "                try:\n",
    "                    res = close_if_reached_and_update(current_price=current_close, symbol=cfg.symbol, params=op, store=s)\n",
    "                    if res is not None:\n",
    "                        close_res = res\n",
    "                        summary[\"close\"] = {\n",
    "                            \"reason\": res[\"reason\"],\n",
    "                            \"price\": res[\"close_result\"][\"price\"],\n",
    "                            \"size\": res[\"close_result\"][\"size\"],\n",
    "                            \"pnl_jpy\": res[\"pnl_jpy\"],\n",
    "                            \"pnl_cum\": res[\"state\"].pnl_cum,\n",
    "                        }\n",
    "                        write_jsonl({\"type\": \"close\", **summary[\"close\"]})\n",
    "                        try:\n",
    "                            notify_close(slack, res[\"reason\"], res[\"close_result\"][\"price\"], res[\"close_result\"][\"size\"], res[\"pnl_jpy\"], res[\"state\"].pnl_cum)\n",
    "                        except Exception as e:\n",
    "                            log_exception(logger, \"notify_close\", e)\n",
    "                except Exception as e:\n",
    "                    log_exception(logger, \"close_if_reached_and_update\", e)\n",
    "                    notify_error(slack, \"order_close\", str(e))\n",
    "                    raise\n",
    "\n",
    "            # --- 5) GC多重検知抑止のため state を更新 ---\n",
    "            st_dict = asdict(st)\n",
    "            st_new = update_state_after_signal(st_dict, signal)\n",
    "            st.last_gc_bar_ts = st_new.get(\"last_gc_bar_ts\", st.last_gc_bar_ts)\n",
    "            s.save(st)\n",
    "\n",
    "            summary[\"state_meta\"] = {\"position\": st.position, \"pnl_cum\": st.pnl_cum, \"last_gc_bar_ts\": st.last_gc_bar_ts}\n",
    "            write_jsonl({\"type\": \"stage\", \"name\": \"done\", **summary[\"state_meta\"]})\n",
    "            return summary\n",
    "\n",
    "    except Exception as e:\n",
    "        try:\n",
    "            notify_error(SlackConfig(), \"runner\", str(e))\n",
    "        except Exception:\n",
    "            pass\n",
    "        raise"
   ]
  },
  {
   "cell_type": "markdown",
   "id": "462b1f7a-3a5c-4dc0-baf7-6dacc01b92e9",
   "metadata": {},
   "source": [
    "## paper実行"
   ]
  },
  {
   "cell_type": "markdown",
   "id": "5fdc622d-4c7a-46d1-943a-c71ff7b230d5",
   "metadata": {},
   "source": [
    "### 単発実行"
   ]
  },
  {
   "cell_type": "code",
   "execution_count": 82,
   "id": "a2fc1351-82b7-49ba-a503-4c2b191c0bea",
   "metadata": {
    "execution": {
     "iopub.execute_input": "2025-09-27T12:29:22.072006Z",
     "iopub.status.busy": "2025-09-27T12:29:22.071739Z",
     "iopub.status.idle": "2025-09-27T12:29:23.541489Z",
     "shell.execute_reply": "2025-09-27T12:29:23.540605Z",
     "shell.execute_reply.started": "2025-09-27T12:29:22.071985Z"
    }
   },
   "outputs": [
    {
     "name": "stderr",
     "output_type": "stream",
     "text": [
      "2025-09-27 12:29:22,073 [INFO] Structured logger initialized.\n",
      "2025-09-27 12:29:23,305 [INFO] ccxt.fetch_ohlcv_or_trades ok=True latency_ms=1230.1\n",
      "/tmp/ipykernel_19633/2360316234.py:20: FutureWarning: The behavior of DataFrame concatenation with empty or all-NA entries is deprecated. In a future version, this will no longer exclude empty or all-NA columns when determining the result dtypes. To retain the old behavior, exclude the relevant entries before the concat operation.\n",
      "  df = pd.concat([df, pd.DataFrame([row])], ignore_index=True)\n",
      "/tmp/ipykernel_19633/2360316234.py:20: FutureWarning: The behavior of DataFrame concatenation with empty or all-NA entries is deprecated. In a future version, this will no longer exclude empty or all-NA columns when determining the result dtypes. To retain the old behavior, exclude the relevant entries before the concat operation.\n",
      "  df = pd.concat([df, pd.DataFrame([row])], ignore_index=True)\n"
     ]
    },
    {
     "data": {
      "text/plain": [
       "{'stage': 'fetched',\n",
       " 'signal': {'is_gc': False,\n",
       "  'already': False,\n",
       "  'bar_ts': '2025-09-27 20:00:00+09:00',\n",
       "  'price': 416.3},\n",
       " 'close': {'reason': 'TP',\n",
       "  'price': 416.09185,\n",
       "  'size': 50.0,\n",
       "  'pnl_jpy': 15772.632500000002,\n",
       "  'pnl_cum': 31693.970500000003},\n",
       " 'state_meta': {'position': 'FLAT',\n",
       "  'pnl_cum': 31693.970500000003,\n",
       "  'last_gc_bar_ts': None}}"
      ]
     },
     "execution_count": 82,
     "metadata": {},
     "output_type": "execute_result"
    }
   ],
   "source": [
    "cfg = RunnerConfig(\n",
    "    mode=\"paper\",          # 実運用は \"real\"\n",
    "    notional_jpy=5000.0,\n",
    "    slippage_bps=5.0,\n",
    "    taker_fee_bps=15.0,\n",
    ")\n",
    "out = run_hourly_cycle(cfg)\n",
    "out"
   ]
  },
  {
   "cell_type": "markdown",
   "id": "518aa4b2-d17d-48e3-8983-0aaa80f8c7e7",
   "metadata": {},
   "source": [
    "### 一時間おきに実行"
   ]
  },
  {
   "cell_type": "code",
   "execution_count": null,
   "id": "f292d383-017a-4f3e-b232-a64c54a7cfd1",
   "metadata": {
    "execution": {
     "iopub.execute_input": "2025-09-27T12:29:23.542910Z",
     "iopub.status.busy": "2025-09-27T12:29:23.542383Z"
    },
    "scrolled": true
   },
   "outputs": [
    {
     "name": "stdout",
     "output_type": "stream",
     "text": [
      "RunnerConfig(mode='paper', symbol='XRP/JPY', state_path='../data/state/state.json', notional_jpy=5000.0, slippage_bps=5.0, taker_fee_bps=15.0, api_key=None, secret=None)\n",
      "=== 2025-09-27 12:29:23 start ===\n"
     ]
    },
    {
     "name": "stderr",
     "output_type": "stream",
     "text": [
      "2025-09-27 12:29:24,746 [INFO] ccxt.fetch_ohlcv_or_trades ok=True latency_ms=1199.7\n"
     ]
    },
    {
     "name": "stdout",
     "output_type": "stream",
     "text": [
      "summary: {'stage': 'fetched', 'signal': {'is_gc': False, 'already': False, 'bar_ts': '2025-09-27 20:00:00+09:00', 'price': 416.3}, 'state_meta': {'position': 'FLAT', 'pnl_cum': 31693.970500000003, 'last_gc_bar_ts': None}}\n",
      "sleep 36.2 sec until 2025-09-27 12:30:01\n",
      "=== 2025-09-27 12:30:01 start ===\n"
     ]
    },
    {
     "name": "stderr",
     "output_type": "stream",
     "text": [
      "2025-09-27 12:30:05,226 [INFO] ccxt.fetch_ohlcv_or_trades ok=True latency_ms=4225.6\n"
     ]
    },
    {
     "name": "stdout",
     "output_type": "stream",
     "text": [
      "summary: {'stage': 'fetched', 'signal': {'is_gc': False, 'already': False, 'bar_ts': '2025-09-27 20:00:00+09:00', 'price': 416.3}, 'state_meta': {'position': 'FLAT', 'pnl_cum': 31693.970500000003, 'last_gc_bar_ts': None}}\n",
      "sleep 55.8 sec until 2025-09-27 12:31:01\n",
      "=== 2025-09-27 12:31:01 start ===\n"
     ]
    },
    {
     "name": "stderr",
     "output_type": "stream",
     "text": [
      "2025-09-27 12:31:03,104 [INFO] ccxt.fetch_ohlcv_or_trades ok=True latency_ms=2103.7\n"
     ]
    },
    {
     "name": "stdout",
     "output_type": "stream",
     "text": [
      "summary: {'stage': 'fetched', 'signal': {'is_gc': False, 'already': False, 'bar_ts': '2025-09-27 20:00:00+09:00', 'price': 416.3}, 'state_meta': {'position': 'FLAT', 'pnl_cum': 31693.970500000003, 'last_gc_bar_ts': None}}\n",
      "sleep 57.9 sec until 2025-09-27 12:32:01\n",
      "=== 2025-09-27 12:32:01 start ===\n"
     ]
    },
    {
     "name": "stderr",
     "output_type": "stream",
     "text": [
      "2025-09-27 12:32:03,630 [INFO] ccxt.fetch_ohlcv_or_trades ok=True latency_ms=2629.0\n"
     ]
    },
    {
     "name": "stdout",
     "output_type": "stream",
     "text": [
      "summary: {'stage': 'fetched', 'signal': {'is_gc': False, 'already': False, 'bar_ts': '2025-09-27 20:00:00+09:00', 'price': 416.3}, 'state_meta': {'position': 'FLAT', 'pnl_cum': 31693.970500000003, 'last_gc_bar_ts': None}}\n",
      "sleep 57.4 sec until 2025-09-27 12:33:01\n",
      "=== 2025-09-27 12:33:01 start ===\n"
     ]
    },
    {
     "name": "stderr",
     "output_type": "stream",
     "text": [
      "2025-09-27 12:33:03,673 [INFO] ccxt.fetch_ohlcv_or_trades ok=True latency_ms=2672.6\n"
     ]
    },
    {
     "name": "stdout",
     "output_type": "stream",
     "text": [
      "summary: {'stage': 'fetched', 'signal': {'is_gc': False, 'already': False, 'bar_ts': '2025-09-27 20:00:00+09:00', 'price': 416.3}, 'state_meta': {'position': 'FLAT', 'pnl_cum': 31693.970500000003, 'last_gc_bar_ts': None}}\n",
      "sleep 57.3 sec until 2025-09-27 12:34:01\n",
      "=== 2025-09-27 12:34:01 start ===\n"
     ]
    },
    {
     "name": "stderr",
     "output_type": "stream",
     "text": [
      "2025-09-27 12:34:03,494 [INFO] ccxt.fetch_ohlcv_or_trades ok=True latency_ms=2493.6\n"
     ]
    },
    {
     "name": "stdout",
     "output_type": "stream",
     "text": [
      "summary: {'stage': 'fetched', 'signal': {'is_gc': False, 'already': False, 'bar_ts': '2025-09-27 20:00:00+09:00', 'price': 416.3}, 'state_meta': {'position': 'FLAT', 'pnl_cum': 31693.970500000003, 'last_gc_bar_ts': None}}\n",
      "sleep 57.5 sec until 2025-09-27 12:35:01\n",
      "=== 2025-09-27 12:35:01 start ===\n"
     ]
    },
    {
     "name": "stderr",
     "output_type": "stream",
     "text": [
      "2025-09-27 12:35:03,568 [INFO] ccxt.fetch_ohlcv_or_trades ok=True latency_ms=2566.9\n"
     ]
    },
    {
     "name": "stdout",
     "output_type": "stream",
     "text": [
      "summary: {'stage': 'fetched', 'signal': {'is_gc': False, 'already': False, 'bar_ts': '2025-09-27 20:00:00+09:00', 'price': 416.3}, 'state_meta': {'position': 'FLAT', 'pnl_cum': 31693.970500000003, 'last_gc_bar_ts': None}}\n",
      "sleep 57.4 sec until 2025-09-27 12:36:01\n",
      "=== 2025-09-27 12:36:01 start ===\n"
     ]
    },
    {
     "name": "stderr",
     "output_type": "stream",
     "text": [
      "2025-09-27 12:36:04,444 [INFO] ccxt.fetch_ohlcv_or_trades ok=True latency_ms=3444.1\n"
     ]
    },
    {
     "name": "stdout",
     "output_type": "stream",
     "text": [
      "summary: {'stage': 'fetched', 'signal': {'is_gc': False, 'already': False, 'bar_ts': '2025-09-27 20:00:00+09:00', 'price': 416.3}, 'state_meta': {'position': 'FLAT', 'pnl_cum': 31693.970500000003, 'last_gc_bar_ts': None}}\n",
      "sleep 56.5 sec until 2025-09-27 12:37:01\n",
      "=== 2025-09-27 12:37:01 start ===\n"
     ]
    },
    {
     "name": "stderr",
     "output_type": "stream",
     "text": [
      "2025-09-27 12:37:03,577 [INFO] ccxt.fetch_ohlcv_or_trades ok=True latency_ms=2576.4\n"
     ]
    },
    {
     "name": "stdout",
     "output_type": "stream",
     "text": [
      "summary: {'stage': 'fetched', 'signal': {'is_gc': False, 'already': False, 'bar_ts': '2025-09-27 20:00:00+09:00', 'price': 416.3}, 'state_meta': {'position': 'FLAT', 'pnl_cum': 31693.970500000003, 'last_gc_bar_ts': None}}\n",
      "sleep 57.4 sec until 2025-09-27 12:38:01\n",
      "=== 2025-09-27 12:38:01 start ===\n"
     ]
    },
    {
     "name": "stderr",
     "output_type": "stream",
     "text": [
      "2025-09-27 12:38:03,413 [INFO] ccxt.fetch_ohlcv_or_trades ok=True latency_ms=2412.2\n"
     ]
    },
    {
     "name": "stdout",
     "output_type": "stream",
     "text": [
      "summary: {'stage': 'fetched', 'signal': {'is_gc': False, 'already': False, 'bar_ts': '2025-09-27 20:00:00+09:00', 'price': 416.3}, 'state_meta': {'position': 'FLAT', 'pnl_cum': 31693.970500000003, 'last_gc_bar_ts': None}}\n",
      "sleep 57.6 sec until 2025-09-27 12:39:01\n",
      "=== 2025-09-27 12:39:01 start ===\n"
     ]
    },
    {
     "name": "stderr",
     "output_type": "stream",
     "text": [
      "2025-09-27 12:39:04,253 [INFO] ccxt.fetch_ohlcv_or_trades ok=True latency_ms=3252.6\n"
     ]
    },
    {
     "name": "stdout",
     "output_type": "stream",
     "text": [
      "summary: {'stage': 'fetched', 'signal': {'is_gc': False, 'already': False, 'bar_ts': '2025-09-27 20:00:00+09:00', 'price': 416.3}, 'state_meta': {'position': 'FLAT', 'pnl_cum': 31693.970500000003, 'last_gc_bar_ts': None}}\n",
      "sleep 56.7 sec until 2025-09-27 12:40:01\n",
      "=== 2025-09-27 12:40:01 start ===\n"
     ]
    },
    {
     "name": "stderr",
     "output_type": "stream",
     "text": [
      "2025-09-27 12:40:03,744 [INFO] ccxt.fetch_ohlcv_or_trades ok=True latency_ms=2743.5\n"
     ]
    },
    {
     "name": "stdout",
     "output_type": "stream",
     "text": [
      "summary: {'stage': 'fetched', 'signal': {'is_gc': False, 'already': False, 'bar_ts': '2025-09-27 20:00:00+09:00', 'price': 416.3}, 'state_meta': {'position': 'FLAT', 'pnl_cum': 31693.970500000003, 'last_gc_bar_ts': None}}\n",
      "sleep 57.2 sec until 2025-09-27 12:41:01\n",
      "=== 2025-09-27 12:41:01 start ===\n"
     ]
    },
    {
     "name": "stderr",
     "output_type": "stream",
     "text": [
      "2025-09-27 12:41:03,571 [INFO] ccxt.fetch_ohlcv_or_trades ok=True latency_ms=2570.8\n"
     ]
    },
    {
     "name": "stdout",
     "output_type": "stream",
     "text": [
      "summary: {'stage': 'fetched', 'signal': {'is_gc': False, 'already': False, 'bar_ts': '2025-09-27 20:00:00+09:00', 'price': 416.3}, 'state_meta': {'position': 'FLAT', 'pnl_cum': 31693.970500000003, 'last_gc_bar_ts': None}}\n",
      "sleep 57.4 sec until 2025-09-27 12:42:01\n",
      "=== 2025-09-27 12:42:01 start ===\n"
     ]
    },
    {
     "name": "stderr",
     "output_type": "stream",
     "text": [
      "2025-09-27 12:42:04,269 [INFO] ccxt.fetch_ohlcv_or_trades ok=True latency_ms=3268.8\n"
     ]
    },
    {
     "name": "stdout",
     "output_type": "stream",
     "text": [
      "summary: {'stage': 'fetched', 'signal': {'is_gc': False, 'already': False, 'bar_ts': '2025-09-27 20:00:00+09:00', 'price': 416.3}, 'state_meta': {'position': 'FLAT', 'pnl_cum': 31693.970500000003, 'last_gc_bar_ts': None}}\n",
      "sleep 56.7 sec until 2025-09-27 12:43:01\n",
      "=== 2025-09-27 12:43:01 start ===\n"
     ]
    },
    {
     "name": "stderr",
     "output_type": "stream",
     "text": [
      "2025-09-27 12:43:03,486 [INFO] ccxt.fetch_ohlcv_or_trades ok=True latency_ms=2485.9\n"
     ]
    },
    {
     "name": "stdout",
     "output_type": "stream",
     "text": [
      "summary: {'stage': 'fetched', 'signal': {'is_gc': False, 'already': False, 'bar_ts': '2025-09-27 20:00:00+09:00', 'price': 416.3}, 'state_meta': {'position': 'FLAT', 'pnl_cum': 31693.970500000003, 'last_gc_bar_ts': None}}\n",
      "sleep 57.5 sec until 2025-09-27 12:44:01\n",
      "=== 2025-09-27 12:44:01 start ===\n"
     ]
    },
    {
     "name": "stderr",
     "output_type": "stream",
     "text": [
      "2025-09-27 12:44:03,402 [INFO] ccxt.fetch_ohlcv_or_trades ok=True latency_ms=2401.2\n"
     ]
    },
    {
     "name": "stdout",
     "output_type": "stream",
     "text": [
      "summary: {'stage': 'fetched', 'signal': {'is_gc': False, 'already': False, 'bar_ts': '2025-09-27 20:00:00+09:00', 'price': 416.3}, 'state_meta': {'position': 'FLAT', 'pnl_cum': 31693.970500000003, 'last_gc_bar_ts': None}}\n",
      "sleep 57.6 sec until 2025-09-27 12:45:01\n",
      "=== 2025-09-27 12:45:01 start ===\n"
     ]
    },
    {
     "name": "stderr",
     "output_type": "stream",
     "text": [
      "2025-09-27 12:45:03,606 [INFO] ccxt.fetch_ohlcv_or_trades ok=True latency_ms=2604.9\n"
     ]
    },
    {
     "name": "stdout",
     "output_type": "stream",
     "text": [
      "summary: {'stage': 'fetched', 'signal': {'is_gc': False, 'already': False, 'bar_ts': '2025-09-27 20:00:00+09:00', 'price': 416.3}, 'state_meta': {'position': 'FLAT', 'pnl_cum': 31693.970500000003, 'last_gc_bar_ts': None}}\n",
      "sleep 57.4 sec until 2025-09-27 12:46:01\n",
      "=== 2025-09-27 12:46:01 start ===\n"
     ]
    },
    {
     "name": "stderr",
     "output_type": "stream",
     "text": [
      "2025-09-27 12:46:03,487 [INFO] ccxt.fetch_ohlcv_or_trades ok=True latency_ms=2486.4\n"
     ]
    },
    {
     "name": "stdout",
     "output_type": "stream",
     "text": [
      "summary: {'stage': 'fetched', 'signal': {'is_gc': False, 'already': False, 'bar_ts': '2025-09-27 20:00:00+09:00', 'price': 416.3}, 'state_meta': {'position': 'FLAT', 'pnl_cum': 31693.970500000003, 'last_gc_bar_ts': None}}\n",
      "sleep 57.5 sec until 2025-09-27 12:47:01\n",
      "=== 2025-09-27 12:47:01 start ===\n"
     ]
    },
    {
     "name": "stderr",
     "output_type": "stream",
     "text": [
      "2025-09-27 12:47:04,260 [INFO] ccxt.fetch_ohlcv_or_trades ok=True latency_ms=3259.8\n"
     ]
    },
    {
     "name": "stdout",
     "output_type": "stream",
     "text": [
      "summary: {'stage': 'fetched', 'signal': {'is_gc': False, 'already': False, 'bar_ts': '2025-09-27 20:00:00+09:00', 'price': 416.3}, 'state_meta': {'position': 'FLAT', 'pnl_cum': 31693.970500000003, 'last_gc_bar_ts': None}}\n",
      "sleep 56.7 sec until 2025-09-27 12:48:01\n",
      "=== 2025-09-27 12:48:01 start ===\n"
     ]
    },
    {
     "name": "stderr",
     "output_type": "stream",
     "text": [
      "2025-09-27 12:48:04,453 [INFO] ccxt.fetch_ohlcv_or_trades ok=True latency_ms=3452.4\n"
     ]
    },
    {
     "name": "stdout",
     "output_type": "stream",
     "text": [
      "summary: {'stage': 'fetched', 'signal': {'is_gc': False, 'already': False, 'bar_ts': '2025-09-27 20:00:00+09:00', 'price': 416.3}, 'state_meta': {'position': 'FLAT', 'pnl_cum': 31693.970500000003, 'last_gc_bar_ts': None}}\n",
      "sleep 56.5 sec until 2025-09-27 12:49:01\n",
      "=== 2025-09-27 12:49:01 start ===\n"
     ]
    },
    {
     "name": "stderr",
     "output_type": "stream",
     "text": [
      "2025-09-27 12:49:03,553 [INFO] ccxt.fetch_ohlcv_or_trades ok=True latency_ms=2552.7\n"
     ]
    },
    {
     "name": "stdout",
     "output_type": "stream",
     "text": [
      "summary: {'stage': 'fetched', 'signal': {'is_gc': False, 'already': False, 'bar_ts': '2025-09-27 20:00:00+09:00', 'price': 416.3}, 'state_meta': {'position': 'FLAT', 'pnl_cum': 31693.970500000003, 'last_gc_bar_ts': None}}\n",
      "sleep 57.4 sec until 2025-09-27 12:50:01\n",
      "=== 2025-09-27 12:50:01 start ===\n"
     ]
    },
    {
     "name": "stderr",
     "output_type": "stream",
     "text": [
      "2025-09-27 12:50:03,526 [INFO] ccxt.fetch_ohlcv_or_trades ok=True latency_ms=2526.1\n"
     ]
    },
    {
     "name": "stdout",
     "output_type": "stream",
     "text": [
      "summary: {'stage': 'fetched', 'signal': {'is_gc': False, 'already': False, 'bar_ts': '2025-09-27 20:00:00+09:00', 'price': 416.3}, 'state_meta': {'position': 'FLAT', 'pnl_cum': 31693.970500000003, 'last_gc_bar_ts': None}}\n",
      "sleep 57.5 sec until 2025-09-27 12:51:01\n",
      "=== 2025-09-27 12:51:01 start ===\n"
     ]
    },
    {
     "name": "stderr",
     "output_type": "stream",
     "text": [
      "2025-09-27 12:51:03,272 [INFO] ccxt.fetch_ohlcv_or_trades ok=True latency_ms=2271.4\n"
     ]
    },
    {
     "name": "stdout",
     "output_type": "stream",
     "text": [
      "summary: {'stage': 'fetched', 'signal': {'is_gc': False, 'already': False, 'bar_ts': '2025-09-27 20:00:00+09:00', 'price': 416.3}, 'state_meta': {'position': 'FLAT', 'pnl_cum': 31693.970500000003, 'last_gc_bar_ts': None}}\n",
      "sleep 57.7 sec until 2025-09-27 12:52:01\n",
      "=== 2025-09-27 12:52:01 start ===\n"
     ]
    },
    {
     "name": "stderr",
     "output_type": "stream",
     "text": [
      "2025-09-27 12:52:03,459 [INFO] ccxt.fetch_ohlcv_or_trades ok=True latency_ms=2458.1\n"
     ]
    },
    {
     "name": "stdout",
     "output_type": "stream",
     "text": [
      "summary: {'stage': 'fetched', 'signal': {'is_gc': False, 'already': False, 'bar_ts': '2025-09-27 20:00:00+09:00', 'price': 416.3}, 'state_meta': {'position': 'FLAT', 'pnl_cum': 31693.970500000003, 'last_gc_bar_ts': None}}\n",
      "sleep 57.5 sec until 2025-09-27 12:53:01\n",
      "=== 2025-09-27 12:53:01 start ===\n"
     ]
    },
    {
     "name": "stderr",
     "output_type": "stream",
     "text": [
      "2025-09-27 12:53:03,540 [INFO] ccxt.fetch_ohlcv_or_trades ok=True latency_ms=2538.9\n"
     ]
    },
    {
     "name": "stdout",
     "output_type": "stream",
     "text": [
      "summary: {'stage': 'fetched', 'signal': {'is_gc': False, 'already': False, 'bar_ts': '2025-09-27 20:00:00+09:00', 'price': 416.3}, 'state_meta': {'position': 'FLAT', 'pnl_cum': 31693.970500000003, 'last_gc_bar_ts': None}}\n",
      "sleep 57.5 sec until 2025-09-27 12:54:01\n",
      "=== 2025-09-27 12:54:01 start ===\n"
     ]
    },
    {
     "name": "stderr",
     "output_type": "stream",
     "text": [
      "2025-09-27 12:54:03,622 [INFO] ccxt.fetch_ohlcv_or_trades ok=True latency_ms=2621.4\n"
     ]
    },
    {
     "name": "stdout",
     "output_type": "stream",
     "text": [
      "summary: {'stage': 'fetched', 'signal': {'is_gc': False, 'already': False, 'bar_ts': '2025-09-27 20:00:00+09:00', 'price': 416.3}, 'state_meta': {'position': 'FLAT', 'pnl_cum': 31693.970500000003, 'last_gc_bar_ts': None}}\n",
      "sleep 57.4 sec until 2025-09-27 12:55:01\n",
      "=== 2025-09-27 12:55:01 start ===\n"
     ]
    },
    {
     "name": "stderr",
     "output_type": "stream",
     "text": [
      "2025-09-27 12:55:03,674 [INFO] ccxt.fetch_ohlcv_or_trades ok=True latency_ms=2673.2\n"
     ]
    },
    {
     "name": "stdout",
     "output_type": "stream",
     "text": [
      "summary: {'stage': 'fetched', 'signal': {'is_gc': False, 'already': False, 'bar_ts': '2025-09-27 20:00:00+09:00', 'price': 416.3}, 'state_meta': {'position': 'FLAT', 'pnl_cum': 31693.970500000003, 'last_gc_bar_ts': None}}\n",
      "sleep 57.3 sec until 2025-09-27 12:56:01\n",
      "=== 2025-09-27 12:56:01 start ===\n"
     ]
    },
    {
     "name": "stderr",
     "output_type": "stream",
     "text": [
      "2025-09-27 12:56:03,678 [INFO] ccxt.fetch_ohlcv_or_trades ok=True latency_ms=2678.0\n"
     ]
    },
    {
     "name": "stdout",
     "output_type": "stream",
     "text": [
      "summary: {'stage': 'fetched', 'signal': {'is_gc': False, 'already': False, 'bar_ts': '2025-09-27 20:00:00+09:00', 'price': 416.3}, 'state_meta': {'position': 'FLAT', 'pnl_cum': 31693.970500000003, 'last_gc_bar_ts': None}}\n",
      "sleep 57.3 sec until 2025-09-27 12:57:01\n",
      "=== 2025-09-27 12:57:01 start ===\n"
     ]
    },
    {
     "name": "stderr",
     "output_type": "stream",
     "text": [
      "2025-09-27 12:57:03,517 [INFO] ccxt.fetch_ohlcv_or_trades ok=True latency_ms=2515.9\n"
     ]
    },
    {
     "name": "stdout",
     "output_type": "stream",
     "text": [
      "summary: {'stage': 'fetched', 'signal': {'is_gc': False, 'already': False, 'bar_ts': '2025-09-27 20:00:00+09:00', 'price': 416.3}, 'state_meta': {'position': 'FLAT', 'pnl_cum': 31693.970500000003, 'last_gc_bar_ts': None}}\n",
      "sleep 57.5 sec until 2025-09-27 12:58:01\n",
      "=== 2025-09-27 12:58:01 start ===\n"
     ]
    },
    {
     "name": "stderr",
     "output_type": "stream",
     "text": [
      "2025-09-27 12:58:03,426 [INFO] ccxt.fetch_ohlcv_or_trades ok=True latency_ms=2425.1\n"
     ]
    },
    {
     "name": "stdout",
     "output_type": "stream",
     "text": [
      "summary: {'stage': 'fetched', 'signal': {'is_gc': False, 'already': False, 'bar_ts': '2025-09-27 20:00:00+09:00', 'price': 416.3}, 'state_meta': {'position': 'FLAT', 'pnl_cum': 31693.970500000003, 'last_gc_bar_ts': None}}\n",
      "sleep 57.6 sec until 2025-09-27 12:59:01\n",
      "=== 2025-09-27 12:59:01 start ===\n"
     ]
    },
    {
     "name": "stderr",
     "output_type": "stream",
     "text": [
      "2025-09-27 12:59:03,677 [INFO] ccxt.fetch_ohlcv_or_trades ok=True latency_ms=2676.9\n"
     ]
    },
    {
     "name": "stdout",
     "output_type": "stream",
     "text": [
      "summary: {'stage': 'fetched', 'signal': {'is_gc': False, 'already': False, 'bar_ts': '2025-09-27 20:00:00+09:00', 'price': 416.3}, 'state_meta': {'position': 'FLAT', 'pnl_cum': 31693.970500000003, 'last_gc_bar_ts': None}}\n",
      "sleep 57.3 sec until 2025-09-27 13:00:01\n",
      "=== 2025-09-27 13:00:01 start ===\n"
     ]
    },
    {
     "name": "stderr",
     "output_type": "stream",
     "text": [
      "2025-09-27 13:00:04,593 [INFO] ccxt.fetch_ohlcv_or_trades ok=True latency_ms=3592.1\n"
     ]
    },
    {
     "name": "stdout",
     "output_type": "stream",
     "text": [
      "summary: {'stage': 'fetched', 'signal': {'is_gc': False, 'already': False, 'bar_ts': '2025-09-27 21:00:00+09:00', 'price': 417.44}, 'state_meta': {'position': 'FLAT', 'pnl_cum': 31693.970500000003, 'last_gc_bar_ts': None}}\n",
      "sleep 56.4 sec until 2025-09-27 13:01:01\n",
      "=== 2025-09-27 13:01:01 start ===\n"
     ]
    },
    {
     "name": "stderr",
     "output_type": "stream",
     "text": [
      "2025-09-27 13:01:04,115 [INFO] ccxt.fetch_ohlcv_or_trades ok=True latency_ms=3114.5\n"
     ]
    },
    {
     "name": "stdout",
     "output_type": "stream",
     "text": [
      "summary: {'stage': 'fetched', 'signal': {'is_gc': False, 'already': False, 'bar_ts': '2025-09-27 21:00:00+09:00', 'price': 417.44}, 'state_meta': {'position': 'FLAT', 'pnl_cum': 31693.970500000003, 'last_gc_bar_ts': None}}\n",
      "sleep 56.9 sec until 2025-09-27 13:02:01\n",
      "=== 2025-09-27 13:02:01 start ===\n"
     ]
    },
    {
     "name": "stderr",
     "output_type": "stream",
     "text": [
      "2025-09-27 13:02:03,638 [INFO] ccxt.fetch_ohlcv_or_trades ok=True latency_ms=2637.6\n"
     ]
    },
    {
     "name": "stdout",
     "output_type": "stream",
     "text": [
      "summary: {'stage': 'fetched', 'signal': {'is_gc': False, 'already': False, 'bar_ts': '2025-09-27 21:00:00+09:00', 'price': 417.44}, 'state_meta': {'position': 'FLAT', 'pnl_cum': 31693.970500000003, 'last_gc_bar_ts': None}}\n",
      "sleep 57.4 sec until 2025-09-27 13:03:01\n",
      "=== 2025-09-27 13:03:01 start ===\n"
     ]
    },
    {
     "name": "stderr",
     "output_type": "stream",
     "text": [
      "2025-09-27 13:03:03,183 [INFO] ccxt.fetch_ohlcv_or_trades ok=True latency_ms=2182.6\n"
     ]
    },
    {
     "name": "stdout",
     "output_type": "stream",
     "text": [
      "summary: {'stage': 'fetched', 'signal': {'is_gc': False, 'already': False, 'bar_ts': '2025-09-27 21:00:00+09:00', 'price': 417.44}, 'state_meta': {'position': 'FLAT', 'pnl_cum': 31693.970500000003, 'last_gc_bar_ts': None}}\n",
      "sleep 57.8 sec until 2025-09-27 13:04:01\n",
      "=== 2025-09-27 13:04:01 start ===\n"
     ]
    },
    {
     "name": "stderr",
     "output_type": "stream",
     "text": [
      "2025-09-27 13:04:03,434 [INFO] ccxt.fetch_ohlcv_or_trades ok=True latency_ms=2432.9\n"
     ]
    },
    {
     "name": "stdout",
     "output_type": "stream",
     "text": [
      "summary: {'stage': 'fetched', 'signal': {'is_gc': False, 'already': False, 'bar_ts': '2025-09-27 21:00:00+09:00', 'price': 417.44}, 'state_meta': {'position': 'FLAT', 'pnl_cum': 31693.970500000003, 'last_gc_bar_ts': None}}\n",
      "sleep 57.6 sec until 2025-09-27 13:05:01\n",
      "=== 2025-09-27 13:05:01 start ===\n"
     ]
    },
    {
     "name": "stderr",
     "output_type": "stream",
     "text": [
      "2025-09-27 13:05:03,464 [INFO] ccxt.fetch_ohlcv_or_trades ok=True latency_ms=2463.2\n"
     ]
    },
    {
     "name": "stdout",
     "output_type": "stream",
     "text": [
      "summary: {'stage': 'fetched', 'signal': {'is_gc': False, 'already': False, 'bar_ts': '2025-09-27 21:00:00+09:00', 'price': 417.44}, 'state_meta': {'position': 'FLAT', 'pnl_cum': 31693.970500000003, 'last_gc_bar_ts': None}}\n",
      "sleep 57.5 sec until 2025-09-27 13:06:01\n",
      "=== 2025-09-27 13:06:01 start ===\n"
     ]
    },
    {
     "name": "stderr",
     "output_type": "stream",
     "text": [
      "2025-09-27 13:06:03,814 [INFO] ccxt.fetch_ohlcv_or_trades ok=True latency_ms=2813.1\n"
     ]
    },
    {
     "name": "stdout",
     "output_type": "stream",
     "text": [
      "summary: {'stage': 'fetched', 'signal': {'is_gc': False, 'already': False, 'bar_ts': '2025-09-27 21:00:00+09:00', 'price': 417.44}, 'state_meta': {'position': 'FLAT', 'pnl_cum': 31693.970500000003, 'last_gc_bar_ts': None}}\n",
      "sleep 57.2 sec until 2025-09-27 13:07:01\n",
      "=== 2025-09-27 13:07:01 start ===\n"
     ]
    },
    {
     "name": "stderr",
     "output_type": "stream",
     "text": [
      "2025-09-27 13:07:03,225 [INFO] ccxt.fetch_ohlcv_or_trades ok=True latency_ms=2224.8\n"
     ]
    },
    {
     "name": "stdout",
     "output_type": "stream",
     "text": [
      "summary: {'stage': 'fetched', 'signal': {'is_gc': False, 'already': False, 'bar_ts': '2025-09-27 21:00:00+09:00', 'price': 417.44}, 'state_meta': {'position': 'FLAT', 'pnl_cum': 31693.970500000003, 'last_gc_bar_ts': None}}\n",
      "sleep 57.8 sec until 2025-09-27 13:08:01\n",
      "=== 2025-09-27 13:08:01 start ===\n"
     ]
    },
    {
     "name": "stderr",
     "output_type": "stream",
     "text": [
      "2025-09-27 13:08:03,445 [INFO] ccxt.fetch_ohlcv_or_trades ok=True latency_ms=2445.1\n"
     ]
    },
    {
     "name": "stdout",
     "output_type": "stream",
     "text": [
      "summary: {'stage': 'fetched', 'signal': {'is_gc': False, 'already': False, 'bar_ts': '2025-09-27 21:00:00+09:00', 'price': 417.44}, 'state_meta': {'position': 'FLAT', 'pnl_cum': 31693.970500000003, 'last_gc_bar_ts': None}}\n",
      "sleep 57.5 sec until 2025-09-27 13:09:01\n",
      "=== 2025-09-27 13:09:01 start ===\n"
     ]
    },
    {
     "name": "stderr",
     "output_type": "stream",
     "text": [
      "2025-09-27 13:09:02,991 [INFO] ccxt.fetch_ohlcv_or_trades ok=True latency_ms=1986.5\n"
     ]
    },
    {
     "name": "stdout",
     "output_type": "stream",
     "text": [
      "summary: {'stage': 'fetched', 'signal': {'is_gc': False, 'already': False, 'bar_ts': '2025-09-27 21:00:00+09:00', 'price': 417.44}, 'state_meta': {'position': 'FLAT', 'pnl_cum': 31693.970500000003, 'last_gc_bar_ts': None}}\n",
      "sleep 58.0 sec until 2025-09-27 13:10:01\n",
      "=== 2025-09-27 13:10:01 start ===\n"
     ]
    },
    {
     "name": "stderr",
     "output_type": "stream",
     "text": [
      "2025-09-27 13:10:04,158 [INFO] ccxt.fetch_ohlcv_or_trades ok=True latency_ms=3158.0\n"
     ]
    },
    {
     "name": "stdout",
     "output_type": "stream",
     "text": [
      "summary: {'stage': 'fetched', 'signal': {'is_gc': False, 'already': False, 'bar_ts': '2025-09-27 21:00:00+09:00', 'price': 417.44}, 'state_meta': {'position': 'FLAT', 'pnl_cum': 31693.970500000003, 'last_gc_bar_ts': None}}\n",
      "sleep 56.8 sec until 2025-09-27 13:11:01\n",
      "=== 2025-09-27 13:11:01 start ===\n"
     ]
    },
    {
     "name": "stderr",
     "output_type": "stream",
     "text": [
      "2025-09-27 13:11:03,567 [INFO] ccxt.fetch_ohlcv_or_trades ok=True latency_ms=2566.7\n"
     ]
    },
    {
     "name": "stdout",
     "output_type": "stream",
     "text": [
      "summary: {'stage': 'fetched', 'signal': {'is_gc': False, 'already': False, 'bar_ts': '2025-09-27 21:00:00+09:00', 'price': 417.44}, 'state_meta': {'position': 'FLAT', 'pnl_cum': 31693.970500000003, 'last_gc_bar_ts': None}}\n",
      "sleep 57.4 sec until 2025-09-27 13:12:01\n",
      "=== 2025-09-27 13:12:01 start ===\n"
     ]
    },
    {
     "name": "stderr",
     "output_type": "stream",
     "text": [
      "2025-09-27 13:12:03,858 [INFO] ccxt.fetch_ohlcv_or_trades ok=True latency_ms=2857.5\n"
     ]
    },
    {
     "name": "stdout",
     "output_type": "stream",
     "text": [
      "summary: {'stage': 'fetched', 'signal': {'is_gc': False, 'already': False, 'bar_ts': '2025-09-27 21:00:00+09:00', 'price': 417.44}, 'state_meta': {'position': 'FLAT', 'pnl_cum': 31693.970500000003, 'last_gc_bar_ts': None}}\n",
      "sleep 57.1 sec until 2025-09-27 13:13:01\n",
      "=== 2025-09-27 13:13:01 start ===\n"
     ]
    },
    {
     "name": "stderr",
     "output_type": "stream",
     "text": [
      "2025-09-27 13:13:03,518 [INFO] ccxt.fetch_ohlcv_or_trades ok=True latency_ms=2517.3\n"
     ]
    },
    {
     "name": "stdout",
     "output_type": "stream",
     "text": [
      "summary: {'stage': 'fetched', 'signal': {'is_gc': False, 'already': False, 'bar_ts': '2025-09-27 21:00:00+09:00', 'price': 417.44}, 'state_meta': {'position': 'FLAT', 'pnl_cum': 31693.970500000003, 'last_gc_bar_ts': None}}\n",
      "sleep 57.5 sec until 2025-09-27 13:14:01\n",
      "=== 2025-09-27 13:14:01 start ===\n"
     ]
    },
    {
     "name": "stderr",
     "output_type": "stream",
     "text": [
      "2025-09-27 13:14:03,471 [INFO] ccxt.fetch_ohlcv_or_trades ok=True latency_ms=2470.1\n"
     ]
    },
    {
     "name": "stdout",
     "output_type": "stream",
     "text": [
      "summary: {'stage': 'fetched', 'signal': {'is_gc': False, 'already': False, 'bar_ts': '2025-09-27 21:00:00+09:00', 'price': 417.44}, 'state_meta': {'position': 'FLAT', 'pnl_cum': 31693.970500000003, 'last_gc_bar_ts': None}}\n",
      "sleep 57.5 sec until 2025-09-27 13:15:01\n",
      "=== 2025-09-27 13:15:01 start ===\n"
     ]
    },
    {
     "name": "stderr",
     "output_type": "stream",
     "text": [
      "2025-09-27 13:15:03,738 [INFO] ccxt.fetch_ohlcv_or_trades ok=True latency_ms=2737.7\n"
     ]
    },
    {
     "name": "stdout",
     "output_type": "stream",
     "text": [
      "summary: {'stage': 'fetched', 'signal': {'is_gc': False, 'already': False, 'bar_ts': '2025-09-27 21:00:00+09:00', 'price': 417.44}, 'state_meta': {'position': 'FLAT', 'pnl_cum': 31693.970500000003, 'last_gc_bar_ts': None}}\n",
      "sleep 57.2 sec until 2025-09-27 13:16:01\n",
      "=== 2025-09-27 13:16:01 start ===\n"
     ]
    },
    {
     "name": "stderr",
     "output_type": "stream",
     "text": [
      "2025-09-27 13:16:03,000 [INFO] ccxt.fetch_ohlcv_or_trades ok=True latency_ms=1999.6\n"
     ]
    },
    {
     "name": "stdout",
     "output_type": "stream",
     "text": [
      "summary: {'stage': 'fetched', 'signal': {'is_gc': False, 'already': False, 'bar_ts': '2025-09-27 21:00:00+09:00', 'price': 417.44}, 'state_meta': {'position': 'FLAT', 'pnl_cum': 31693.970500000003, 'last_gc_bar_ts': None}}\n",
      "sleep 58.0 sec until 2025-09-27 13:17:01\n",
      "=== 2025-09-27 13:17:01 start ===\n"
     ]
    },
    {
     "name": "stderr",
     "output_type": "stream",
     "text": [
      "2025-09-27 13:17:04,190 [INFO] ccxt.fetch_ohlcv_or_trades ok=True latency_ms=3189.5\n"
     ]
    },
    {
     "name": "stdout",
     "output_type": "stream",
     "text": [
      "summary: {'stage': 'fetched', 'signal': {'is_gc': False, 'already': False, 'bar_ts': '2025-09-27 21:00:00+09:00', 'price': 417.44}, 'state_meta': {'position': 'FLAT', 'pnl_cum': 31693.970500000003, 'last_gc_bar_ts': None}}\n",
      "sleep 56.8 sec until 2025-09-27 13:18:01\n",
      "=== 2025-09-27 13:18:01 start ===\n"
     ]
    },
    {
     "name": "stderr",
     "output_type": "stream",
     "text": [
      "2025-09-27 13:18:04,322 [INFO] ccxt.fetch_ohlcv_or_trades ok=True latency_ms=3321.6\n"
     ]
    },
    {
     "name": "stdout",
     "output_type": "stream",
     "text": [
      "summary: {'stage': 'fetched', 'signal': {'is_gc': False, 'already': False, 'bar_ts': '2025-09-27 21:00:00+09:00', 'price': 417.44}, 'state_meta': {'position': 'FLAT', 'pnl_cum': 31693.970500000003, 'last_gc_bar_ts': None}}\n",
      "sleep 56.7 sec until 2025-09-27 13:19:01\n",
      "=== 2025-09-27 13:19:01 start ===\n"
     ]
    },
    {
     "name": "stderr",
     "output_type": "stream",
     "text": [
      "2025-09-27 13:19:03,413 [INFO] ccxt.fetch_ohlcv_or_trades ok=True latency_ms=2412.3\n"
     ]
    },
    {
     "name": "stdout",
     "output_type": "stream",
     "text": [
      "summary: {'stage': 'fetched', 'signal': {'is_gc': False, 'already': False, 'bar_ts': '2025-09-27 21:00:00+09:00', 'price': 417.44}, 'state_meta': {'position': 'FLAT', 'pnl_cum': 31693.970500000003, 'last_gc_bar_ts': None}}\n",
      "sleep 57.6 sec until 2025-09-27 13:20:01\n",
      "=== 2025-09-27 13:20:01 start ===\n"
     ]
    },
    {
     "name": "stderr",
     "output_type": "stream",
     "text": [
      "2025-09-27 13:20:03,995 [INFO] ccxt.fetch_ohlcv_or_trades ok=True latency_ms=2994.2\n"
     ]
    },
    {
     "name": "stdout",
     "output_type": "stream",
     "text": [
      "summary: {'stage': 'fetched', 'signal': {'is_gc': False, 'already': False, 'bar_ts': '2025-09-27 21:00:00+09:00', 'price': 417.44}, 'state_meta': {'position': 'FLAT', 'pnl_cum': 31693.970500000003, 'last_gc_bar_ts': None}}\n",
      "sleep 57.0 sec until 2025-09-27 13:21:01\n",
      "=== 2025-09-27 13:21:01 start ===\n"
     ]
    },
    {
     "name": "stderr",
     "output_type": "stream",
     "text": [
      "2025-09-27 13:21:03,239 [INFO] ccxt.fetch_ohlcv_or_trades ok=True latency_ms=2238.5\n"
     ]
    },
    {
     "name": "stdout",
     "output_type": "stream",
     "text": [
      "summary: {'stage': 'fetched', 'signal': {'is_gc': False, 'already': False, 'bar_ts': '2025-09-27 21:00:00+09:00', 'price': 417.44}, 'state_meta': {'position': 'FLAT', 'pnl_cum': 31693.970500000003, 'last_gc_bar_ts': None}}\n",
      "sleep 57.8 sec until 2025-09-27 13:22:01\n",
      "=== 2025-09-27 13:22:01 start ===\n"
     ]
    },
    {
     "name": "stderr",
     "output_type": "stream",
     "text": [
      "2025-09-27 13:22:03,503 [INFO] ccxt.fetch_ohlcv_or_trades ok=True latency_ms=2502.8\n"
     ]
    },
    {
     "name": "stdout",
     "output_type": "stream",
     "text": [
      "summary: {'stage': 'fetched', 'signal': {'is_gc': False, 'already': False, 'bar_ts': '2025-09-27 21:00:00+09:00', 'price': 417.44}, 'state_meta': {'position': 'FLAT', 'pnl_cum': 31693.970500000003, 'last_gc_bar_ts': None}}\n",
      "sleep 57.5 sec until 2025-09-27 13:23:01\n",
      "=== 2025-09-27 13:23:01 start ===\n"
     ]
    },
    {
     "name": "stderr",
     "output_type": "stream",
     "text": [
      "2025-09-27 13:23:03,433 [INFO] ccxt.fetch_ohlcv_or_trades ok=True latency_ms=2432.2\n"
     ]
    },
    {
     "name": "stdout",
     "output_type": "stream",
     "text": [
      "summary: {'stage': 'fetched', 'signal': {'is_gc': False, 'already': False, 'bar_ts': '2025-09-27 21:00:00+09:00', 'price': 417.44}, 'state_meta': {'position': 'FLAT', 'pnl_cum': 31693.970500000003, 'last_gc_bar_ts': None}}\n",
      "sleep 57.6 sec until 2025-09-27 13:24:01\n",
      "=== 2025-09-27 13:24:01 start ===\n"
     ]
    },
    {
     "name": "stderr",
     "output_type": "stream",
     "text": [
      "2025-09-27 13:24:03,638 [INFO] ccxt.fetch_ohlcv_or_trades ok=True latency_ms=2634.0\n"
     ]
    },
    {
     "name": "stdout",
     "output_type": "stream",
     "text": [
      "summary: {'stage': 'fetched', 'signal': {'is_gc': False, 'already': False, 'bar_ts': '2025-09-27 21:00:00+09:00', 'price': 417.44}, 'state_meta': {'position': 'FLAT', 'pnl_cum': 31693.970500000003, 'last_gc_bar_ts': None}}\n",
      "sleep 57.4 sec until 2025-09-27 13:25:01\n",
      "=== 2025-09-27 13:25:01 start ===\n"
     ]
    },
    {
     "name": "stderr",
     "output_type": "stream",
     "text": [
      "2025-09-27 13:25:03,927 [INFO] ccxt.fetch_ohlcv_or_trades ok=True latency_ms=2926.8\n"
     ]
    },
    {
     "name": "stdout",
     "output_type": "stream",
     "text": [
      "summary: {'stage': 'fetched', 'signal': {'is_gc': False, 'already': False, 'bar_ts': '2025-09-27 21:00:00+09:00', 'price': 417.44}, 'state_meta': {'position': 'FLAT', 'pnl_cum': 31693.970500000003, 'last_gc_bar_ts': None}}\n",
      "sleep 57.1 sec until 2025-09-27 13:26:01\n",
      "=== 2025-09-27 13:26:01 start ===\n"
     ]
    },
    {
     "name": "stderr",
     "output_type": "stream",
     "text": [
      "2025-09-27 13:26:04,165 [INFO] ccxt.fetch_ohlcv_or_trades ok=True latency_ms=3164.9\n"
     ]
    },
    {
     "name": "stdout",
     "output_type": "stream",
     "text": [
      "summary: {'stage': 'fetched', 'signal': {'is_gc': False, 'already': False, 'bar_ts': '2025-09-27 21:00:00+09:00', 'price': 417.44}, 'state_meta': {'position': 'FLAT', 'pnl_cum': 31693.970500000003, 'last_gc_bar_ts': None}}\n",
      "sleep 56.8 sec until 2025-09-27 13:27:01\n",
      "=== 2025-09-27 13:27:01 start ===\n"
     ]
    },
    {
     "name": "stderr",
     "output_type": "stream",
     "text": [
      "2025-09-27 13:27:04,214 [INFO] ccxt.fetch_ohlcv_or_trades ok=True latency_ms=3213.6\n"
     ]
    },
    {
     "name": "stdout",
     "output_type": "stream",
     "text": [
      "summary: {'stage': 'fetched', 'signal': {'is_gc': False, 'already': False, 'bar_ts': '2025-09-27 21:00:00+09:00', 'price': 417.44}, 'state_meta': {'position': 'FLAT', 'pnl_cum': 31693.970500000003, 'last_gc_bar_ts': None}}\n",
      "sleep 56.8 sec until 2025-09-27 13:28:01\n",
      "=== 2025-09-27 13:28:01 start ===\n"
     ]
    },
    {
     "name": "stderr",
     "output_type": "stream",
     "text": [
      "2025-09-27 13:28:03,543 [INFO] ccxt.fetch_ohlcv_or_trades ok=True latency_ms=2542.6\n"
     ]
    },
    {
     "name": "stdout",
     "output_type": "stream",
     "text": [
      "summary: {'stage': 'fetched', 'signal': {'is_gc': False, 'already': False, 'bar_ts': '2025-09-27 21:00:00+09:00', 'price': 417.44}, 'state_meta': {'position': 'FLAT', 'pnl_cum': 31693.970500000003, 'last_gc_bar_ts': None}}\n",
      "sleep 57.5 sec until 2025-09-27 13:29:01\n",
      "=== 2025-09-27 13:29:01 start ===\n"
     ]
    },
    {
     "name": "stderr",
     "output_type": "stream",
     "text": [
      "2025-09-27 13:29:03,321 [INFO] ccxt.fetch_ohlcv_or_trades ok=True latency_ms=2320.5\n"
     ]
    },
    {
     "name": "stdout",
     "output_type": "stream",
     "text": [
      "summary: {'stage': 'fetched', 'signal': {'is_gc': False, 'already': False, 'bar_ts': '2025-09-27 21:00:00+09:00', 'price': 417.44}, 'state_meta': {'position': 'FLAT', 'pnl_cum': 31693.970500000003, 'last_gc_bar_ts': None}}\n",
      "sleep 57.7 sec until 2025-09-27 13:30:01\n",
      "=== 2025-09-27 13:30:01 start ===\n"
     ]
    },
    {
     "name": "stderr",
     "output_type": "stream",
     "text": [
      "2025-09-27 13:30:04,858 [INFO] ccxt.fetch_ohlcv_or_trades ok=True latency_ms=3857.5\n"
     ]
    },
    {
     "name": "stdout",
     "output_type": "stream",
     "text": [
      "summary: {'stage': 'fetched', 'signal': {'is_gc': False, 'already': False, 'bar_ts': '2025-09-27 21:00:00+09:00', 'price': 417.44}, 'state_meta': {'position': 'FLAT', 'pnl_cum': 31693.970500000003, 'last_gc_bar_ts': None}}\n",
      "sleep 56.1 sec until 2025-09-27 13:31:01\n",
      "=== 2025-09-27 13:31:01 start ===\n"
     ]
    },
    {
     "name": "stderr",
     "output_type": "stream",
     "text": [
      "2025-09-27 13:31:03,190 [INFO] ccxt.fetch_ohlcv_or_trades ok=True latency_ms=2189.2\n"
     ]
    },
    {
     "name": "stdout",
     "output_type": "stream",
     "text": [
      "summary: {'stage': 'fetched', 'signal': {'is_gc': False, 'already': False, 'bar_ts': '2025-09-27 21:00:00+09:00', 'price': 417.44}, 'state_meta': {'position': 'FLAT', 'pnl_cum': 31693.970500000003, 'last_gc_bar_ts': None}}\n",
      "sleep 57.8 sec until 2025-09-27 13:32:01\n",
      "=== 2025-09-27 13:32:01 start ===\n"
     ]
    },
    {
     "name": "stderr",
     "output_type": "stream",
     "text": [
      "2025-09-27 13:32:03,530 [INFO] ccxt.fetch_ohlcv_or_trades ok=True latency_ms=2529.7\n"
     ]
    },
    {
     "name": "stdout",
     "output_type": "stream",
     "text": [
      "summary: {'stage': 'fetched', 'signal': {'is_gc': False, 'already': False, 'bar_ts': '2025-09-27 21:00:00+09:00', 'price': 417.44}, 'state_meta': {'position': 'FLAT', 'pnl_cum': 31693.970500000003, 'last_gc_bar_ts': None}}\n",
      "sleep 57.5 sec until 2025-09-27 13:33:01\n",
      "=== 2025-09-27 13:33:01 start ===\n"
     ]
    },
    {
     "name": "stderr",
     "output_type": "stream",
     "text": [
      "2025-09-27 13:33:03,289 [INFO] ccxt.fetch_ohlcv_or_trades ok=True latency_ms=2288.9\n"
     ]
    },
    {
     "name": "stdout",
     "output_type": "stream",
     "text": [
      "summary: {'stage': 'fetched', 'signal': {'is_gc': False, 'already': False, 'bar_ts': '2025-09-27 21:00:00+09:00', 'price': 417.44}, 'state_meta': {'position': 'FLAT', 'pnl_cum': 31693.970500000003, 'last_gc_bar_ts': None}}\n",
      "sleep 57.7 sec until 2025-09-27 13:34:01\n",
      "=== 2025-09-27 13:34:01 start ===\n"
     ]
    },
    {
     "name": "stderr",
     "output_type": "stream",
     "text": [
      "2025-09-27 13:34:02,959 [INFO] ccxt.fetch_ohlcv_or_trades ok=True latency_ms=1958.4\n"
     ]
    },
    {
     "name": "stdout",
     "output_type": "stream",
     "text": [
      "summary: {'stage': 'fetched', 'signal': {'is_gc': False, 'already': False, 'bar_ts': '2025-09-27 21:00:00+09:00', 'price': 417.44}, 'state_meta': {'position': 'FLAT', 'pnl_cum': 31693.970500000003, 'last_gc_bar_ts': None}}\n",
      "sleep 58.0 sec until 2025-09-27 13:35:01\n",
      "=== 2025-09-27 13:35:01 start ===\n"
     ]
    },
    {
     "name": "stderr",
     "output_type": "stream",
     "text": [
      "2025-09-27 13:35:03,215 [INFO] ccxt.fetch_ohlcv_or_trades ok=True latency_ms=2214.3\n"
     ]
    },
    {
     "name": "stdout",
     "output_type": "stream",
     "text": [
      "summary: {'stage': 'fetched', 'signal': {'is_gc': False, 'already': False, 'bar_ts': '2025-09-27 21:00:00+09:00', 'price': 417.44}, 'state_meta': {'position': 'FLAT', 'pnl_cum': 31693.970500000003, 'last_gc_bar_ts': None}}\n",
      "sleep 57.8 sec until 2025-09-27 13:36:01\n",
      "=== 2025-09-27 13:36:01 start ===\n"
     ]
    },
    {
     "name": "stderr",
     "output_type": "stream",
     "text": [
      "2025-09-27 13:36:04,047 [INFO] ccxt.fetch_ohlcv_or_trades ok=True latency_ms=3046.6\n"
     ]
    },
    {
     "name": "stdout",
     "output_type": "stream",
     "text": [
      "summary: {'stage': 'fetched', 'signal': {'is_gc': False, 'already': False, 'bar_ts': '2025-09-27 21:00:00+09:00', 'price': 417.44}, 'state_meta': {'position': 'FLAT', 'pnl_cum': 31693.970500000003, 'last_gc_bar_ts': None}}\n",
      "sleep 56.9 sec until 2025-09-27 13:37:01\n",
      "=== 2025-09-27 13:37:01 start ===\n"
     ]
    },
    {
     "name": "stderr",
     "output_type": "stream",
     "text": [
      "2025-09-27 13:37:03,096 [INFO] ccxt.fetch_ohlcv_or_trades ok=True latency_ms=2095.2\n"
     ]
    },
    {
     "name": "stdout",
     "output_type": "stream",
     "text": [
      "summary: {'stage': 'fetched', 'signal': {'is_gc': False, 'already': False, 'bar_ts': '2025-09-27 21:00:00+09:00', 'price': 417.44}, 'state_meta': {'position': 'FLAT', 'pnl_cum': 31693.970500000003, 'last_gc_bar_ts': None}}\n",
      "sleep 57.9 sec until 2025-09-27 13:38:01\n",
      "=== 2025-09-27 13:38:01 start ===\n"
     ]
    },
    {
     "name": "stderr",
     "output_type": "stream",
     "text": [
      "2025-09-27 13:38:03,178 [INFO] ccxt.fetch_ohlcv_or_trades ok=True latency_ms=2177.8\n"
     ]
    },
    {
     "name": "stdout",
     "output_type": "stream",
     "text": [
      "summary: {'stage': 'fetched', 'signal': {'is_gc': False, 'already': False, 'bar_ts': '2025-09-27 21:00:00+09:00', 'price': 417.44}, 'state_meta': {'position': 'FLAT', 'pnl_cum': 31693.970500000003, 'last_gc_bar_ts': None}}\n",
      "sleep 57.8 sec until 2025-09-27 13:39:01\n",
      "=== 2025-09-27 13:39:01 start ===\n"
     ]
    },
    {
     "name": "stderr",
     "output_type": "stream",
     "text": [
      "2025-09-27 13:39:03,672 [INFO] ccxt.fetch_ohlcv_or_trades ok=True latency_ms=2672.1\n"
     ]
    },
    {
     "name": "stdout",
     "output_type": "stream",
     "text": [
      "summary: {'stage': 'fetched', 'signal': {'is_gc': False, 'already': False, 'bar_ts': '2025-09-27 21:00:00+09:00', 'price': 417.44}, 'state_meta': {'position': 'FLAT', 'pnl_cum': 31693.970500000003, 'last_gc_bar_ts': None}}\n",
      "sleep 57.3 sec until 2025-09-27 13:40:01\n",
      "=== 2025-09-27 13:40:01 start ===\n"
     ]
    },
    {
     "name": "stderr",
     "output_type": "stream",
     "text": [
      "2025-09-27 13:40:04,403 [INFO] ccxt.fetch_ohlcv_or_trades ok=True latency_ms=3401.9\n"
     ]
    },
    {
     "name": "stdout",
     "output_type": "stream",
     "text": [
      "summary: {'stage': 'fetched', 'signal': {'is_gc': False, 'already': False, 'bar_ts': '2025-09-27 21:00:00+09:00', 'price': 417.44}, 'state_meta': {'position': 'FLAT', 'pnl_cum': 31693.970500000003, 'last_gc_bar_ts': None}}\n",
      "sleep 56.6 sec until 2025-09-27 13:41:01\n",
      "=== 2025-09-27 13:47:01 start ===\n"
     ]
    },
    {
     "name": "stderr",
     "output_type": "stream",
     "text": [
      "2025-09-27 13:47:03,018 [INFO] ccxt.fetch_ohlcv_or_trades ok=True latency_ms=2016.9\n"
     ]
    },
    {
     "name": "stdout",
     "output_type": "stream",
     "text": [
      "summary: {'stage': 'fetched', 'signal': {'is_gc': False, 'already': False, 'bar_ts': '2025-09-27 21:00:00+09:00', 'price': 417.44}, 'state_meta': {'position': 'FLAT', 'pnl_cum': 31693.970500000003, 'last_gc_bar_ts': None}}\n",
      "sleep 58.0 sec until 2025-09-27 13:48:01\n",
      "=== 2025-09-27 13:48:01 start ===\n"
     ]
    },
    {
     "name": "stderr",
     "output_type": "stream",
     "text": [
      "2025-09-27 13:48:04,004 [INFO] ccxt.fetch_ohlcv_or_trades ok=True latency_ms=3003.6\n"
     ]
    },
    {
     "name": "stdout",
     "output_type": "stream",
     "text": [
      "summary: {'stage': 'fetched', 'signal': {'is_gc': False, 'already': False, 'bar_ts': '2025-09-27 21:00:00+09:00', 'price': 417.44}, 'state_meta': {'position': 'FLAT', 'pnl_cum': 31693.970500000003, 'last_gc_bar_ts': None}}\n",
      "sleep 57.0 sec until 2025-09-27 13:49:01\n",
      "=== 2025-09-27 14:05:01 start ===\n"
     ]
    },
    {
     "name": "stderr",
     "output_type": "stream",
     "text": [
      "2025-09-27 14:05:03,358 [INFO] ccxt.fetch_ohlcv_or_trades ok=True latency_ms=2357.7\n"
     ]
    },
    {
     "name": "stdout",
     "output_type": "stream",
     "text": [
      "summary: {'stage': 'fetched', 'signal': {'is_gc': False, 'already': False, 'bar_ts': '2025-09-27 22:00:00+09:00', 'price': 416.9}, 'state_meta': {'position': 'FLAT', 'pnl_cum': 31693.970500000003, 'last_gc_bar_ts': None}}\n",
      "sleep 57.6 sec until 2025-09-27 14:06:01\n",
      "=== 2025-09-27 14:27:01 start ===\n"
     ]
    },
    {
     "name": "stderr",
     "output_type": "stream",
     "text": [
      "2025-09-27 14:27:03,862 [INFO] ccxt.fetch_ohlcv_or_trades ok=True latency_ms=2862.1\n"
     ]
    },
    {
     "name": "stdout",
     "output_type": "stream",
     "text": [
      "summary: {'stage': 'fetched', 'signal': {'is_gc': False, 'already': False, 'bar_ts': '2025-09-27 22:00:00+09:00', 'price': 416.9}, 'state_meta': {'position': 'FLAT', 'pnl_cum': 31693.970500000003, 'last_gc_bar_ts': None}}\n",
      "sleep 57.1 sec until 2025-09-27 14:28:01\n",
      "=== 2025-09-27 15:16:01 start ===\n"
     ]
    },
    {
     "name": "stderr",
     "output_type": "stream",
     "text": [
      "2025-09-27 15:16:03,239 [INFO] ccxt.fetch_ohlcv_or_trades ok=True latency_ms=2238.1\n"
     ]
    },
    {
     "name": "stdout",
     "output_type": "stream",
     "text": [
      "summary: {'stage': 'fetched', 'signal': {'is_gc': False, 'already': False, 'bar_ts': '2025-09-27 23:00:00+09:00', 'price': 417.12}, 'state_meta': {'position': 'FLAT', 'pnl_cum': 31693.970500000003, 'last_gc_bar_ts': None}}\n",
      "sleep 57.8 sec until 2025-09-27 15:17:01\n",
      "=== 2025-09-27 15:32:01 start ===\n"
     ]
    },
    {
     "name": "stderr",
     "output_type": "stream",
     "text": [
      "2025-09-27 15:32:03,495 [INFO] ccxt.fetch_ohlcv_or_trades ok=True latency_ms=2489.1\n"
     ]
    },
    {
     "name": "stdout",
     "output_type": "stream",
     "text": [
      "summary: {'stage': 'fetched', 'signal': {'is_gc': False, 'already': False, 'bar_ts': '2025-09-27 23:00:00+09:00', 'price': 417.12}, 'state_meta': {'position': 'FLAT', 'pnl_cum': 31693.970500000003, 'last_gc_bar_ts': None}}\n",
      "sleep 57.5 sec until 2025-09-27 15:33:01\n",
      "=== 2025-09-27 15:48:01 start ===\n"
     ]
    },
    {
     "name": "stderr",
     "output_type": "stream",
     "text": [
      "2025-09-27 15:48:04,302 [INFO] ccxt.fetch_ohlcv_or_trades ok=True latency_ms=3298.2\n"
     ]
    },
    {
     "name": "stdout",
     "output_type": "stream",
     "text": [
      "summary: {'stage': 'fetched', 'signal': {'is_gc': False, 'already': False, 'bar_ts': '2025-09-27 23:00:00+09:00', 'price': 417.12}, 'state_meta': {'position': 'FLAT', 'pnl_cum': 31693.970500000003, 'last_gc_bar_ts': None}}\n",
      "sleep 56.7 sec until 2025-09-27 15:49:01\n",
      "=== 2025-09-27 16:22:01 start ===\n"
     ]
    },
    {
     "name": "stderr",
     "output_type": "stream",
     "text": [
      "2025-09-27 16:22:03,542 [INFO] ccxt.fetch_ohlcv_or_trades ok=True latency_ms=2541.3\n"
     ]
    },
    {
     "name": "stdout",
     "output_type": "stream",
     "text": [
      "summary: {'stage': 'fetched', 'signal': {'is_gc': False, 'already': False, 'bar_ts': '2025-09-28 00:00:00+09:00', 'price': 417.17}, 'state_meta': {'position': 'FLAT', 'pnl_cum': 31693.970500000003, 'last_gc_bar_ts': None}}\n",
      "sleep 57.5 sec until 2025-09-27 16:23:01\n",
      "=== 2025-09-27 16:49:01 start ===\n"
     ]
    },
    {
     "name": "stderr",
     "output_type": "stream",
     "text": [
      "2025-09-27 16:49:03,194 [INFO] ccxt.fetch_ohlcv_or_trades ok=True latency_ms=2193.0\n"
     ]
    },
    {
     "name": "stdout",
     "output_type": "stream",
     "text": [
      "summary: {'stage': 'fetched', 'signal': {'is_gc': False, 'already': False, 'bar_ts': '2025-09-28 00:00:00+09:00', 'price': 417.17}, 'state_meta': {'position': 'FLAT', 'pnl_cum': 31693.970500000003, 'last_gc_bar_ts': None}}\n",
      "sleep 57.8 sec until 2025-09-27 16:50:01\n"
     ]
    }
   ],
   "source": [
    "import time\n",
    "from datetime import datetime\n",
    "\n",
    "### config\n",
    "cfg = RunnerConfig(mode=\"paper\")  # or \"real\"\n",
    "print(cfg)\n",
    "\n",
    "### \n",
    "while True:\n",
    "    now = datetime.now()\n",
    "    print(f\"=== {now:%Y-%m-%d %H:%M:%S} start ===\")\n",
    "    try:\n",
    "        out = run_hourly_cycle(cfg)\n",
    "        print(\"summary:\", out)\n",
    "    except Exception as e:\n",
    "        print(\"error:\", e)\n",
    "\n",
    "    # 次の実行タイミングを計算（毎分01秒）\n",
    "    now = datetime.now()\n",
    "    next_run = (now.replace(second=1, microsecond=0) \n",
    "                + timedelta(minutes=1) if now.second >= 1 else now.replace(second=1, microsecond=0))\n",
    "    sleep_sec = (next_run - datetime.now()).total_seconds()\n",
    "    print(f\"sleep {sleep_sec:.1f} sec until {next_run}\")\n",
    "    time.sleep(max(0, sleep_sec))"
   ]
  },
  {
   "cell_type": "code",
   "execution_count": null,
   "id": "6d6000b7-65c8-4930-b565-702f94e3885b",
   "metadata": {},
   "outputs": [],
   "source": []
  },
  {
   "cell_type": "code",
   "execution_count": null,
   "id": "7e80a346-8d84-4531-a7e4-910de84a3854",
   "metadata": {},
   "outputs": [],
   "source": []
  }
 ],
 "metadata": {
  "kernelspec": {
   "display_name": "Python 3.8.5 ('.venv': venv)",
   "language": "python",
   "name": "python3"
  },
  "language_info": {
   "codemirror_mode": {
    "name": "ipython",
    "version": 3
   },
   "file_extension": ".py",
   "mimetype": "text/x-python",
   "name": "python",
   "nbconvert_exporter": "python",
   "pygments_lexer": "ipython3",
   "version": "3.8.5"
  },
  "vscode": {
   "interpreter": {
    "hash": "077372253d7d4305bc1eb15a35bc78f1ea15321a78a60f276034831b5dca0ac5"
   }
  }
 },
 "nbformat": 4,
 "nbformat_minor": 5
}
