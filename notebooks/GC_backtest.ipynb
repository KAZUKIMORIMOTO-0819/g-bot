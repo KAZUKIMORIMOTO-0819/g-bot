{
 "cells": [
  {
   "cell_type": "markdown",
   "id": "60634f65",
   "metadata": {},
   "source": [
    "# GCバックテストノートブック\n",
    "\n",
    "GC戦略（SMA30/60ゴールデンクロス）で取得したローソク足を読み込み、`gc_bot` のバックテストユーティリティを使って検証する。"
   ]
  },
  {
   "cell_type": "code",
   "execution_count": 1,
   "id": "96010965",
   "metadata": {},
   "outputs": [],
   "source": [
    "import json\n",
    "from dataclasses import dataclass\n",
    "from pathlib import Path\n",
    "from typing import Any, Dict, List, Optional\n",
    "\n",
    "import matplotlib.pyplot as plt\n",
    "import matplotlib.dates as mdates\n",
    "import numpy as np\n",
    "import pandas as pd\n",
    "\n",
    "from gc_bot import (\n",
    "    BacktestConfig,\n",
    "    BacktestResult,\n",
    "    BacktestTrade,\n",
    "    OrderParams,\n",
    "    SignalParams,\n",
    "    add_sma_columns,\n",
    "    run_backtest,\n",
    ")\n"
   ]
  },
  {
   "cell_type": "markdown",
   "id": "19012d8e",
   "metadata": {},
   "source": [
    "## データロード用ヘルパー"
   ]
  },
  {
   "cell_type": "code",
   "execution_count": 2,
   "id": "5d299da3",
   "metadata": {},
   "outputs": [],
   "source": [
    "def load_cached_ohlcv(\n",
    "    log_dir: Path = Path(\"../data/candles/logs\"),\n",
    "    limit_files: Optional[int] = None,\n",
    ") -> pd.DataFrame:\n",
    "    \"\"\"指定ディレクトリから1時間足ログCSVを読み込み、結合して返す。\"\"\"\n",
    "    if isinstance(log_dir, str):\n",
    "        log_dir = Path(log_dir)\n",
    "    csv_paths = sorted(log_dir.glob(\"xrpjpy_1h_*.csv\"))\n",
    "    if not csv_paths:\n",
    "        raise FileNotFoundError(f\"No CSV files found under {log_dir}\")\n",
    "    if limit_files is not None:\n",
    "        csv_paths = csv_paths[-limit_files:]\n",
    "    frames: List[pd.DataFrame] = []\n",
    "    for path in csv_paths:\n",
    "        df = pd.read_csv(\n",
    "            path,\n",
    "            parse_dates=[\"open_time_jst\", \"close_time_jst\"],\n",
    "            index_col=\"close_time_jst\",\n",
    "        )\n",
    "        frames.append(df[[\"open\", \"high\", \"low\", \"close\", \"volume\"]])\n",
    "    merged = pd.concat(frames)\n",
    "    merged = merged[~merged.index.duplicated(keep=\"last\")]\n",
    "    merged = merged.sort_index()\n",
    "    return merged\n"
   ]
  },
  {
   "cell_type": "markdown",
   "id": "3035181b",
   "metadata": {},
   "source": [
    "## バックテスト実行を関数化"
   ]
  },
  {
   "cell_type": "code",
   "execution_count": 3,
   "id": "d483b279",
   "metadata": {},
   "outputs": [],
   "source": [
    "def run_gc_backtest(\n",
    "    df_ohlcv: pd.DataFrame,\n",
    "    signal_params: Optional[SignalParams] = None,\n",
    "    order_params: Optional[OrderParams] = None,\n",
    "    **backtest_kwargs: Any,\n",
    ") -> BacktestResult:\n",
    "    \"\"\"データフレームとパラメータを受け取ってGCバックテストを実行する。\"\"\"\n",
    "    cfg = BacktestConfig(\n",
    "        signal=signal_params or SignalParams(),\n",
    "        order=order_params or OrderParams(),\n",
    "        **backtest_kwargs,\n",
    "    )\n",
    "    return run_backtest(df_ohlcv, cfg)\n"
   ]
  },
  {
   "cell_type": "markdown",
   "id": "6e8391d4",
   "metadata": {},
   "source": [
    "## ローソク足 + トレード描画ヘルパー"
   ]
  },
  {
   "cell_type": "code",
   "execution_count": 4,
   "id": "38eccbd4",
   "metadata": {},
   "outputs": [],
   "source": [
    "def plot_candles_with_trades(\n",
    "    df_plot: pd.DataFrame,\n",
    "    trades: List[BacktestTrade],\n",
    "    title: str = \"Candlestick with trades\",\n",
    "    max_trades: Optional[int] = None,\n",
    ") -> None:\n",
    "    \"\"\"df_plot のローソク足チャートにエントリー/イグジットを重ねて表示する。\"\"\"\n",
    "    if df_plot.empty:\n",
    "        raise ValueError(\"df_plot is empty\")\n",
    "\n",
    "    idx = df_plot.index\n",
    "    if isinstance(idx, pd.DatetimeIndex) and idx.tz is not None:\n",
    "        idx = idx.tz_convert(None)\n",
    "    dates = mdates.date2num(idx.to_pydatetime())\n",
    "\n",
    "    opens = df_plot['open'].values\n",
    "    highs = df_plot['high'].values\n",
    "    lows = df_plot['low'].values\n",
    "    closes = df_plot['close'].values\n",
    "\n",
    "    if len(dates) > 1:\n",
    "        spacing = np.min(np.diff(dates))\n",
    "        half = (spacing if spacing > 0 else 0.02) * 0.4\n",
    "    else:\n",
    "        half = 0.02\n",
    "\n",
    "    fig, ax = plt.subplots(figsize=(12, 6))\n",
    "    for d, o, h, l, c in zip(dates, opens, highs, lows, closes):\n",
    "        color = 'tab:red' if c >= o else 'tab:blue'\n",
    "        ax.vlines(d, l, h, color=color, linewidth=1)\n",
    "        ax.hlines(o, d - half, d, color=color, linewidth=3)\n",
    "        ax.hlines(c, d, d + half, color=color, linewidth=3)\n",
    "\n",
    "    def _to_num(ts):\n",
    "        ts = pd.to_datetime(ts)\n",
    "        if ts.tz is not None:\n",
    "            ts = ts.tz_convert(None)\n",
    "        return mdates.date2num(ts.to_pydatetime())\n",
    "\n",
    "    entry_label = False\n",
    "    exit_label = False\n",
    "    start, end = dates[0], dates[-1]\n",
    "\n",
    "    for trade in trades[: max_trades or len(trades)]:\n",
    "        entry_num = _to_num(trade.entry_ts)\n",
    "        exit_num = _to_num(trade.exit_ts)\n",
    "\n",
    "        if start <= entry_num <= end:\n",
    "            ax.scatter(entry_num, trade.entry_price, marker='^', s=90, color='green', edgecolor='black', label='Entry' if not entry_label else '')\n",
    "            entry_label = True\n",
    "        if start <= exit_num <= end:\n",
    "            ax.scatter(exit_num, trade.exit_price, marker='v', s=90, color='orange', edgecolor='black', label='Exit' if not exit_label else '')\n",
    "            exit_label = True\n",
    "\n",
    "    ax.set_title(title)\n",
    "    ax.set_ylabel('Price (JPY)')\n",
    "    ax.xaxis.set_major_formatter(mdates.DateFormatter('%Y-%m-%d%H:%M'))\n",
    "    fig.autofmt_xdate()\n",
    "    ax.grid(True, alpha=0.2)\n",
    "\n",
    "    if 'sma_short' in df_plot.columns:\n",
    "        ax.plot(dates, df_plot['sma_short'].values, color='gold', linewidth=1.5, label='SMA Short')\n",
    "    if 'sma_long' in df_plot.columns:\n",
    "        ax.plot(dates, df_plot['sma_long'].values, color='purple', linewidth=1.5, label='SMA Long')\n",
    "\n",
    "    handles, labels = ax.get_legend_handles_labels()\n",
    "    if any(labels):\n",
    "        ax.legend()\n",
    "\n",
    "    plt.show()\n"
   ]
  },
  {
   "cell_type": "markdown",
   "id": "16a5869b",
   "metadata": {},
   "source": [
    "## データを読み込む"
   ]
  },
  {
   "cell_type": "code",
   "execution_count": 5,
   "id": "3f862d3f",
   "metadata": {},
   "outputs": [
    {
     "name": "stdout",
     "output_type": "stream",
     "text": [
      "(370, 5)\n"
     ]
    },
    {
     "data": {
      "text/html": [
       "<div>\n",
       "<style scoped>\n",
       "    .dataframe tbody tr th:only-of-type {\n",
       "        vertical-align: middle;\n",
       "    }\n",
       "\n",
       "    .dataframe tbody tr th {\n",
       "        vertical-align: top;\n",
       "    }\n",
       "\n",
       "    .dataframe thead th {\n",
       "        text-align: right;\n",
       "    }\n",
       "</style>\n",
       "<table border=\"1\" class=\"dataframe\">\n",
       "  <thead>\n",
       "    <tr style=\"text-align: right;\">\n",
       "      <th></th>\n",
       "      <th>open</th>\n",
       "      <th>high</th>\n",
       "      <th>low</th>\n",
       "      <th>close</th>\n",
       "      <th>volume</th>\n",
       "    </tr>\n",
       "    <tr>\n",
       "      <th>close_time_jst</th>\n",
       "      <th></th>\n",
       "      <th></th>\n",
       "      <th></th>\n",
       "      <th></th>\n",
       "      <th></th>\n",
       "    </tr>\n",
       "  </thead>\n",
       "  <tbody>\n",
       "    <tr>\n",
       "      <th>2025-10-05 12:00:00+09:00</th>\n",
       "      <td>443.80</td>\n",
       "      <td>446.86</td>\n",
       "      <td>443.21</td>\n",
       "      <td>444.25</td>\n",
       "      <td>159827.4</td>\n",
       "    </tr>\n",
       "    <tr>\n",
       "      <th>2025-10-05 13:00:00+09:00</th>\n",
       "      <td>444.25</td>\n",
       "      <td>449.12</td>\n",
       "      <td>443.70</td>\n",
       "      <td>447.72</td>\n",
       "      <td>206722.3</td>\n",
       "    </tr>\n",
       "    <tr>\n",
       "      <th>2025-10-05 14:00:00+09:00</th>\n",
       "      <td>447.81</td>\n",
       "      <td>449.00</td>\n",
       "      <td>446.36</td>\n",
       "      <td>447.70</td>\n",
       "      <td>89151.5</td>\n",
       "    </tr>\n",
       "    <tr>\n",
       "      <th>2025-10-05 15:00:00+09:00</th>\n",
       "      <td>447.73</td>\n",
       "      <td>448.64</td>\n",
       "      <td>446.57</td>\n",
       "      <td>447.34</td>\n",
       "      <td>75510.0</td>\n",
       "    </tr>\n",
       "    <tr>\n",
       "      <th>2025-10-05 16:00:00+09:00</th>\n",
       "      <td>447.52</td>\n",
       "      <td>452.16</td>\n",
       "      <td>447.31</td>\n",
       "      <td>451.88</td>\n",
       "      <td>69244.6</td>\n",
       "    </tr>\n",
       "  </tbody>\n",
       "</table>\n",
       "</div>"
      ],
      "text/plain": [
       "                             open    high     low   close    volume\n",
       "close_time_jst                                                     \n",
       "2025-10-05 12:00:00+09:00  443.80  446.86  443.21  444.25  159827.4\n",
       "2025-10-05 13:00:00+09:00  444.25  449.12  443.70  447.72  206722.3\n",
       "2025-10-05 14:00:00+09:00  447.81  449.00  446.36  447.70   89151.5\n",
       "2025-10-05 15:00:00+09:00  447.73  448.64  446.57  447.34   75510.0\n",
       "2025-10-05 16:00:00+09:00  447.52  452.16  447.31  451.88   69244.6"
      ]
     },
     "execution_count": 5,
     "metadata": {},
     "output_type": "execute_result"
    }
   ],
   "source": [
    "# 直近のCSV 200ファイルを読み込む例（必要に応じてNoneにして全量読み込み）\n",
    "df = load_cached_ohlcv(limit_files=200)\n",
    "print(df.shape)\n",
    "df.tail()\n"
   ]
  },
  {
   "cell_type": "markdown",
   "id": "2f4a0d4f",
   "metadata": {},
   "source": [
    "## パラメータ設定"
   ]
  },
  {
   "cell_type": "code",
   "execution_count": 6,
   "id": "262920e8",
   "metadata": {},
   "outputs": [],
   "source": [
    "signal_params = SignalParams(short_window=30, long_window=60, epsilon=1e-12)\n",
    "order_params = OrderParams(\n",
    "    mode=\"paper\",\n",
    "    notional_jpy=5000.0,\n",
    "    slippage_bps=5.0,\n",
    "    taker_fee_bps=15.0,\n",
    ")\n",
    "\n",
    "initial_capital = 1_000_000.0  # 総資金（例）\n",
    "notional_fraction = 0.05       # 1トレードあたり総資金に対する割合\n"
   ]
  },
  {
   "cell_type": "markdown",
   "id": "36bd8f48",
   "metadata": {},
   "source": [
    "## 移動平均を付与したデータセット"
   ]
  },
  {
   "cell_type": "code",
   "execution_count": 7,
   "id": "ec6440b4",
   "metadata": {},
   "outputs": [
    {
     "data": {
      "text/html": [
       "<div>\n",
       "<style scoped>\n",
       "    .dataframe tbody tr th:only-of-type {\n",
       "        vertical-align: middle;\n",
       "    }\n",
       "\n",
       "    .dataframe tbody tr th {\n",
       "        vertical-align: top;\n",
       "    }\n",
       "\n",
       "    .dataframe thead th {\n",
       "        text-align: right;\n",
       "    }\n",
       "</style>\n",
       "<table border=\"1\" class=\"dataframe\">\n",
       "  <thead>\n",
       "    <tr style=\"text-align: right;\">\n",
       "      <th></th>\n",
       "      <th>open</th>\n",
       "      <th>high</th>\n",
       "      <th>low</th>\n",
       "      <th>close</th>\n",
       "      <th>volume</th>\n",
       "      <th>sma_short</th>\n",
       "      <th>sma_long</th>\n",
       "    </tr>\n",
       "    <tr>\n",
       "      <th>close_time_jst</th>\n",
       "      <th></th>\n",
       "      <th></th>\n",
       "      <th></th>\n",
       "      <th></th>\n",
       "      <th></th>\n",
       "      <th></th>\n",
       "      <th></th>\n",
       "    </tr>\n",
       "  </thead>\n",
       "  <tbody>\n",
       "    <tr>\n",
       "      <th>2025-10-05 12:00:00+09:00</th>\n",
       "      <td>443.80</td>\n",
       "      <td>446.86</td>\n",
       "      <td>443.21</td>\n",
       "      <td>444.25</td>\n",
       "      <td>159827.4</td>\n",
       "      <td>441.693000</td>\n",
       "      <td>445.151833</td>\n",
       "    </tr>\n",
       "    <tr>\n",
       "      <th>2025-10-05 13:00:00+09:00</th>\n",
       "      <td>444.25</td>\n",
       "      <td>449.12</td>\n",
       "      <td>443.70</td>\n",
       "      <td>447.72</td>\n",
       "      <td>206722.3</td>\n",
       "      <td>441.641000</td>\n",
       "      <td>445.143000</td>\n",
       "    </tr>\n",
       "    <tr>\n",
       "      <th>2025-10-05 14:00:00+09:00</th>\n",
       "      <td>447.81</td>\n",
       "      <td>449.00</td>\n",
       "      <td>446.36</td>\n",
       "      <td>447.70</td>\n",
       "      <td>89151.5</td>\n",
       "      <td>441.617667</td>\n",
       "      <td>445.154833</td>\n",
       "    </tr>\n",
       "    <tr>\n",
       "      <th>2025-10-05 15:00:00+09:00</th>\n",
       "      <td>447.73</td>\n",
       "      <td>448.64</td>\n",
       "      <td>446.57</td>\n",
       "      <td>447.34</td>\n",
       "      <td>75510.0</td>\n",
       "      <td>441.569667</td>\n",
       "      <td>445.093667</td>\n",
       "    </tr>\n",
       "    <tr>\n",
       "      <th>2025-10-05 16:00:00+09:00</th>\n",
       "      <td>447.52</td>\n",
       "      <td>452.16</td>\n",
       "      <td>447.31</td>\n",
       "      <td>451.88</td>\n",
       "      <td>69244.6</td>\n",
       "      <td>441.765667</td>\n",
       "      <td>445.043000</td>\n",
       "    </tr>\n",
       "  </tbody>\n",
       "</table>\n",
       "</div>"
      ],
      "text/plain": [
       "                             open    high     low   close    volume  \\\n",
       "close_time_jst                                                        \n",
       "2025-10-05 12:00:00+09:00  443.80  446.86  443.21  444.25  159827.4   \n",
       "2025-10-05 13:00:00+09:00  444.25  449.12  443.70  447.72  206722.3   \n",
       "2025-10-05 14:00:00+09:00  447.81  449.00  446.36  447.70   89151.5   \n",
       "2025-10-05 15:00:00+09:00  447.73  448.64  446.57  447.34   75510.0   \n",
       "2025-10-05 16:00:00+09:00  447.52  452.16  447.31  451.88   69244.6   \n",
       "\n",
       "                            sma_short    sma_long  \n",
       "close_time_jst                                     \n",
       "2025-10-05 12:00:00+09:00  441.693000  445.151833  \n",
       "2025-10-05 13:00:00+09:00  441.641000  445.143000  \n",
       "2025-10-05 14:00:00+09:00  441.617667  445.154833  \n",
       "2025-10-05 15:00:00+09:00  441.569667  445.093667  \n",
       "2025-10-05 16:00:00+09:00  441.765667  445.043000  "
      ]
     },
     "execution_count": 7,
     "metadata": {},
     "output_type": "execute_result"
    }
   ],
   "source": [
    "df_with_ma = add_sma_columns(df.copy(), signal_params)\n",
    "df_with_ma.tail()"
   ]
  },
  {
   "cell_type": "markdown",
   "id": "e16b7b52",
   "metadata": {},
   "source": [
    "## バックテスト実行"
   ]
  },
  {
   "cell_type": "code",
   "execution_count": 8,
   "id": "5bdfec91",
   "metadata": {},
   "outputs": [
    {
     "data": {
      "text/plain": [
       "{'trades': 3,\n",
       " 'win': 3,\n",
       " 'loss': 0,\n",
       " 'win_rate': 100.0,\n",
       " 'pnl_total': 2472.38,\n",
       " 'pnl_per_trade': 824.13,\n",
       " 'max_drawdown': 0.0,\n",
       " 'max_drawdown_pct': 0.0,\n",
       " 'capital_initial': 1000000.0,\n",
       " 'capital_final': 1002472.38,\n",
       " 'total_return_pct': 0.25,\n",
       " 'sharpe_ratio': 584298657577740.5,\n",
       " 'mean_trade_return': 0.0165,\n",
       " 'trade_return_std': 0.0,\n",
       " 'notional_fraction': 0.05,\n",
       " 'notional_static': 5000.0}"
      ]
     },
     "execution_count": 8,
     "metadata": {},
     "output_type": "execute_result"
    }
   ],
   "source": [
    "result = run_gc_backtest(\n",
    "    df_with_ma,\n",
    "    signal_params=signal_params,\n",
    "    order_params=order_params,\n",
    "    initial_capital=initial_capital,\n",
    "    notional_fraction=notional_fraction,\n",
    ")\n",
    "summary = result.summary\n",
    "summary"
   ]
  },
  {
   "cell_type": "markdown",
   "id": "45b9a6bc",
   "metadata": {},
   "source": [
    "## 主要バックテスト指標"
   ]
  },
  {
   "cell_type": "code",
   "execution_count": 9,
   "id": "8c050c70",
   "metadata": {},
   "outputs": [
    {
     "name": "stdout",
     "output_type": "stream",
     "text": [
      "Total Return: 0.25 %\n",
      "Max Drawdown: 0.0 JPY (0.0 %)\n",
      "Sharpe Ratio: 584298657577740.5\n"
     ]
    }
   ],
   "source": [
    "print(f\"Total Return: {summary['total_return_pct']} %\")\n",
    "print(f\"Max Drawdown: {summary['max_drawdown']} JPY ({summary['max_drawdown_pct']} %)\")\n",
    "print(f\"Sharpe Ratio: {summary['sharpe_ratio']}\")\n"
   ]
  },
  {
   "cell_type": "markdown",
   "id": "a5e8718b",
   "metadata": {},
   "source": [
    "## トレード詳細"
   ]
  },
  {
   "cell_type": "code",
   "execution_count": 10,
   "id": "39709ebe",
   "metadata": {},
   "outputs": [
    {
     "data": {
      "text/html": [
       "<div>\n",
       "<style scoped>\n",
       "    .dataframe tbody tr th:only-of-type {\n",
       "        vertical-align: middle;\n",
       "    }\n",
       "\n",
       "    .dataframe tbody tr th {\n",
       "        vertical-align: top;\n",
       "    }\n",
       "\n",
       "    .dataframe thead th {\n",
       "        text-align: right;\n",
       "    }\n",
       "</style>\n",
       "<table border=\"1\" class=\"dataframe\">\n",
       "  <thead>\n",
       "    <tr style=\"text-align: right;\">\n",
       "      <th></th>\n",
       "      <th>entry_ts</th>\n",
       "      <th>exit_ts</th>\n",
       "      <th>entry_price</th>\n",
       "      <th>exit_price</th>\n",
       "      <th>size</th>\n",
       "      <th>pnl_jpy</th>\n",
       "      <th>reason</th>\n",
       "      <th>duration_bars</th>\n",
       "      <th>entry_fee_jpy</th>\n",
       "      <th>exit_fee_jpy</th>\n",
       "      <th>notional_jpy</th>\n",
       "    </tr>\n",
       "  </thead>\n",
       "  <tbody>\n",
       "    <tr>\n",
       "      <th>0</th>\n",
       "      <td>2025-09-24T20:00:00+09:00</td>\n",
       "      <td>2025-09-25T00:00:00+09:00</td>\n",
       "      <td>428.704245</td>\n",
       "      <td>437.059691</td>\n",
       "      <td>116.688838</td>\n",
       "      <td>823.449769</td>\n",
       "      <td>TP</td>\n",
       "      <td>4</td>\n",
       "      <td>75.03750</td>\n",
       "      <td>76.499981</td>\n",
       "      <td>50000.000000</td>\n",
       "    </tr>\n",
       "    <tr>\n",
       "      <th>1</th>\n",
       "      <td>2025-09-28T04:00:00+09:00</td>\n",
       "      <td>2025-09-29T07:00:00+09:00</td>\n",
       "      <td>418.239015</td>\n",
       "      <td>426.390493</td>\n",
       "      <td>119.707132</td>\n",
       "      <td>824.127839</td>\n",
       "      <td>TP</td>\n",
       "      <td>27</td>\n",
       "      <td>75.09929</td>\n",
       "      <td>76.562975</td>\n",
       "      <td>50041.172488</td>\n",
       "    </tr>\n",
       "    <tr>\n",
       "      <th>2</th>\n",
       "      <td>2025-10-02T08:00:00+09:00</td>\n",
       "      <td>2025-10-03T01:00:00+09:00</td>\n",
       "      <td>434.136960</td>\n",
       "      <td>442.598289</td>\n",
       "      <td>115.418462</td>\n",
       "      <td>824.806467</td>\n",
       "      <td>TP</td>\n",
       "      <td>17</td>\n",
       "      <td>75.16113</td>\n",
       "      <td>76.626021</td>\n",
       "      <td>50082.378880</td>\n",
       "    </tr>\n",
       "  </tbody>\n",
       "</table>\n",
       "</div>"
      ],
      "text/plain": [
       "                    entry_ts                    exit_ts  entry_price  \\\n",
       "0  2025-09-24T20:00:00+09:00  2025-09-25T00:00:00+09:00   428.704245   \n",
       "1  2025-09-28T04:00:00+09:00  2025-09-29T07:00:00+09:00   418.239015   \n",
       "2  2025-10-02T08:00:00+09:00  2025-10-03T01:00:00+09:00   434.136960   \n",
       "\n",
       "   exit_price        size     pnl_jpy reason  duration_bars  entry_fee_jpy  \\\n",
       "0  437.059691  116.688838  823.449769     TP              4       75.03750   \n",
       "1  426.390493  119.707132  824.127839     TP             27       75.09929   \n",
       "2  442.598289  115.418462  824.806467     TP             17       75.16113   \n",
       "\n",
       "   exit_fee_jpy  notional_jpy  \n",
       "0     76.499981  50000.000000  \n",
       "1     76.562975  50041.172488  \n",
       "2     76.626021  50082.378880  "
      ]
     },
     "execution_count": 10,
     "metadata": {},
     "output_type": "execute_result"
    }
   ],
   "source": [
    "trades_df = pd.DataFrame([trade.to_dict() for trade in result.trades])\n",
    "trades_df.head()\n"
   ]
  },
  {
   "cell_type": "markdown",
   "id": "9c54e60e",
   "metadata": {},
   "source": [
    "## ローソク足 + エントリー/イグジット表示"
   ]
  },
  {
   "cell_type": "code",
   "execution_count": 11,
   "id": "b06ead6c",
   "metadata": {},
   "outputs": [
    {
     "data": {
      "image/png": "[encoded data removed]",
      "text/plain": [
       "<Figure size 1200x600 with 1 Axes>"
      ]
     },
     "metadata": {},
     "output_type": "display_data"
    }
   ],
   "source": [
    "# 直近240本を対象にローソク足とトレードタイミングを重ねて表示\n",
    "plot_candles_with_trades(df_with_ma.tail(240), result.trades, title=\"Recent candles with trades\")\n"
   ]
  },
  {
   "cell_type": "markdown",
   "id": "174d8f2c",
   "metadata": {},
   "source": [
    "## エクイティカーブ"
   ]
  },
  {
   "cell_type": "code",
   "execution_count": 12,
   "id": "745bdb4b",
   "metadata": {},
   "outputs": [
    {
     "data": {
      "image/png": "[encoded data removed]",
      "text/plain": [
       "<Figure size 1000x400 with 1 Axes>"
      ]
     },
     "metadata": {},
     "output_type": "display_data"
    }
   ],
   "source": [
    "%matplotlib inline\n",
    "plt.figure(figsize=(10, 4))\n",
    "result.equity_curve.plot()\n",
    "plt.title(\"Equity Curve (JPY)\")\n",
    "plt.ylabel(\"PnL (JPY)\")\n",
    "plt.xlabel(\"Time\")\n",
    "plt.grid(True)\n",
    "plt.show()\n"
   ]
  },
  {
   "cell_type": "markdown",
   "id": "66329a79",
   "metadata": {},
   "source": [
    "## まとめ\n",
    "- `load_cached_ohlcv()` で既存ログを結合。\n",
    "- `run_gc_backtest()` でゴールデンクロス戦略のバックテストを実行。\n",
    "- `result.summary` / `result.trades` / `result.equity_curve` から統計を確認。\n",
    "\n",
    "パラメータを変更しながら繰り返し検証できる。"
   ]
  }
 ],
 "metadata": {
  "kernelspec": {
   "display_name": "Python 3.8.5 ('.venv': venv)",
   "language": "python",
   "name": "python3"
  },
  "language_info": {
   "codemirror_mode": {
    "name": "ipython",
    "version": 3
   },
   "file_extension": ".py",
   "mimetype": "text/x-python",
   "name": "python",
   "nbconvert_exporter": "python",
   "pygments_lexer": "ipython3",
   "version": "3.8.5"
  },
  "vscode": {
   "interpreter": {
    "hash": "077372253d7d4305bc1eb15a35bc78f1ea15321a78a60f276034831b5dca0ac5"
   }
  }
 },
 "nbformat": 4,
 "nbformat_minor": 5
}
